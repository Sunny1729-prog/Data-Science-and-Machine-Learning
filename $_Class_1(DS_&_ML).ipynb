{
  "nbformat": 4,
  "nbformat_minor": 0,
  "metadata": {
    "colab": {
      "name": "$ Class 1(DS & ML).ipynb",
      "provenance": [],
      "collapsed_sections": []
    },
    "kernelspec": {
      "name": "python3",
      "display_name": "Python 3"
    },
    "language_info": {
      "name": "python"
    }
  },
  "cells": [
    {
      "cell_type": "code",
      "execution_count": null,
      "metadata": {
        "id": "KZa-3Fy5b8A2",
        "colab": {
          "base_uri": "https://localhost:8080/"
        },
        "outputId": "42e31bc0-e6ad-4c84-bd4b-0f2dcfe22744"
      },
      "outputs": [
        {
          "output_type": "stream",
          "name": "stdout",
          "text": [
            "Enter the first number: 10\n",
            "Enter the second number: 3\n",
            "\n",
            "10 added to 3 is 13\n",
            "\n",
            "10 minus 3 is 7\n",
            "\n",
            "10 multiplied by 3 is 30\n",
            "\n",
            "10 divided by 3 is 3.3333\n",
            "\n",
            "Floor division of 10 by 3 is 3\n",
            "\n",
            "10 raise to the power 3 is 1000\n",
            "\n",
            "Remainder when 10 is divided by 3 is 1\n"
          ]
        }
      ],
      "source": [
        "#calculator program \n",
        "\n",
        "x = int(input(\"Enter the first number: \"))\n",
        "y = int(input(\"Enter the second number: \"))\n",
        "\n",
        "print(\"\\n{} added to {} is {}\\n\".format(x,y,x+y))\n",
        "print(\"{} minus {} is {}\\n\".format(x,y,x-y))\n",
        "print(\"{} multiplied by {} is {}\\n\".format(x,y,x*y))\n",
        "print(\"{} divided by {} is {:.4f}\\n\".format(x,y,x/y))          #To display only n digits after decimal use, formatted_string = \"{:.nf}\". format(value)\n",
        "print(\"Floor division of {} by {} is {}\\n\".format(x,y,x//y))\n",
        "print(\"{} raise to the power {} is {}\\n\".format(x,y,x**y))\n",
        "print(\"Remainder when {} is divided by {} is {}\".format(x,y,x%y))"
      ]
    },
    {
      "cell_type": "code",
      "source": [
        "''' Checking for \n",
        "multiline \n",
        "comments '''\n",
        "\n",
        "'''print(\"Hello World\")'''"
      ],
      "metadata": {
        "id": "mJ7-MEZx7l_J",
        "colab": {
          "base_uri": "https://localhost:8080/",
          "height": 35
        },
        "outputId": "c9161d80-87bb-46c8-ae59-5b3884becc74"
      },
      "execution_count": null,
      "outputs": [
        {
          "output_type": "execute_result",
          "data": {
            "text/plain": [
              "'print(\"Hello World\")'"
            ],
            "application/vnd.google.colaboratory.intrinsic+json": {
              "type": "string"
            }
          },
          "metadata": {},
          "execution_count": 15
        }
      ]
    },
    {
      "cell_type": "code",
      "source": [
        "\"\"\"print(\"Hello World\")\"\"\""
      ],
      "metadata": {
        "colab": {
          "base_uri": "https://localhost:8080/",
          "height": 35
        },
        "id": "rn6yCEE0NnhG",
        "outputId": "31b52d5c-5eec-4abb-d854-70942d53c6e8"
      },
      "execution_count": null,
      "outputs": [
        {
          "output_type": "execute_result",
          "data": {
            "text/plain": [
              "'print(\"Hello World\")'"
            ],
            "application/vnd.google.colaboratory.intrinsic+json": {
              "type": "string"
            }
          },
          "metadata": {},
          "execution_count": 16
        }
      ]
    },
    {
      "cell_type": "code",
      "source": [
        "'''comment'''"
      ],
      "metadata": {
        "colab": {
          "base_uri": "https://localhost:8080/",
          "height": 35
        },
        "id": "gsVkhIuXS4EB",
        "outputId": "d8516f88-26d3-42f5-94f3-3b1349a2c9ca"
      },
      "execution_count": null,
      "outputs": [
        {
          "output_type": "execute_result",
          "data": {
            "text/plain": [
              "'comment'"
            ],
            "application/vnd.google.colaboratory.intrinsic+json": {
              "type": "string"
            }
          },
          "metadata": {},
          "execution_count": 30
        }
      ]
    },
    {
      "cell_type": "code",
      "source": [
        "#String object that why gets printed, not a comment\n",
        "\n",
        "'''Checking for\n",
        "multiline\n",
        "comments'''\n"
      ],
      "metadata": {
        "colab": {
          "base_uri": "https://localhost:8080/",
          "height": 35
        },
        "id": "MWwsUVngOJe3",
        "outputId": "0be5b93d-5bc9-419a-c57d-5d069474ab83"
      },
      "execution_count": null,
      "outputs": [
        {
          "output_type": "execute_result",
          "data": {
            "text/plain": [
              "'Checking for\\nmultiline\\ncomments'"
            ],
            "application/vnd.google.colaboratory.intrinsic+json": {
              "type": "string"
            }
          },
          "metadata": {},
          "execution_count": 45
        }
      ]
    },
    {
      "cell_type": "code",
      "source": [
        ""
      ],
      "metadata": {
        "id": "sboMPPoUS9oB"
      },
      "execution_count": null,
      "outputs": []
    },
    {
      "cell_type": "code",
      "source": [
        "#Multiline statements\n",
        "\n",
        "print(\"Good old cycles \\\n",
        "are much better than \\\n",
        "motorbikes\")"
      ],
      "metadata": {
        "colab": {
          "base_uri": "https://localhost:8080/"
        },
        "id": "fYKe7B1hORYg",
        "outputId": "3a80e313-16c9-41d9-efc5-7a2c9b72290c"
      },
      "execution_count": null,
      "outputs": [
        {
          "output_type": "stream",
          "name": "stdout",
          "text": [
            "Good old cycles are much better than motorbikes\n"
          ]
        }
      ]
    },
    {
      "cell_type": "code",
      "source": [
        "print(complex(10))\n"
      ],
      "metadata": {
        "colab": {
          "base_uri": "https://localhost:8080/"
        },
        "id": "HMDQ8yiIOmLJ",
        "outputId": "bfe99148-6ad3-41d2-a76a-16f1ae862496"
      },
      "execution_count": null,
      "outputs": [
        {
          "output_type": "stream",
          "name": "stdout",
          "text": [
            "(10+0j)\n"
          ]
        }
      ]
    },
    {
      "cell_type": "code",
      "source": [
        "print(int(10+2j))"
      ],
      "metadata": {
        "colab": {
          "base_uri": "https://localhost:8080/",
          "height": 165
        },
        "id": "ywfL4sjPQYs9",
        "outputId": "ac486a2b-95bf-40e8-a844-419d2300c7e0"
      },
      "execution_count": null,
      "outputs": [
        {
          "output_type": "error",
          "ename": "TypeError",
          "evalue": "ignored",
          "traceback": [
            "\u001b[0;31m---------------------------------------------------------------------------\u001b[0m",
            "\u001b[0;31mTypeError\u001b[0m                                 Traceback (most recent call last)",
            "\u001b[0;32m<ipython-input-21-1627c7991d3b>\u001b[0m in \u001b[0;36m<module>\u001b[0;34m()\u001b[0m\n\u001b[0;32m----> 1\u001b[0;31m \u001b[0mprint\u001b[0m\u001b[0;34m(\u001b[0m\u001b[0mint\u001b[0m\u001b[0;34m(\u001b[0m\u001b[0;36m10\u001b[0m\u001b[0;34m+\u001b[0m\u001b[0;36m2j\u001b[0m\u001b[0;34m)\u001b[0m\u001b[0;34m)\u001b[0m\u001b[0;34m\u001b[0m\u001b[0;34m\u001b[0m\u001b[0m\n\u001b[0m",
            "\u001b[0;31mTypeError\u001b[0m: can't convert complex to int"
          ]
        }
      ]
    },
    {
      "cell_type": "code",
      "source": [
        "yr=34+89j\n",
        "dr=23-88j\n",
        "f'The sum is {yr+dr}'"
      ],
      "metadata": {
        "colab": {
          "base_uri": "https://localhost:8080/",
          "height": 35
        },
        "id": "0Vy5RCd7Qe1F",
        "outputId": "30402b61-898c-485e-82aa-66ee773bdce1"
      },
      "execution_count": null,
      "outputs": [
        {
          "output_type": "execute_result",
          "data": {
            "text/plain": [
              "'The sum is (57+1j)'"
            ],
            "application/vnd.google.colaboratory.intrinsic+json": {
              "type": "string"
            }
          },
          "metadata": {},
          "execution_count": 29
        }
      ]
    },
    {
      "cell_type": "markdown",
      "source": [
        "##***f-style strings (Introduced in python 3.6)***\n",
        "\n",
        "Also called “formatted string literals,” f-strings are string literals that have an f at the beginning and curly braces containing expressions that will be replaced with their values. The expressions are evaluated at runtime and then formatted using the __format__ protocol.\n",
        "\n",
        "```\n",
        ">>> name = \"Sunny\"\n",
        ">>> age = 20\n",
        ">>> f\"Hello, {name}. You are {age}.\"\n",
        "'Hello, Sunny. You are 20.'\n",
        "\n",
        "```\n",
        "Note: Single quotes and capital F is also fine.\n"
      ],
      "metadata": {
        "id": "z0DJ0s00T9S-"
      }
    },
    {
      "cell_type": "code",
      "source": [
        "x=10\n",
        "y=10\n",
        "x is y"
      ],
      "metadata": {
        "colab": {
          "base_uri": "https://localhost:8080/"
        },
        "id": "4gUBg_oEQvv7",
        "outputId": "8abc8e2a-8a3f-499c-fce6-be26b037fe57"
      },
      "execution_count": null,
      "outputs": [
        {
          "output_type": "execute_result",
          "data": {
            "text/plain": [
              "True"
            ]
          },
          "metadata": {},
          "execution_count": 34
        }
      ]
    },
    {
      "cell_type": "code",
      "source": [
        "x=10\n",
        "y='10'\n",
        "x is y"
      ],
      "metadata": {
        "colab": {
          "base_uri": "https://localhost:8080/"
        },
        "id": "2Ea5EFxQXSDE",
        "outputId": "1474a4f4-deb1-4fff-baba-7e15221ff33a"
      },
      "execution_count": null,
      "outputs": [
        {
          "output_type": "execute_result",
          "data": {
            "text/plain": [
              "False"
            ]
          },
          "metadata": {},
          "execution_count": 35
        }
      ]
    },
    {
      "cell_type": "code",
      "source": [
        "name = \"Sunny\"\n",
        "age = 20\n",
        "f\"Hello, {name}. You are {age}.\"\n",
        "name = \"Satan\"\n",
        "age = 200\n",
        "f\"Hello, {name}. You are {age}.\"\n"
      ],
      "metadata": {
        "colab": {
          "base_uri": "https://localhost:8080/",
          "height": 35
        },
        "id": "aLTk7lANXyw1",
        "outputId": "62544cff-2746-49e4-c014-8e8ab2a94899"
      },
      "execution_count": null,
      "outputs": [
        {
          "output_type": "execute_result",
          "data": {
            "text/plain": [
              "'Hello, Satan. You are 200.'"
            ],
            "application/vnd.google.colaboratory.intrinsic+json": {
              "type": "string"
            }
          },
          "metadata": {},
          "execution_count": 42
        }
      ]
    },
    {
      "cell_type": "code",
      "source": [
        ""
      ],
      "metadata": {
        "id": "iaUptZKla8l-"
      },
      "execution_count": null,
      "outputs": []
    }
  ]
}