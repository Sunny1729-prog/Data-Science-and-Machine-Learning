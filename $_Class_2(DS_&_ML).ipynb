{
  "nbformat": 4,
  "nbformat_minor": 0,
  "metadata": {
    "colab": {
      "name": "$ Class 2(DS & ML).ipynb",
      "provenance": [],
      "collapsed_sections": [],
      "authorship_tag": "ABX9TyP8J3g5itj5z0+WiiRbzkbd",
      "include_colab_link": true
    },
    "kernelspec": {
      "name": "python3",
      "display_name": "Python 3"
    },
    "language_info": {
      "name": "python"
    }
  },
  "cells": [
    {
      "cell_type": "markdown",
      "metadata": {
        "id": "view-in-github",
        "colab_type": "text"
      },
      "source": [
        "<a href=\"https://colab.research.google.com/github/Sunny1729-prog/Data-Science-and-Machine-Learning/blob/main/%24_Class_2(DS_%26_ML).ipynb\" target=\"_parent\"><img src=\"https://colab.research.google.com/assets/colab-badge.svg\" alt=\"Open In Colab\"/></a>"
      ]
    },
    {
      "cell_type": "code",
      "execution_count": null,
      "metadata": {
        "colab": {
          "base_uri": "https://localhost:8080/"
        },
        "id": "gRSfxzisitJP",
        "outputId": "5deefd64-e3af-4181-d473-fa3c3402d671"
      },
      "outputs": [
        {
          "output_type": "stream",
          "name": "stdout",
          "text": [
            "Enter a number: 20\n",
            "Number is positive\n"
          ]
        }
      ],
      "source": [
        "x=int(input(\"Enter a number: \"))\n",
        "\n",
        "if x>0 :\n",
        "  print(\"Number is positive\")\n",
        "elif x<0 :\n",
        "  print(\"Number is negative\")\n",
        "else :\n",
        "  print(\"Number is zero\")"
      ]
    },
    {
      "cell_type": "markdown",
      "source": [
        "### A dictionary key must be an immutable data type like numbers, strings and tuples.\n",
        "\n",
        "### Values can be a list, a dictionary, a set, a tuple or general data types "
      ],
      "metadata": {
        "id": "n2pPJcGP0YRi"
      }
    },
    {
      "cell_type": "code",
      "source": [
        "x={'buy':[12,34,45], 'collection':{\"sunny\",\"raj\",None,False}, 'bill':(23,56,78), 'Hist':{'A':34, 'B':56, 'C':23}}\n",
        "x\n"
      ],
      "metadata": {
        "colab": {
          "base_uri": "https://localhost:8080/"
        },
        "outputId": "6d749343-73ea-47a8-f81d-407763a7fd77",
        "id": "1E3zjJrg5dvn"
      },
      "execution_count": null,
      "outputs": [
        {
          "output_type": "execute_result",
          "data": {
            "text/plain": [
              "{'Hist': {'A': 34, 'B': 56, 'C': 23},\n",
              " 'bill': (23, 56, 78),\n",
              " 'buy': [12, 34, 45],\n",
              " 'collection': {False, None, 'raj', 'sunny'}}"
            ]
          },
          "metadata": {},
          "execution_count": 36
        }
      ]
    },
    {
      "cell_type": "code",
      "source": [
        "#Python is a case sensitive language\n",
        "\n",
        "Name = 'Sunny'\n",
        "name = 'Raj'\n",
        "\n",
        "f'{Name}'"
      ],
      "metadata": {
        "id": "s6WDMLWj6Z6m",
        "colab": {
          "base_uri": "https://localhost:8080/",
          "height": 35
        },
        "outputId": "222669b2-1090-4d25-b086-78f761c06cdb"
      },
      "execution_count": null,
      "outputs": [
        {
          "output_type": "execute_result",
          "data": {
            "text/plain": [
              "'Sunny'"
            ],
            "application/vnd.google.colaboratory.intrinsic+json": {
              "type": "string"
            }
          },
          "metadata": {},
          "execution_count": 6
        }
      ]
    },
    {
      "cell_type": "code",
      "source": [
        "x = [1,2]\n",
        "x.append(3)\n",
        "print(x)"
      ],
      "metadata": {
        "colab": {
          "base_uri": "https://localhost:8080/"
        },
        "id": "LbcaDKfK02qY",
        "outputId": "1a25b6f4-1680-46b7-cf8e-813aba09ca2a"
      },
      "execution_count": null,
      "outputs": [
        {
          "output_type": "stream",
          "name": "stdout",
          "text": [
            "[1, 2, 3]\n"
          ]
        }
      ]
    },
    {
      "cell_type": "code",
      "source": [
        "x = [29,17,19]\n",
        "x.append(45)\n",
        "x\n"
      ],
      "metadata": {
        "colab": {
          "base_uri": "https://localhost:8080/"
        },
        "id": "2guJquyF48Kx",
        "outputId": "0d612af3-0f6f-4c68-ce27-78fdebde3439"
      },
      "execution_count": null,
      "outputs": [
        {
          "output_type": "execute_result",
          "data": {
            "text/plain": [
              "[29, 17, 19, 45]"
            ]
          },
          "metadata": {},
          "execution_count": 17
        }
      ]
    },
    {
      "cell_type": "code",
      "source": [
        "# Doubt\n",
        "#Solution : Self referencing list\n",
        "\n",
        "x=[1]\n",
        "x.append(x)\n",
        "x"
      ],
      "metadata": {
        "colab": {
          "base_uri": "https://localhost:8080/"
        },
        "id": "pzQzgZG55n7e",
        "outputId": "183e8215-a355-40b9-a9eb-71df4c8c7773"
      },
      "execution_count": null,
      "outputs": [
        {
          "output_type": "execute_result",
          "data": {
            "text/plain": [
              "[1, [...]]"
            ]
          },
          "metadata": {},
          "execution_count": 10
        }
      ]
    },
    {
      "cell_type": "code",
      "source": [
        "x=[23,34,21]\n",
        "y=[1,2,3]\n",
        "x.append(y)\n",
        "x"
      ],
      "metadata": {
        "colab": {
          "base_uri": "https://localhost:8080/"
        },
        "id": "PwEq_qia6J6G",
        "outputId": "30281cdf-dd93-4cb1-9005-3faaeed76b69"
      },
      "execution_count": null,
      "outputs": [
        {
          "output_type": "execute_result",
          "data": {
            "text/plain": [
              "[23, 34, 21, [1, 2, 3]]"
            ]
          },
          "metadata": {},
          "execution_count": 26
        }
      ]
    },
    {
      "cell_type": "code",
      "source": [
        "x=[23,34,21]\n",
        "y=[1,2,3]\n",
        "x.extend(y)\n",
        "x"
      ],
      "metadata": {
        "colab": {
          "base_uri": "https://localhost:8080/"
        },
        "id": "ex_gFRsj6ca8",
        "outputId": "eb7a1cd8-bfd1-4869-9ad9-4082b68ac062"
      },
      "execution_count": null,
      "outputs": [
        {
          "output_type": "execute_result",
          "data": {
            "text/plain": [
              "[23, 34, 21, 1, 2, 3]"
            ]
          },
          "metadata": {},
          "execution_count": 27
        }
      ]
    },
    {
      "cell_type": "code",
      "source": [
        "x=[23,43,12,67]\n",
        "x.reverse()\n",
        "x"
      ],
      "metadata": {
        "colab": {
          "base_uri": "https://localhost:8080/"
        },
        "id": "_54qzntZ6lN3",
        "outputId": "e9b265fa-b03b-4251-8b8d-531dbe7dce6e"
      },
      "execution_count": null,
      "outputs": [
        {
          "output_type": "execute_result",
          "data": {
            "text/plain": [
              "[67, 12, 43, 23]"
            ]
          },
          "metadata": {},
          "execution_count": 29
        }
      ]
    },
    {
      "cell_type": "code",
      "source": [
        "x=[23,43,12,67]\n",
        "x.sort()\n",
        "x"
      ],
      "metadata": {
        "colab": {
          "base_uri": "https://localhost:8080/"
        },
        "id": "zidKg7UC7LXC",
        "outputId": "ce3b74f7-8f90-4dd9-bf70-f398126e84a9"
      },
      "execution_count": null,
      "outputs": [
        {
          "output_type": "execute_result",
          "data": {
            "text/plain": [
              "[12, 23, 43, 67]"
            ]
          },
          "metadata": {},
          "execution_count": 31
        }
      ]
    },
    {
      "cell_type": "code",
      "source": [
        "x=[23,43,12,67]\n",
        "y=min(x)\n",
        "y"
      ],
      "metadata": {
        "colab": {
          "base_uri": "https://localhost:8080/"
        },
        "id": "2xaFH2fg7RoP",
        "outputId": "3a75feaa-89bf-4e3f-a661-0c1456595d6c"
      },
      "execution_count": null,
      "outputs": [
        {
          "output_type": "execute_result",
          "data": {
            "text/plain": [
              "12"
            ]
          },
          "metadata": {},
          "execution_count": 33
        }
      ]
    },
    {
      "cell_type": "code",
      "source": [
        "x=[23,43,12,67]\n",
        "max(x)"
      ],
      "metadata": {
        "colab": {
          "base_uri": "https://localhost:8080/"
        },
        "id": "zj-qowvZ7XrN",
        "outputId": "43126480-2954-4dfc-e72a-f324895ee58f"
      },
      "execution_count": null,
      "outputs": [
        {
          "output_type": "execute_result",
          "data": {
            "text/plain": [
              "67"
            ]
          },
          "metadata": {},
          "execution_count": 38
        }
      ]
    },
    {
      "cell_type": "code",
      "source": [
        "x=[23,43,12,67]\n",
        "y=x[1:3]\n",
        "y"
      ],
      "metadata": {
        "colab": {
          "base_uri": "https://localhost:8080/"
        },
        "id": "21xVFzYq7v5_",
        "outputId": "113e38ce-5bc5-4c5f-c136-3f33115fe12f"
      },
      "execution_count": null,
      "outputs": [
        {
          "output_type": "execute_result",
          "data": {
            "text/plain": [
              "[43, 12]"
            ]
          },
          "metadata": {},
          "execution_count": 42
        }
      ]
    },
    {
      "cell_type": "code",
      "source": [
        "x=[23,43,12,67]\n",
        "len(x)"
      ],
      "metadata": {
        "colab": {
          "base_uri": "https://localhost:8080/"
        },
        "id": "OLCBEJIy8EfC",
        "outputId": "b80682a0-5db0-4bde-b70a-dae9c9c73950"
      },
      "execution_count": null,
      "outputs": [
        {
          "output_type": "execute_result",
          "data": {
            "text/plain": [
              "4"
            ]
          },
          "metadata": {},
          "execution_count": 43
        }
      ]
    },
    {
      "cell_type": "code",
      "source": [
        "#Doubt\n",
        "#Solution: 'is' operator checks for whether two values are in the same \n",
        "#          memory location\n",
        "\n",
        "x=[23,43,12,67]\n",
        "y=[23,43,12,67]\n",
        "x is y"
      ],
      "metadata": {
        "colab": {
          "base_uri": "https://localhost:8080/"
        },
        "id": "lvvultFL8JT2",
        "outputId": "84892afa-6341-4390-ca12-80de1bb3bbf7"
      },
      "execution_count": null,
      "outputs": [
        {
          "output_type": "execute_result",
          "data": {
            "text/plain": [
              "False"
            ]
          },
          "metadata": {},
          "execution_count": 47
        }
      ]
    },
    {
      "cell_type": "code",
      "source": [
        "x=[23,43,12,67]\n",
        "x.insert(2,100)\n",
        "x"
      ],
      "metadata": {
        "colab": {
          "base_uri": "https://localhost:8080/"
        },
        "id": "Qe8XI0AI8gGM",
        "outputId": "d2b7792b-e1f1-4da8-cd45-99a02f189cf6"
      },
      "execution_count": null,
      "outputs": [
        {
          "output_type": "execute_result",
          "data": {
            "text/plain": [
              "[23, 43, 100, 12, 67]"
            ]
          },
          "metadata": {},
          "execution_count": 49
        }
      ]
    },
    {
      "cell_type": "code",
      "source": [
        "x=(23,43,12,67)\n",
        "x[3]=90\n",
        "x"
      ],
      "metadata": {
        "colab": {
          "base_uri": "https://localhost:8080/",
          "height": 200
        },
        "id": "k6ylc6HE8vLU",
        "outputId": "3f39e51e-9754-4a85-f934-9782d8c86840"
      },
      "execution_count": null,
      "outputs": [
        {
          "output_type": "error",
          "ename": "TypeError",
          "evalue": "ignored",
          "traceback": [
            "\u001b[0;31m---------------------------------------------------------------------------\u001b[0m",
            "\u001b[0;31mTypeError\u001b[0m                                 Traceback (most recent call last)",
            "\u001b[0;32m<ipython-input-51-f5c050dc0a2f>\u001b[0m in \u001b[0;36m<module>\u001b[0;34m()\u001b[0m\n\u001b[1;32m      1\u001b[0m \u001b[0mx\u001b[0m\u001b[0;34m=\u001b[0m\u001b[0;34m(\u001b[0m\u001b[0;36m23\u001b[0m\u001b[0;34m,\u001b[0m\u001b[0;36m43\u001b[0m\u001b[0;34m,\u001b[0m\u001b[0;36m12\u001b[0m\u001b[0;34m,\u001b[0m\u001b[0;36m67\u001b[0m\u001b[0;34m)\u001b[0m\u001b[0;34m\u001b[0m\u001b[0;34m\u001b[0m\u001b[0m\n\u001b[0;32m----> 2\u001b[0;31m \u001b[0mx\u001b[0m\u001b[0;34m[\u001b[0m\u001b[0;36m3\u001b[0m\u001b[0;34m]\u001b[0m\u001b[0;34m=\u001b[0m\u001b[0;36m90\u001b[0m\u001b[0;34m\u001b[0m\u001b[0;34m\u001b[0m\u001b[0m\n\u001b[0m\u001b[1;32m      3\u001b[0m \u001b[0mx\u001b[0m\u001b[0;34m\u001b[0m\u001b[0;34m\u001b[0m\u001b[0m\n",
            "\u001b[0;31mTypeError\u001b[0m: 'tuple' object does not support item assignment"
          ]
        }
      ]
    },
    {
      "cell_type": "code",
      "source": [
        "x=(23,43,12,67)\n",
        "y=list(x)\n",
        "y[3]=100\n",
        "y"
      ],
      "metadata": {
        "colab": {
          "base_uri": "https://localhost:8080/"
        },
        "id": "gRFoCKqH9JU2",
        "outputId": "036ac3d7-515d-4287-e791-ad382e192170"
      },
      "execution_count": null,
      "outputs": [
        {
          "output_type": "execute_result",
          "data": {
            "text/plain": [
              "[23, 43, 12, 100]"
            ]
          },
          "metadata": {},
          "execution_count": 61
        }
      ]
    },
    {
      "cell_type": "markdown",
      "source": [
        "\n",
        "###*   Lists, Dictionary, Sets are mutable\n",
        "###*   Tuples, Strings are immutable\n"
      ],
      "metadata": {
        "id": "aHHkfzXQ-n87"
      }
    },
    {
      "cell_type": "code",
      "source": [
        "#Doubt\n",
        "x = {\"sunny\",28,59,\"awk\",[2,5,54]}\n",
        "x.add(654)\n",
        "x"
      ],
      "metadata": {
        "colab": {
          "base_uri": "https://localhost:8080/",
          "height": 217
        },
        "id": "iPbILsHB-mxl",
        "outputId": "4c7b2eb5-acc6-47f4-903b-815455a1c9e8"
      },
      "execution_count": null,
      "outputs": [
        {
          "output_type": "error",
          "ename": "TypeError",
          "evalue": "ignored",
          "traceback": [
            "\u001b[0;31m---------------------------------------------------------------------------\u001b[0m",
            "\u001b[0;31mTypeError\u001b[0m                                 Traceback (most recent call last)",
            "\u001b[0;32m<ipython-input-11-4fbddc1e9ab2>\u001b[0m in \u001b[0;36m<module>\u001b[0;34m()\u001b[0m\n\u001b[1;32m      1\u001b[0m \u001b[0;31m#Doubt\u001b[0m\u001b[0;34m\u001b[0m\u001b[0;34m\u001b[0m\u001b[0;34m\u001b[0m\u001b[0m\n\u001b[0;32m----> 2\u001b[0;31m \u001b[0mx\u001b[0m \u001b[0;34m=\u001b[0m \u001b[0;34m{\u001b[0m\u001b[0;34m\"sunny\"\u001b[0m\u001b[0;34m,\u001b[0m\u001b[0;36m28\u001b[0m\u001b[0;34m,\u001b[0m\u001b[0;36m59\u001b[0m\u001b[0;34m,\u001b[0m\u001b[0;34m\"awk\"\u001b[0m\u001b[0;34m,\u001b[0m\u001b[0;34m[\u001b[0m\u001b[0;36m2\u001b[0m\u001b[0;34m,\u001b[0m\u001b[0;36m5\u001b[0m\u001b[0;34m,\u001b[0m\u001b[0;36m54\u001b[0m\u001b[0;34m]\u001b[0m\u001b[0;34m}\u001b[0m\u001b[0;34m\u001b[0m\u001b[0;34m\u001b[0m\u001b[0m\n\u001b[0m\u001b[1;32m      3\u001b[0m \u001b[0mx\u001b[0m\u001b[0;34m.\u001b[0m\u001b[0madd\u001b[0m\u001b[0;34m(\u001b[0m\u001b[0;36m654\u001b[0m\u001b[0;34m)\u001b[0m\u001b[0;34m\u001b[0m\u001b[0;34m\u001b[0m\u001b[0m\n\u001b[1;32m      4\u001b[0m \u001b[0mx\u001b[0m\u001b[0;34m\u001b[0m\u001b[0;34m\u001b[0m\u001b[0m\n",
            "\u001b[0;31mTypeError\u001b[0m: unhashable type: 'list'"
          ]
        }
      ]
    },
    {
      "cell_type": "markdown",
      "source": [
        "###A set cannot have mutable elements like a list or dictionary.\n",
        "\n",
        "###A set itself is mutable but elements inside are not thats why a set cannot \n",
        "###have mutable elements list or dictionary."
      ],
      "metadata": {
        "id": "WdVcA38CqmgJ"
      }
    },
    {
      "cell_type": "code",
      "source": [
        "x=([1,2,3],\"Sunny\",\"god\",45.5,100)\n",
        "x[0][1]=466\n",
        "x\n"
      ],
      "metadata": {
        "colab": {
          "base_uri": "https://localhost:8080/"
        },
        "id": "YTo9bJnnq8aF",
        "outputId": "89671692-1c6a-4fda-e80e-d6ae0a6d26b7"
      },
      "execution_count": null,
      "outputs": [
        {
          "output_type": "execute_result",
          "data": {
            "text/plain": [
              "([1, 466, 3], 'Sunny', 'god', 45.5, 100)"
            ]
          },
          "metadata": {},
          "execution_count": 13
        }
      ]
    },
    {
      "cell_type": "code",
      "source": [
        "x=(\"sunny\",\"raj\",23,879,{'buscuit':34, 'cake':3, 'Drinks':20})\n",
        "x[4]['buscuit']=100\n",
        "x"
      ],
      "metadata": {
        "colab": {
          "base_uri": "https://localhost:8080/"
        },
        "id": "CUYpIaaKsOWj",
        "outputId": "8c1ebd2f-49df-4812-9e4d-517549e02168"
      },
      "execution_count": null,
      "outputs": [
        {
          "output_type": "execute_result",
          "data": {
            "text/plain": [
              "('sunny', 'raj', 23, 879, {'Drinks': 20, 'buscuit': 100, 'cake': 3})"
            ]
          },
          "metadata": {},
          "execution_count": 22
        }
      ]
    },
    {
      "cell_type": "markdown",
      "source": [
        "###A tuple is itself immutable hence elements inside it cannot added, \n",
        "###removed and updated. But elements itself need not be immutable. A tuple \n",
        "###can contain mutable elements like lists, dictionary or sets."
      ],
      "metadata": {
        "id": "nSNarcLkuOGx"
      }
    },
    {
      "cell_type": "code",
      "source": [
        "x=(\"Sunny\",\"Raj\",{\"Sunny\",34,True,None})\n",
        "x[2].add(999)\n",
        "x\n"
      ],
      "metadata": {
        "colab": {
          "base_uri": "https://localhost:8080/"
        },
        "id": "2XTifILpuM9_",
        "outputId": "9a1004be-9734-4892-c36c-0006497671ad"
      },
      "execution_count": null,
      "outputs": [
        {
          "output_type": "execute_result",
          "data": {
            "text/plain": [
              "('Sunny', 'Raj', {34, 999, None, 'Sunny', True})"
            ]
          },
          "metadata": {},
          "execution_count": 26
        }
      ]
    },
    {
      "cell_type": "markdown",
      "source": [
        "###Lists,Tuples are ordered means we can random access them using indexing.\n",
        "###Sets,Dictionaries are unordered, we cannot random access them."
      ],
      "metadata": {
        "id": "uwehdvIBwo7D"
      }
    },
    {
      "cell_type": "code",
      "source": [
        "x=[(1,2,3),{'buscuit':34, 'cake':3, 'Drinks':20},{\"Sunny\",34,True,None},[43,56,12],\"Sunny\",\"god\"]\n",
        "x[1]['cake']=5\n",
        "x[3][1]=x[3][2]+x[3][0]\n",
        "print('\\n',x[0][2],'\\n')\n",
        "print(\"The list is:\\n\\n\",x)"
      ],
      "metadata": {
        "colab": {
          "base_uri": "https://localhost:8080/"
        },
        "id": "CZYOHNZnxdW0",
        "outputId": "972c5bbe-ab43-40e4-8708-48e24f43508c"
      },
      "execution_count": null,
      "outputs": [
        {
          "output_type": "stream",
          "name": "stdout",
          "text": [
            "\n",
            " 3 \n",
            "\n",
            "The list is:\n",
            "\n",
            " [(1, 2, 3), {'buscuit': 34, 'cake': 5, 'Drinks': 20}, {True, 'Sunny', None, 34}, [43, 55, 12], 'Sunny', 'god']\n"
          ]
        }
      ]
    },
    {
      "cell_type": "markdown",
      "source": [
        ""
      ],
      "metadata": {
        "id": "0RRlaP7C1PYF"
      }
    },
    {
      "cell_type": "markdown",
      "source": [
        "###Lists are the most flexible among the various python data structures. We can \n",
        "### have lists inside list, dictionaries inside list, tuples inside list, sets\n",
        "###inside lists and any other data types. We can random access them and then \n",
        "###apply properties particular to sets, dictionaries, tuples or strings, etc.  "
      ],
      "metadata": {
        "id": "NGKRW6GI0P6G"
      }
    },
    {
      "cell_type": "code",
      "source": [
        "#Assignment 1\n",
        "\n",
        "while (True):\n",
        "  try:\n",
        "    x=int(input(\"Enter the marks of student: \"))\n",
        "    if(not(x>=0 and x<=100)):\n",
        "      print(\"\\nPlease enter a number between 0 and 100(both inclusive)\\n\")\n",
        "    if (x>80 and x<=100):\n",
        "      print(\"\\nGrade acquired is: A\")\n",
        "      break\n",
        "    elif (x>60 and x<=80):\n",
        "      print(\"\\nGrade acquired is: B\")\n",
        "      break\n",
        "    elif (x>50 and x<=60):\n",
        "      print(\"\\nGrade acquired is: C\")\n",
        "      break\n",
        "    elif (x>45 and x<=50):\n",
        "      print(\"\\nGrade acquired is: D\")\n",
        "      break\n",
        "    elif (x>25 and x<=45):\n",
        "     print(\"\\nGrade acquired is: E\")\n",
        "     break\n",
        "    elif (x>=0 and x<=25) :\n",
        "      print(\"\\nGrade acquired is: F\")\n",
        "      break\n",
        "  except:\n",
        "    print(\"\\nPlease enter a valid input!\\n\")\n",
        "\n",
        "\n"
      ],
      "metadata": {
        "colab": {
          "base_uri": "https://localhost:8080/"
        },
        "id": "9SNaY26I5vh5",
        "outputId": "d162193f-154e-4f3d-8e74-08ea0aa4e4ed"
      },
      "execution_count": null,
      "outputs": [
        {
          "output_type": "stream",
          "name": "stdout",
          "text": [
            "Enter the marks of student: 89\n",
            "\n",
            "Grade acquired is: A\n"
          ]
        }
      ]
    },
    {
      "cell_type": "code",
      "source": [
        "#Assignment 2\n",
        "\n",
        "print(\"Even numbers between 50 and 100(both inclusive):\\n\")\n",
        "\n",
        "x=50\n",
        "while(x<=100):\n",
        "  print(x,end=\" \")\n",
        "  x+=2\n"
      ],
      "metadata": {
        "colab": {
          "base_uri": "https://localhost:8080/"
        },
        "id": "yTRy7twHGRNE",
        "outputId": "ef9689d6-09f1-40d5-f48e-4eab06561734"
      },
      "execution_count": null,
      "outputs": [
        {
          "output_type": "stream",
          "name": "stdout",
          "text": [
            "Even numbers between 50 and 100(both inclusive):\n",
            "\n",
            "50 52 54 56 58 60 62 64 66 68 70 72 74 76 78 80 82 84 86 88 90 92 94 96 98 100 "
          ]
        }
      ]
    },
    {
      "cell_type": "code",
      "source": [
        "#Assignment 3\n",
        "\n",
        "while (True):\n",
        "  try:\n",
        "    x=int(input(\"Enter a number: \"))\n",
        "    if (x%2==0) :\n",
        "      print(\"\\nNumber is even!\")\n",
        "      break\n",
        "    else:\n",
        "      print(\"\\nNumber is odd!\")\n",
        "      break\n",
        "  except:\n",
        "    print(\"\\nPlease enter a valid input!\\n\")"
      ],
      "metadata": {
        "colab": {
          "base_uri": "https://localhost:8080/"
        },
        "id": "DoqMtT4bJlSx",
        "outputId": "b6a169a7-2e55-411c-d1d7-0b00eb8d6944"
      },
      "execution_count": null,
      "outputs": [
        {
          "output_type": "stream",
          "name": "stdout",
          "text": [
            "Enter a number: l\n",
            "\n",
            "Please enter a valid input!\n",
            "\n",
            "Enter a number: ty\n",
            "\n",
            "Please enter a valid input!\n",
            "\n",
            "Enter a number: 56\n",
            "\n",
            "Number is even!\n"
          ]
        }
      ]
    },
    {
      "cell_type": "code",
      "source": [
        "#Assignment 4\n",
        "\n",
        "x=list()\n",
        "\n",
        "z=0\n",
        "while(z<10):\n",
        "  x.append(int(input(\"Enter a number: \")))\n",
        "  z+=1\n",
        "\n",
        "x"
      ],
      "metadata": {
        "colab": {
          "base_uri": "https://localhost:8080/"
        },
        "id": "-9DHpDU8r7_b",
        "outputId": "aa4286af-f2b1-43a5-fd0e-7ab18059e3a0"
      },
      "execution_count": null,
      "outputs": [
        {
          "name": "stdout",
          "output_type": "stream",
          "text": [
            "Enter a number: 1\n",
            "Enter a number: 2\n",
            "Enter a number: 3\n",
            "Enter a number: 4\n",
            "Enter a number: 5\n",
            "Enter a number: 6\n",
            "Enter a number: 7\n",
            "Enter a number: 8\n",
            "Enter a number: 9\n",
            "Enter a number: 10\n"
          ]
        },
        {
          "output_type": "execute_result",
          "data": {
            "text/plain": [
              "[1, 2, 3, 4, 5, 6, 7, 8, 9, 10]"
            ]
          },
          "metadata": {},
          "execution_count": 8
        }
      ]
    },
    {
      "cell_type": "code",
      "source": [
        "#input().split()\n",
        "x=list() #x=[]\n",
        "\n",
        "x.extend(input(\"Enter items with sapces between them: \").split())\n",
        "\n",
        "x"
      ],
      "metadata": {
        "colab": {
          "base_uri": "https://localhost:8080/"
        },
        "id": "HL5mNcxr9gEW",
        "outputId": "9c02ec1b-949d-4f31-f2f2-79ce6e7aec5a"
      },
      "execution_count": null,
      "outputs": [
        {
          "name": "stdout",
          "output_type": "stream",
          "text": [
            "Enter items with sapces between them: Sunny Kumar\n"
          ]
        },
        {
          "output_type": "execute_result",
          "data": {
            "text/plain": [
              "['Sunny', 'Kumar']"
            ]
          },
          "metadata": {},
          "execution_count": 17
        }
      ]
    },
    {
      "cell_type": "code",
      "source": [
        "#a basic python function\n",
        "\n",
        "def add(a,b):\n",
        "  return a+b\n",
        "\n",
        "print(add(2,3))"
      ],
      "metadata": {
        "colab": {
          "base_uri": "https://localhost:8080/"
        },
        "id": "k07ogRDyCtc0",
        "outputId": "145d8ea5-00c8-4291-9dae-a78bf003da29"
      },
      "execution_count": null,
      "outputs": [
        {
          "output_type": "stream",
          "name": "stdout",
          "text": [
            "5\n"
          ]
        }
      ]
    },
    {
      "cell_type": "code",
      "source": [
        "#Class activity\n",
        "\n",
        "x=int(input(\"Enter the minimum limit: \"))\n",
        "y=int(input(\"Enter the maximum limit: \"))\n",
        "\n",
        "if (x%2 == 0):\n",
        "  while(x<y):\n",
        "    print(x+1,end=\" \")\n",
        "    x+=2\n",
        "else :\n",
        "  while(x<=y):\n",
        "    print(x,end=\" \")\n",
        "    x+=2\n"
      ],
      "metadata": {
        "id": "SlXRN3u7ERRW",
        "colab": {
          "base_uri": "https://localhost:8080/"
        },
        "outputId": "06d9f215-eeeb-432c-fcc9-bca70a63a193"
      },
      "execution_count": null,
      "outputs": [
        {
          "output_type": "stream",
          "name": "stdout",
          "text": [
            "Enter the minimum limit: 56\n",
            "Enter the maximum limit: 86\n",
            "57 59 61 63 65 67 69 71 73 75 77 79 81 83 85 "
          ]
        }
      ]
    },
    {
      "cell_type": "code",
      "source": [
        "x=int(input(\"Enter the minimum limit: \"))\n",
        "y=int(input(\"Enter the maximum limit: \"))\n",
        "\n",
        "while(x<=y):\n",
        "  if (x%2 == 0):\n",
        "    print(x+1,end=\" \")\n",
        "    x+=2\n",
        "  else :\n",
        "    print(x,end=\" \")\n",
        "    x+=2"
      ],
      "metadata": {
        "colab": {
          "base_uri": "https://localhost:8080/"
        },
        "id": "_L1XsR2ZDT3C",
        "outputId": "3d8ae5e6-d131-4e3e-9395-6023c83425f2"
      },
      "execution_count": 3,
      "outputs": [
        {
          "output_type": "stream",
          "name": "stdout",
          "text": [
            "Enter the minimum limit: 48\n",
            "Enter the maximum limit: 49\n",
            "49 "
          ]
        }
      ]
    },
    {
      "cell_type": "code",
      "source": [
        "#using for loop\n",
        "c=4\n",
        "for i in range(c):\n",
        "    print(i) "
      ],
      "metadata": {
        "colab": {
          "base_uri": "https://localhost:8080/"
        },
        "id": "pYfoUFiWlO9p",
        "outputId": "d2062c90-6675-41cd-ba2c-fa1610c8a219"
      },
      "execution_count": 4,
      "outputs": [
        {
          "output_type": "stream",
          "name": "stdout",
          "text": [
            "0\n",
            "1\n",
            "2\n",
            "3\n"
          ]
        }
      ]
    },
    {
      "cell_type": "code",
      "source": [
        "#using while loop\n",
        "r=1\n",
        "while(r<11):\n",
        "    print(r,end=\" \")\n",
        "    r+=1"
      ],
      "metadata": {
        "colab": {
          "base_uri": "https://localhost:8080/"
        },
        "id": "tLw_YpTNlcmb",
        "outputId": "a3ca5cf8-c243-45bf-9a0c-3474ad55182f"
      },
      "execution_count": 5,
      "outputs": [
        {
          "output_type": "stream",
          "name": "stdout",
          "text": [
            "1 2 3 4 5 6 7 8 9 10 "
          ]
        }
      ]
    },
    {
      "cell_type": "code",
      "source": [
        "#Iterating through a list\n",
        "\n",
        "x=list()\n",
        "x.extend([\"Sunny\", \" Kumar\", False,[23,465,67]])\n",
        "for i in x:\n",
        "    if(type(i) is list):\n",
        "        print(i)"
      ],
      "metadata": {
        "colab": {
          "base_uri": "https://localhost:8080/"
        },
        "id": "c109uME2liWR",
        "outputId": "e939d2ad-0c9d-4951-d522-145ef7b1a0da"
      },
      "execution_count": 6,
      "outputs": [
        {
          "output_type": "stream",
          "name": "stdout",
          "text": [
            "[23, 465, 67]\n"
          ]
        }
      ]
    },
    {
      "cell_type": "code",
      "source": [
        "#Iteraring through dictionary\n",
        "\n",
        "#Conclusion: By default by iterating through the dictionary means iterating through the keys.\n",
        "#            We can access any values through using the keys as index\n",
        "\n",
        "x=dict()\n",
        "x[\"First name\"]=\"Sunny\"\n",
        "x[\"Last name\"]=\"Kumar\"\n",
        "x[\"Phone no\"]=8976453215\n",
        "\n",
        "for i in x:\n",
        "  print(x[i])"
      ],
      "metadata": {
        "colab": {
          "base_uri": "https://localhost:8080/"
        },
        "id": "xgVUzexkluAN",
        "outputId": "f4a7d578-19bc-4e4e-b2fc-6d5da6e734a8"
      },
      "execution_count": 16,
      "outputs": [
        {
          "output_type": "stream",
          "name": "stdout",
          "text": [
            "Sunny\n",
            "Kumar\n",
            "8976453215\n"
          ]
        }
      ]
    },
    {
      "cell_type": "code",
      "source": [
        "#Iterating through tuple\n",
        "#since tuple is immutable we cannot modify it\n",
        "\n",
        "x=(\"Sunny\", \"Kumar\", False,[23,465,67])\n",
        "\n",
        "for i in x:\n",
        "  if(type(i) is str):\n",
        "    print(i)"
      ],
      "metadata": {
        "colab": {
          "base_uri": "https://localhost:8080/"
        },
        "id": "Pgu1WxE3ma05",
        "outputId": "83e13259-d1f8-460c-99ea-4478396539ea"
      },
      "execution_count": 25,
      "outputs": [
        {
          "output_type": "stream",
          "name": "stdout",
          "text": [
            "Sunny\n",
            "Kumar\n"
          ]
        }
      ]
    },
    {
      "cell_type": "code",
      "source": [
        "#Iterating through a set\n",
        "\n",
        "x={\"Kumar\",\"7894651324\"}\n",
        "x.add(\"Sunny\")\n",
        "\n",
        "for i in x:\n",
        "  print(i)"
      ],
      "metadata": {
        "colab": {
          "base_uri": "https://localhost:8080/"
        },
        "id": "8cWRxlY7pJly",
        "outputId": "8af53616-9d99-4e3e-e892-1c51086bdb17"
      },
      "execution_count": 35,
      "outputs": [
        {
          "output_type": "stream",
          "name": "stdout",
          "text": [
            "7894651324\n",
            "Kumar\n",
            "Sunny\n"
          ]
        }
      ]
    },
    {
      "cell_type": "code",
      "source": [
        "#If you do not specify the fxn range the it is going to consider it as a tuple\n",
        "\n",
        "for i in (1,51):\n",
        "  print(i,end=\" \")"
      ],
      "metadata": {
        "colab": {
          "base_uri": "https://localhost:8080/"
        },
        "id": "RMo99NBhq2pg",
        "outputId": "631e6183-70af-4b35-9560-68c81d524e84"
      },
      "execution_count": 52,
      "outputs": [
        {
          "output_type": "stream",
          "name": "stdout",
          "text": [
            "1 51 "
          ]
        }
      ]
    },
    {
      "cell_type": "code",
      "source": [
        "#functions\n",
        "\n",
        "def odd_even(n):\n",
        "  if int(n)%2 == 0 :\n",
        "    return \"even\"\n",
        "  else :\n",
        "    return \"odd\""
      ],
      "metadata": {
        "id": "VnW5g1pHr_lX"
      },
      "execution_count": 60,
      "outputs": []
    },
    {
      "cell_type": "code",
      "source": [
        "#String slicing \n",
        "\n",
        "x=\"SunnyKumar\"\n",
        "x[:x.find(\"K\")]"
      ],
      "metadata": {
        "colab": {
          "base_uri": "https://localhost:8080/",
          "height": 35
        },
        "id": "SgsnPYDHwQjt",
        "outputId": "25431b6c-05bb-43eb-d6e9-c2312402a5f5"
      },
      "execution_count": 71,
      "outputs": [
        {
          "output_type": "execute_result",
          "data": {
            "text/plain": [
              "'Sunny'"
            ],
            "application/vnd.google.colaboratory.intrinsic+json": {
              "type": "string"
            }
          },
          "metadata": {},
          "execution_count": 71
        }
      ]
    },
    {
      "cell_type": "code",
      "source": [
        "#String library functions\n",
        "\n",
        "name=\"  Sunny Kumar  \"\n",
        "name2=\"  Raj Kumar  \"\n",
        "print(name.upper())\n",
        "print(name.lower())\n",
        "print(name.rstrip())\n",
        "print(name.lstrip())\n",
        "print(name2.strip())\n",
        "if name.startswith(\"  \"):\n",
        "  print(name)"
      ],
      "metadata": {
        "colab": {
          "base_uri": "https://localhost:8080/"
        },
        "id": "n54rzq17zFGB",
        "outputId": "6cf54045-65b5-44ba-83a1-6b58e85ec647"
      },
      "execution_count": 79,
      "outputs": [
        {
          "output_type": "stream",
          "name": "stdout",
          "text": [
            "  SUNNY KUMAR  \n",
            "  sunny kumar  \n",
            "  Sunny Kumar\n",
            "Sunny Kumar  \n",
            "Raj Kumar\n",
            "  Sunny Kumar  \n"
          ]
        }
      ]
    },
    {
      "cell_type": "code",
      "source": [
        "#Dictionaries built in functions\n",
        "\n",
        "x={\"Drinks\":8797, \"Cake\":45, \"Cookies\":2435, \"Chocolate\":678}\n",
        "print(sorted(x.items()))\n",
        "print(x.values())\n",
        "print(x.keys())\n",
        "print(x.items())\n",
        "print(sorted(x.items())) #sorting through dictionaries with keys\n",
        "\n",
        "#sorting through dictionaries with values by swapping keys and values of a dictionary\n",
        "\n",
        "y=[]\n",
        "for k,v in x.items():\n",
        "  y.append((v,k))\n",
        "\n",
        "y=sorted(y)\n",
        "y"
      ],
      "metadata": {
        "colab": {
          "base_uri": "https://localhost:8080/"
        },
        "id": "OnhZ_KK-3X-o",
        "outputId": "ccdf7e59-5fec-4e2b-af74-1c6f4cf12fb6"
      },
      "execution_count": 102,
      "outputs": [
        {
          "output_type": "stream",
          "name": "stdout",
          "text": [
            "[('Cake', 45), ('Chocolate', 678), ('Cookies', 2435), ('Drinks', 8797)]\n",
            "dict_values([8797, 45, 2435, 678])\n",
            "dict_keys(['Drinks', 'Cake', 'Cookies', 'Chocolate'])\n",
            "dict_items([('Drinks', 8797), ('Cake', 45), ('Cookies', 2435), ('Chocolate', 678)])\n",
            "[('Cake', 45), ('Chocolate', 678), ('Cookies', 2435), ('Drinks', 8797)]\n"
          ]
        },
        {
          "output_type": "execute_result",
          "data": {
            "text/plain": [
              "[(45, 'Cake'), (678, 'Chocolate'), (2435, 'Cookies'), (8797, 'Drinks')]"
            ]
          },
          "metadata": {},
          "execution_count": 102
        }
      ]
    },
    {
      "cell_type": "code",
      "source": [
        "#Counting even and odd in a given sequence\n",
        "#This sequence can even be treated as a single elememt in file handle which we obtain when \n",
        "#we open a file(returna a list of strings where each string represents a line in the file )\n",
        "\n",
        "x=dict()  #even\n",
        "y=dict()  #odd\n",
        "\n",
        "sequence=\"302846873456019034758762307091345798716346326023485703945761034598624581998345603487848383480456013854\"\n",
        "\n",
        "for i in sequence:\n",
        "  if odd_even(i) == \"even\":\n",
        "    x[i]=x.get(i,0)+1\n",
        "  else:\n",
        "    y[i]=y.get(i,0)+1\n",
        "\n",
        "print(x)\n",
        "print(y)"
      ],
      "metadata": {
        "colab": {
          "base_uri": "https://localhost:8080/"
        },
        "id": "C08tV5ZFtBL6",
        "outputId": "0bfa3432-88d0-4698-b294-c10e48210e55"
      },
      "execution_count": 106,
      "outputs": [
        {
          "output_type": "stream",
          "name": "stdout",
          "text": [
            "{'0': 11, '2': 5, '8': 14, '4': 15, '6': 10}\n",
            "{'3': 15, '7': 9, '5': 10, '1': 6, '9': 7}\n"
          ]
        }
      ]
    }
  ]
}