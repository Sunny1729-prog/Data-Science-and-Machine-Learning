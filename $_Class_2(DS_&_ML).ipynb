{
  "nbformat": 4,
  "nbformat_minor": 0,
  "metadata": {
    "colab": {
      "name": "$ Class 2(DS & ML).ipynb",
      "provenance": [],
      "collapsed_sections": [],
      "authorship_tag": "ABX9TyPCF6m4wP1r1ZrPhooarKDW",
      "include_colab_link": true
    },
    "kernelspec": {
      "name": "python3",
      "display_name": "Python 3"
    },
    "language_info": {
      "name": "python"
    }
  },
  "cells": [
    {
      "cell_type": "markdown",
      "metadata": {
        "id": "view-in-github",
        "colab_type": "text"
      },
      "source": [
        "<a href=\"https://colab.research.google.com/github/Sunny1729-prog/Data-Science-and-Machine-Learning/blob/main/%24_Class_2(DS_%26_ML).ipynb\" target=\"_parent\"><img src=\"https://colab.research.google.com/assets/colab-badge.svg\" alt=\"Open In Colab\"/></a>"
      ]
    },
    {
      "cell_type": "code",
      "execution_count": null,
      "metadata": {
        "colab": {
          "base_uri": "https://localhost:8080/"
        },
        "id": "gRSfxzisitJP",
        "outputId": "5deefd64-e3af-4181-d473-fa3c3402d671"
      },
      "outputs": [
        {
          "output_type": "stream",
          "name": "stdout",
          "text": [
            "Enter a number: 20\n",
            "Number is positive\n"
          ]
        }
      ],
      "source": [
        "x=int(input(\"Enter a number: \"))\n",
        "\n",
        "if x>0 :\n",
        "  print(\"Number is positive\")\n",
        "elif x<0 :\n",
        "  print(\"Number is negative\")\n",
        "else :\n",
        "  print(\"Number is zero\")"
      ]
    },
    {
      "cell_type": "markdown",
      "source": [
        "###Python module: It is a python script file containing python statements and definations."
      ],
      "metadata": {
        "id": "TZoUEuhXdrLq"
      }
    },
    {
      "cell_type": "markdown",
      "source": [
        "### A dictionary key must be an immutable data type like numbers, strings and tuples.\n",
        "\n",
        "### Values can be a list, a dictionary, a set, a tuple or general data types "
      ],
      "metadata": {
        "id": "n2pPJcGP0YRi"
      }
    },
    {
      "cell_type": "code",
      "source": [
        "x={'buy':[12,34,45], 'collection':{\"sunny\",\"raj\",None,False}, 'bill':(23,56,78), 'Hist':{'A':34, 'B':56, 'C':23}}\n",
        "x\n"
      ],
      "metadata": {
        "colab": {
          "base_uri": "https://localhost:8080/"
        },
        "outputId": "6d749343-73ea-47a8-f81d-407763a7fd77",
        "id": "1E3zjJrg5dvn"
      },
      "execution_count": null,
      "outputs": [
        {
          "output_type": "execute_result",
          "data": {
            "text/plain": [
              "{'Hist': {'A': 34, 'B': 56, 'C': 23},\n",
              " 'bill': (23, 56, 78),\n",
              " 'buy': [12, 34, 45],\n",
              " 'collection': {False, None, 'raj', 'sunny'}}"
            ]
          },
          "metadata": {},
          "execution_count": 36
        }
      ]
    },
    {
      "cell_type": "code",
      "source": [
        "#Python is a case sensitive language\n",
        "\n",
        "Name = 'Sunny'\n",
        "name = 'Raj'\n",
        "\n",
        "f'{Name}'"
      ],
      "metadata": {
        "id": "s6WDMLWj6Z6m",
        "colab": {
          "base_uri": "https://localhost:8080/",
          "height": 35
        },
        "outputId": "222669b2-1090-4d25-b086-78f761c06cdb"
      },
      "execution_count": null,
      "outputs": [
        {
          "output_type": "execute_result",
          "data": {
            "text/plain": [
              "'Sunny'"
            ],
            "application/vnd.google.colaboratory.intrinsic+json": {
              "type": "string"
            }
          },
          "metadata": {},
          "execution_count": 6
        }
      ]
    },
    {
      "cell_type": "code",
      "source": [
        "x = [1,2]\n",
        "x.append(3)\n",
        "print(x)"
      ],
      "metadata": {
        "colab": {
          "base_uri": "https://localhost:8080/"
        },
        "id": "LbcaDKfK02qY",
        "outputId": "1a25b6f4-1680-46b7-cf8e-813aba09ca2a"
      },
      "execution_count": null,
      "outputs": [
        {
          "output_type": "stream",
          "name": "stdout",
          "text": [
            "[1, 2, 3]\n"
          ]
        }
      ]
    },
    {
      "cell_type": "code",
      "source": [
        "x = [29,17,19]\n",
        "x.append(45)\n",
        "x\n"
      ],
      "metadata": {
        "colab": {
          "base_uri": "https://localhost:8080/"
        },
        "id": "2guJquyF48Kx",
        "outputId": "0d612af3-0f6f-4c68-ce27-78fdebde3439"
      },
      "execution_count": null,
      "outputs": [
        {
          "output_type": "execute_result",
          "data": {
            "text/plain": [
              "[29, 17, 19, 45]"
            ]
          },
          "metadata": {},
          "execution_count": 17
        }
      ]
    },
    {
      "cell_type": "code",
      "source": [
        "# Doubt\n",
        "#Solution : Self referencing list\n",
        "\n",
        "x=[1]\n",
        "x.append(x)\n",
        "x"
      ],
      "metadata": {
        "colab": {
          "base_uri": "https://localhost:8080/"
        },
        "id": "pzQzgZG55n7e",
        "outputId": "183e8215-a355-40b9-a9eb-71df4c8c7773"
      },
      "execution_count": null,
      "outputs": [
        {
          "output_type": "execute_result",
          "data": {
            "text/plain": [
              "[1, [...]]"
            ]
          },
          "metadata": {},
          "execution_count": 10
        }
      ]
    },
    {
      "cell_type": "code",
      "source": [
        "x=[23,34,21]\n",
        "y=[1,2,3]\n",
        "x.append(y)\n",
        "x"
      ],
      "metadata": {
        "colab": {
          "base_uri": "https://localhost:8080/"
        },
        "id": "PwEq_qia6J6G",
        "outputId": "30281cdf-dd93-4cb1-9005-3faaeed76b69"
      },
      "execution_count": null,
      "outputs": [
        {
          "output_type": "execute_result",
          "data": {
            "text/plain": [
              "[23, 34, 21, [1, 2, 3]]"
            ]
          },
          "metadata": {},
          "execution_count": 26
        }
      ]
    },
    {
      "cell_type": "code",
      "source": [
        "x=[23,34,21]\n",
        "y=[1,2,3]\n",
        "x.extend(y)\n",
        "x"
      ],
      "metadata": {
        "colab": {
          "base_uri": "https://localhost:8080/"
        },
        "id": "ex_gFRsj6ca8",
        "outputId": "eb7a1cd8-bfd1-4869-9ad9-4082b68ac062"
      },
      "execution_count": null,
      "outputs": [
        {
          "output_type": "execute_result",
          "data": {
            "text/plain": [
              "[23, 34, 21, 1, 2, 3]"
            ]
          },
          "metadata": {},
          "execution_count": 27
        }
      ]
    },
    {
      "cell_type": "code",
      "source": [
        "x=[23,43,12,67]\n",
        "x.reverse()\n",
        "x"
      ],
      "metadata": {
        "colab": {
          "base_uri": "https://localhost:8080/"
        },
        "id": "_54qzntZ6lN3",
        "outputId": "e9b265fa-b03b-4251-8b8d-531dbe7dce6e"
      },
      "execution_count": null,
      "outputs": [
        {
          "output_type": "execute_result",
          "data": {
            "text/plain": [
              "[67, 12, 43, 23]"
            ]
          },
          "metadata": {},
          "execution_count": 29
        }
      ]
    },
    {
      "cell_type": "code",
      "source": [
        "x=[23,43,12,67]\n",
        "x.sort()\n",
        "x"
      ],
      "metadata": {
        "colab": {
          "base_uri": "https://localhost:8080/"
        },
        "id": "zidKg7UC7LXC",
        "outputId": "ce3b74f7-8f90-4dd9-bf70-f398126e84a9"
      },
      "execution_count": null,
      "outputs": [
        {
          "output_type": "execute_result",
          "data": {
            "text/plain": [
              "[12, 23, 43, 67]"
            ]
          },
          "metadata": {},
          "execution_count": 31
        }
      ]
    },
    {
      "cell_type": "code",
      "source": [
        "x=[23,43,12,67]\n",
        "y=min(x)\n",
        "y"
      ],
      "metadata": {
        "colab": {
          "base_uri": "https://localhost:8080/"
        },
        "id": "2xaFH2fg7RoP",
        "outputId": "3a75feaa-89bf-4e3f-a661-0c1456595d6c"
      },
      "execution_count": null,
      "outputs": [
        {
          "output_type": "execute_result",
          "data": {
            "text/plain": [
              "12"
            ]
          },
          "metadata": {},
          "execution_count": 33
        }
      ]
    },
    {
      "cell_type": "code",
      "source": [
        "x=[23,43,12,67]\n",
        "max(x)"
      ],
      "metadata": {
        "colab": {
          "base_uri": "https://localhost:8080/"
        },
        "id": "zj-qowvZ7XrN",
        "outputId": "43126480-2954-4dfc-e72a-f324895ee58f"
      },
      "execution_count": null,
      "outputs": [
        {
          "output_type": "execute_result",
          "data": {
            "text/plain": [
              "67"
            ]
          },
          "metadata": {},
          "execution_count": 38
        }
      ]
    },
    {
      "cell_type": "code",
      "source": [
        "x=[23,43,12,67]\n",
        "y=x[1:3]\n",
        "y"
      ],
      "metadata": {
        "colab": {
          "base_uri": "https://localhost:8080/"
        },
        "id": "21xVFzYq7v5_",
        "outputId": "113e38ce-5bc5-4c5f-c136-3f33115fe12f"
      },
      "execution_count": null,
      "outputs": [
        {
          "output_type": "execute_result",
          "data": {
            "text/plain": [
              "[43, 12]"
            ]
          },
          "metadata": {},
          "execution_count": 42
        }
      ]
    },
    {
      "cell_type": "code",
      "source": [
        "x=[23,43,12,67]\n",
        "len(x)"
      ],
      "metadata": {
        "colab": {
          "base_uri": "https://localhost:8080/"
        },
        "id": "OLCBEJIy8EfC",
        "outputId": "b80682a0-5db0-4bde-b70a-dae9c9c73950"
      },
      "execution_count": null,
      "outputs": [
        {
          "output_type": "execute_result",
          "data": {
            "text/plain": [
              "4"
            ]
          },
          "metadata": {},
          "execution_count": 43
        }
      ]
    },
    {
      "cell_type": "code",
      "source": [
        "#Doubt\n",
        "#Solution: 'is' operator checks for whether two values are in the same \n",
        "#          memory location\n",
        "\n",
        "x=[23,43,12,67]\n",
        "y=[23,43,12,67]\n",
        "x is y"
      ],
      "metadata": {
        "colab": {
          "base_uri": "https://localhost:8080/"
        },
        "id": "lvvultFL8JT2",
        "outputId": "84892afa-6341-4390-ca12-80de1bb3bbf7"
      },
      "execution_count": null,
      "outputs": [
        {
          "output_type": "execute_result",
          "data": {
            "text/plain": [
              "False"
            ]
          },
          "metadata": {},
          "execution_count": 47
        }
      ]
    },
    {
      "cell_type": "code",
      "source": [
        "x=[23,43,12,67]\n",
        "x.insert(2,100)\n",
        "x"
      ],
      "metadata": {
        "colab": {
          "base_uri": "https://localhost:8080/"
        },
        "id": "Qe8XI0AI8gGM",
        "outputId": "d2b7792b-e1f1-4da8-cd45-99a02f189cf6"
      },
      "execution_count": null,
      "outputs": [
        {
          "output_type": "execute_result",
          "data": {
            "text/plain": [
              "[23, 43, 100, 12, 67]"
            ]
          },
          "metadata": {},
          "execution_count": 49
        }
      ]
    },
    {
      "cell_type": "code",
      "source": [
        "x=(23,43,12,67)\n",
        "x[3]=90\n",
        "x"
      ],
      "metadata": {
        "colab": {
          "base_uri": "https://localhost:8080/",
          "height": 200
        },
        "id": "k6ylc6HE8vLU",
        "outputId": "3f39e51e-9754-4a85-f934-9782d8c86840"
      },
      "execution_count": null,
      "outputs": [
        {
          "output_type": "error",
          "ename": "TypeError",
          "evalue": "ignored",
          "traceback": [
            "\u001b[0;31m---------------------------------------------------------------------------\u001b[0m",
            "\u001b[0;31mTypeError\u001b[0m                                 Traceback (most recent call last)",
            "\u001b[0;32m<ipython-input-51-f5c050dc0a2f>\u001b[0m in \u001b[0;36m<module>\u001b[0;34m()\u001b[0m\n\u001b[1;32m      1\u001b[0m \u001b[0mx\u001b[0m\u001b[0;34m=\u001b[0m\u001b[0;34m(\u001b[0m\u001b[0;36m23\u001b[0m\u001b[0;34m,\u001b[0m\u001b[0;36m43\u001b[0m\u001b[0;34m,\u001b[0m\u001b[0;36m12\u001b[0m\u001b[0;34m,\u001b[0m\u001b[0;36m67\u001b[0m\u001b[0;34m)\u001b[0m\u001b[0;34m\u001b[0m\u001b[0;34m\u001b[0m\u001b[0m\n\u001b[0;32m----> 2\u001b[0;31m \u001b[0mx\u001b[0m\u001b[0;34m[\u001b[0m\u001b[0;36m3\u001b[0m\u001b[0;34m]\u001b[0m\u001b[0;34m=\u001b[0m\u001b[0;36m90\u001b[0m\u001b[0;34m\u001b[0m\u001b[0;34m\u001b[0m\u001b[0m\n\u001b[0m\u001b[1;32m      3\u001b[0m \u001b[0mx\u001b[0m\u001b[0;34m\u001b[0m\u001b[0;34m\u001b[0m\u001b[0m\n",
            "\u001b[0;31mTypeError\u001b[0m: 'tuple' object does not support item assignment"
          ]
        }
      ]
    },
    {
      "cell_type": "code",
      "source": [
        "x=(23,43,12,67)\n",
        "y=list(x)\n",
        "y[3]=100\n",
        "y"
      ],
      "metadata": {
        "colab": {
          "base_uri": "https://localhost:8080/"
        },
        "id": "gRFoCKqH9JU2",
        "outputId": "036ac3d7-515d-4287-e791-ad382e192170"
      },
      "execution_count": null,
      "outputs": [
        {
          "output_type": "execute_result",
          "data": {
            "text/plain": [
              "[23, 43, 12, 100]"
            ]
          },
          "metadata": {},
          "execution_count": 61
        }
      ]
    },
    {
      "cell_type": "markdown",
      "source": [
        "\n",
        "###*   Lists, Dictionary, Sets are mutable\n",
        "###*   Tuples, Strings are immutable\n"
      ],
      "metadata": {
        "id": "aHHkfzXQ-n87"
      }
    },
    {
      "cell_type": "code",
      "source": [
        "#Doubt\n",
        "x = {\"sunny\",28,59,\"awk\",[2,5,54]}\n",
        "x.add(654)\n",
        "x"
      ],
      "metadata": {
        "colab": {
          "base_uri": "https://localhost:8080/",
          "height": 217
        },
        "id": "iPbILsHB-mxl",
        "outputId": "4c7b2eb5-acc6-47f4-903b-815455a1c9e8"
      },
      "execution_count": null,
      "outputs": [
        {
          "output_type": "error",
          "ename": "TypeError",
          "evalue": "ignored",
          "traceback": [
            "\u001b[0;31m---------------------------------------------------------------------------\u001b[0m",
            "\u001b[0;31mTypeError\u001b[0m                                 Traceback (most recent call last)",
            "\u001b[0;32m<ipython-input-11-4fbddc1e9ab2>\u001b[0m in \u001b[0;36m<module>\u001b[0;34m()\u001b[0m\n\u001b[1;32m      1\u001b[0m \u001b[0;31m#Doubt\u001b[0m\u001b[0;34m\u001b[0m\u001b[0;34m\u001b[0m\u001b[0;34m\u001b[0m\u001b[0m\n\u001b[0;32m----> 2\u001b[0;31m \u001b[0mx\u001b[0m \u001b[0;34m=\u001b[0m \u001b[0;34m{\u001b[0m\u001b[0;34m\"sunny\"\u001b[0m\u001b[0;34m,\u001b[0m\u001b[0;36m28\u001b[0m\u001b[0;34m,\u001b[0m\u001b[0;36m59\u001b[0m\u001b[0;34m,\u001b[0m\u001b[0;34m\"awk\"\u001b[0m\u001b[0;34m,\u001b[0m\u001b[0;34m[\u001b[0m\u001b[0;36m2\u001b[0m\u001b[0;34m,\u001b[0m\u001b[0;36m5\u001b[0m\u001b[0;34m,\u001b[0m\u001b[0;36m54\u001b[0m\u001b[0;34m]\u001b[0m\u001b[0;34m}\u001b[0m\u001b[0;34m\u001b[0m\u001b[0;34m\u001b[0m\u001b[0m\n\u001b[0m\u001b[1;32m      3\u001b[0m \u001b[0mx\u001b[0m\u001b[0;34m.\u001b[0m\u001b[0madd\u001b[0m\u001b[0;34m(\u001b[0m\u001b[0;36m654\u001b[0m\u001b[0;34m)\u001b[0m\u001b[0;34m\u001b[0m\u001b[0;34m\u001b[0m\u001b[0m\n\u001b[1;32m      4\u001b[0m \u001b[0mx\u001b[0m\u001b[0;34m\u001b[0m\u001b[0;34m\u001b[0m\u001b[0m\n",
            "\u001b[0;31mTypeError\u001b[0m: unhashable type: 'list'"
          ]
        }
      ]
    },
    {
      "cell_type": "markdown",
      "source": [
        "###A set cannot have mutable elements like a list or dictionary.\n",
        "\n",
        "###A set itself is mutable but elements inside are not thats why a set cannot \n",
        "###have mutable elements list or dictionary."
      ],
      "metadata": {
        "id": "WdVcA38CqmgJ"
      }
    },
    {
      "cell_type": "code",
      "source": [
        "x=([1,2,3],\"Sunny\",\"god\",45.5,100)\n",
        "x[0][1]=466\n",
        "x\n"
      ],
      "metadata": {
        "colab": {
          "base_uri": "https://localhost:8080/"
        },
        "id": "YTo9bJnnq8aF",
        "outputId": "89671692-1c6a-4fda-e80e-d6ae0a6d26b7"
      },
      "execution_count": null,
      "outputs": [
        {
          "output_type": "execute_result",
          "data": {
            "text/plain": [
              "([1, 466, 3], 'Sunny', 'god', 45.5, 100)"
            ]
          },
          "metadata": {},
          "execution_count": 13
        }
      ]
    },
    {
      "cell_type": "code",
      "source": [
        "x=(\"sunny\",\"raj\",23,879,{'buscuit':34, 'cake':3, 'Drinks':20})\n",
        "x[4]['buscuit']=100\n",
        "x"
      ],
      "metadata": {
        "colab": {
          "base_uri": "https://localhost:8080/"
        },
        "id": "CUYpIaaKsOWj",
        "outputId": "8c1ebd2f-49df-4812-9e4d-517549e02168"
      },
      "execution_count": null,
      "outputs": [
        {
          "output_type": "execute_result",
          "data": {
            "text/plain": [
              "('sunny', 'raj', 23, 879, {'Drinks': 20, 'buscuit': 100, 'cake': 3})"
            ]
          },
          "metadata": {},
          "execution_count": 22
        }
      ]
    },
    {
      "cell_type": "markdown",
      "source": [
        "###A tuple is itself immutable hence elements inside it cannot added, \n",
        "###removed and updated. But elements itself need not be immutable. A tuple \n",
        "###can contain mutable elements like lists, dictionary or sets."
      ],
      "metadata": {
        "id": "nSNarcLkuOGx"
      }
    },
    {
      "cell_type": "code",
      "source": [
        "x=(\"Sunny\",\"Raj\",{\"Sunny\",34,True,None})\n",
        "x[2].add(999)\n",
        "x\n"
      ],
      "metadata": {
        "colab": {
          "base_uri": "https://localhost:8080/"
        },
        "id": "2XTifILpuM9_",
        "outputId": "9a1004be-9734-4892-c36c-0006497671ad"
      },
      "execution_count": null,
      "outputs": [
        {
          "output_type": "execute_result",
          "data": {
            "text/plain": [
              "('Sunny', 'Raj', {34, 999, None, 'Sunny', True})"
            ]
          },
          "metadata": {},
          "execution_count": 26
        }
      ]
    },
    {
      "cell_type": "markdown",
      "source": [
        "###Lists,Tuples are ordered means we can random access them using indexing.\n",
        "###Sets,Dictionaries are unordered, we cannot random access them."
      ],
      "metadata": {
        "id": "uwehdvIBwo7D"
      }
    },
    {
      "cell_type": "code",
      "source": [
        "x=[(1,2,3),{'buscuit':34, 'cake':3, 'Drinks':20},{\"Sunny\",34,True,None},[43,56,12],\"Sunny\",\"god\"]\n",
        "x[1]['cake']=5\n",
        "x[3][1]=x[3][2]+x[3][0]\n",
        "print('\\n',x[0][2],'\\n')\n",
        "print(\"The list is:\\n\\n\",x)"
      ],
      "metadata": {
        "colab": {
          "base_uri": "https://localhost:8080/"
        },
        "id": "CZYOHNZnxdW0",
        "outputId": "972c5bbe-ab43-40e4-8708-48e24f43508c"
      },
      "execution_count": null,
      "outputs": [
        {
          "output_type": "stream",
          "name": "stdout",
          "text": [
            "\n",
            " 3 \n",
            "\n",
            "The list is:\n",
            "\n",
            " [(1, 2, 3), {'buscuit': 34, 'cake': 5, 'Drinks': 20}, {True, 'Sunny', None, 34}, [43, 55, 12], 'Sunny', 'god']\n"
          ]
        }
      ]
    },
    {
      "cell_type": "markdown",
      "source": [
        ""
      ],
      "metadata": {
        "id": "0RRlaP7C1PYF"
      }
    },
    {
      "cell_type": "markdown",
      "source": [
        "###Lists are the most flexible among the various python data structures. We can \n",
        "### have lists inside list, dictionaries inside list, tuples inside list, sets\n",
        "###inside lists and any other data types. We can random access them and then \n",
        "###apply properties particular to sets, dictionaries, tuples or strings, etc.  "
      ],
      "metadata": {
        "id": "NGKRW6GI0P6G"
      }
    },
    {
      "cell_type": "code",
      "source": [
        "#Assignment 1\n",
        "\n",
        "while (True):\n",
        "  try:\n",
        "    x=int(input(\"Enter the marks of student: \"))\n",
        "    if(not(x>=0 and x<=100)):\n",
        "      print(\"\\nPlease enter a number between 0 and 100(both inclusive)\\n\")\n",
        "    if (x>80 and x<=100):\n",
        "      print(\"\\nGrade acquired is: A\")\n",
        "      break\n",
        "    elif (x>60 and x<=80):\n",
        "      print(\"\\nGrade acquired is: B\")\n",
        "      break\n",
        "    elif (x>50 and x<=60):\n",
        "      print(\"\\nGrade acquired is: C\")\n",
        "      break\n",
        "    elif (x>45 and x<=50):\n",
        "      print(\"\\nGrade acquired is: D\")\n",
        "      break\n",
        "    elif (x>25 and x<=45):\n",
        "     print(\"\\nGrade acquired is: E\")\n",
        "     break\n",
        "    elif (x>=0 and x<=25) :\n",
        "      print(\"\\nGrade acquired is: F\")\n",
        "      break\n",
        "  except:\n",
        "    print(\"\\nPlease enter a valid input!\\n\")\n",
        "\n",
        "\n"
      ],
      "metadata": {
        "colab": {
          "base_uri": "https://localhost:8080/"
        },
        "id": "9SNaY26I5vh5",
        "outputId": "d162193f-154e-4f3d-8e74-08ea0aa4e4ed"
      },
      "execution_count": null,
      "outputs": [
        {
          "output_type": "stream",
          "name": "stdout",
          "text": [
            "Enter the marks of student: 89\n",
            "\n",
            "Grade acquired is: A\n"
          ]
        }
      ]
    },
    {
      "cell_type": "code",
      "source": [
        "#Assignment 2\n",
        "\n",
        "print(\"Even numbers between 50 and 100(both inclusive):\\n\")\n",
        "\n",
        "x=50\n",
        "while(x<=100):\n",
        "  print(x,end=\" \")\n",
        "  x+=2\n"
      ],
      "metadata": {
        "colab": {
          "base_uri": "https://localhost:8080/"
        },
        "id": "yTRy7twHGRNE",
        "outputId": "ef9689d6-09f1-40d5-f48e-4eab06561734"
      },
      "execution_count": null,
      "outputs": [
        {
          "output_type": "stream",
          "name": "stdout",
          "text": [
            "Even numbers between 50 and 100(both inclusive):\n",
            "\n",
            "50 52 54 56 58 60 62 64 66 68 70 72 74 76 78 80 82 84 86 88 90 92 94 96 98 100 "
          ]
        }
      ]
    },
    {
      "cell_type": "code",
      "source": [
        "#Assignment 3\n",
        "\n",
        "while (True):\n",
        "  try:\n",
        "    x=int(input(\"Enter a number: \"))\n",
        "    if (x%2==0) :\n",
        "      print(\"\\nNumber is even!\")\n",
        "      break\n",
        "    else:\n",
        "      print(\"\\nNumber is odd!\")\n",
        "      break\n",
        "  except:\n",
        "    print(\"\\nPlease enter a valid input!\\n\")"
      ],
      "metadata": {
        "colab": {
          "base_uri": "https://localhost:8080/"
        },
        "id": "DoqMtT4bJlSx",
        "outputId": "b6a169a7-2e55-411c-d1d7-0b00eb8d6944"
      },
      "execution_count": null,
      "outputs": [
        {
          "output_type": "stream",
          "name": "stdout",
          "text": [
            "Enter a number: l\n",
            "\n",
            "Please enter a valid input!\n",
            "\n",
            "Enter a number: ty\n",
            "\n",
            "Please enter a valid input!\n",
            "\n",
            "Enter a number: 56\n",
            "\n",
            "Number is even!\n"
          ]
        }
      ]
    },
    {
      "cell_type": "code",
      "source": [
        "#Assignment 4\n",
        "\n",
        "x=list()\n",
        "\n",
        "z=0\n",
        "while(z<10):\n",
        "  x.append(int(input(\"Enter a number: \")))\n",
        "  z+=1\n",
        "\n",
        "x"
      ],
      "metadata": {
        "colab": {
          "base_uri": "https://localhost:8080/"
        },
        "id": "-9DHpDU8r7_b",
        "outputId": "aa4286af-f2b1-43a5-fd0e-7ab18059e3a0"
      },
      "execution_count": null,
      "outputs": [
        {
          "name": "stdout",
          "output_type": "stream",
          "text": [
            "Enter a number: 1\n",
            "Enter a number: 2\n",
            "Enter a number: 3\n",
            "Enter a number: 4\n",
            "Enter a number: 5\n",
            "Enter a number: 6\n",
            "Enter a number: 7\n",
            "Enter a number: 8\n",
            "Enter a number: 9\n",
            "Enter a number: 10\n"
          ]
        },
        {
          "output_type": "execute_result",
          "data": {
            "text/plain": [
              "[1, 2, 3, 4, 5, 6, 7, 8, 9, 10]"
            ]
          },
          "metadata": {},
          "execution_count": 8
        }
      ]
    },
    {
      "cell_type": "code",
      "source": [
        "#input().split()\n",
        "x=list() #x=[]\n",
        "\n",
        "x.extend(input(\"Enter items with sapces between them: \").split())\n",
        "\n",
        "x"
      ],
      "metadata": {
        "colab": {
          "base_uri": "https://localhost:8080/"
        },
        "id": "HL5mNcxr9gEW",
        "outputId": "9c02ec1b-949d-4f31-f2f2-79ce6e7aec5a"
      },
      "execution_count": null,
      "outputs": [
        {
          "name": "stdout",
          "output_type": "stream",
          "text": [
            "Enter items with sapces between them: Sunny Kumar\n"
          ]
        },
        {
          "output_type": "execute_result",
          "data": {
            "text/plain": [
              "['Sunny', 'Kumar']"
            ]
          },
          "metadata": {},
          "execution_count": 17
        }
      ]
    },
    {
      "cell_type": "code",
      "source": [
        "#a basic python function\n",
        "\n",
        "def add(a,b):\n",
        "  return a+b\n",
        "\n",
        "print(add(2,3))"
      ],
      "metadata": {
        "colab": {
          "base_uri": "https://localhost:8080/"
        },
        "id": "k07ogRDyCtc0",
        "outputId": "145d8ea5-00c8-4291-9dae-a78bf003da29"
      },
      "execution_count": null,
      "outputs": [
        {
          "output_type": "stream",
          "name": "stdout",
          "text": [
            "5\n"
          ]
        }
      ]
    },
    {
      "cell_type": "code",
      "source": [
        "#Class activity\n",
        "\n",
        "x=int(input(\"Enter the minimum limit: \"))\n",
        "y=int(input(\"Enter the maximum limit: \"))\n",
        "\n",
        "if (x%2 == 0):\n",
        "  while(x<y):\n",
        "    print(x+1,end=\" \")\n",
        "    x+=2\n",
        "else :\n",
        "  while(x<=y):\n",
        "    print(x,end=\" \")\n",
        "    x+=2\n"
      ],
      "metadata": {
        "id": "SlXRN3u7ERRW",
        "colab": {
          "base_uri": "https://localhost:8080/"
        },
        "outputId": "06d9f215-eeeb-432c-fcc9-bca70a63a193"
      },
      "execution_count": null,
      "outputs": [
        {
          "output_type": "stream",
          "name": "stdout",
          "text": [
            "Enter the minimum limit: 56\n",
            "Enter the maximum limit: 86\n",
            "57 59 61 63 65 67 69 71 73 75 77 79 81 83 85 "
          ]
        }
      ]
    },
    {
      "cell_type": "code",
      "source": [
        "x=int(input(\"Enter the minimum limit: \"))\n",
        "y=int(input(\"Enter the maximum limit: \"))\n",
        "\n",
        "while(x<=y):\n",
        "  if (x%2 == 0):\n",
        "    print(x+1,end=\" \")\n",
        "    x+=2\n",
        "  else :\n",
        "    print(x,end=\" \")\n",
        "    x+=2"
      ],
      "metadata": {
        "colab": {
          "base_uri": "https://localhost:8080/"
        },
        "id": "_L1XsR2ZDT3C",
        "outputId": "3d8ae5e6-d131-4e3e-9395-6023c83425f2"
      },
      "execution_count": null,
      "outputs": [
        {
          "output_type": "stream",
          "name": "stdout",
          "text": [
            "Enter the minimum limit: 48\n",
            "Enter the maximum limit: 49\n",
            "49 "
          ]
        }
      ]
    },
    {
      "cell_type": "code",
      "source": [
        "#using for loop\n",
        "c=4\n",
        "for i in range(c):\n",
        "    print(i) "
      ],
      "metadata": {
        "colab": {
          "base_uri": "https://localhost:8080/"
        },
        "id": "pYfoUFiWlO9p",
        "outputId": "d2062c90-6675-41cd-ba2c-fa1610c8a219"
      },
      "execution_count": null,
      "outputs": [
        {
          "output_type": "stream",
          "name": "stdout",
          "text": [
            "0\n",
            "1\n",
            "2\n",
            "3\n"
          ]
        }
      ]
    },
    {
      "cell_type": "code",
      "source": [
        "#using while loop\n",
        "r=1\n",
        "while(r<11):\n",
        "    print(r,end=\" \")\n",
        "    r+=1"
      ],
      "metadata": {
        "colab": {
          "base_uri": "https://localhost:8080/"
        },
        "id": "tLw_YpTNlcmb",
        "outputId": "a3ca5cf8-c243-45bf-9a0c-3474ad55182f"
      },
      "execution_count": null,
      "outputs": [
        {
          "output_type": "stream",
          "name": "stdout",
          "text": [
            "1 2 3 4 5 6 7 8 9 10 "
          ]
        }
      ]
    },
    {
      "cell_type": "code",
      "source": [
        "#Iterating through a list\n",
        "\n",
        "x=list()\n",
        "x.extend([\"Sunny\", \" Kumar\", False,[23,465,67]])\n",
        "for i in x:\n",
        "    if(type(i) is list):\n",
        "        print(i)"
      ],
      "metadata": {
        "colab": {
          "base_uri": "https://localhost:8080/"
        },
        "id": "c109uME2liWR",
        "outputId": "e939d2ad-0c9d-4951-d522-145ef7b1a0da"
      },
      "execution_count": null,
      "outputs": [
        {
          "output_type": "stream",
          "name": "stdout",
          "text": [
            "[23, 465, 67]\n"
          ]
        }
      ]
    },
    {
      "cell_type": "code",
      "source": [
        "#Iteraring through dictionary\n",
        "\n",
        "#Conclusion: By default by iterating through the dictionary means iterating through the keys.\n",
        "#            We can access any values through using the keys as index\n",
        "\n",
        "x=dict()\n",
        "x[\"First name\"]=\"Sunny\"\n",
        "x[\"Last name\"]=\"Kumar\"\n",
        "x[\"Phone no\"]=8976453215\n",
        "\n",
        "for i in x:\n",
        "  print(x[i])"
      ],
      "metadata": {
        "colab": {
          "base_uri": "https://localhost:8080/"
        },
        "id": "xgVUzexkluAN",
        "outputId": "f4a7d578-19bc-4e4e-b2fc-6d5da6e734a8"
      },
      "execution_count": null,
      "outputs": [
        {
          "output_type": "stream",
          "name": "stdout",
          "text": [
            "Sunny\n",
            "Kumar\n",
            "8976453215\n"
          ]
        }
      ]
    },
    {
      "cell_type": "code",
      "source": [
        "#Iterating through tuple\n",
        "#since tuple is immutable we cannot modify it\n",
        "\n",
        "x=(\"Sunny\", \"Kumar\", False,[23,465,67])\n",
        "\n",
        "for i in x:\n",
        "  if(type(i) is str):\n",
        "    print(i)"
      ],
      "metadata": {
        "colab": {
          "base_uri": "https://localhost:8080/"
        },
        "id": "Pgu1WxE3ma05",
        "outputId": "83e13259-d1f8-460c-99ea-4478396539ea"
      },
      "execution_count": null,
      "outputs": [
        {
          "output_type": "stream",
          "name": "stdout",
          "text": [
            "Sunny\n",
            "Kumar\n"
          ]
        }
      ]
    },
    {
      "cell_type": "code",
      "source": [
        "#Iterating through a set\n",
        "\n",
        "x={\"Kumar\",\"7894651324\"}\n",
        "x.add(\"Sunny\")\n",
        "\n",
        "for i in x:\n",
        "  print(i)"
      ],
      "metadata": {
        "colab": {
          "base_uri": "https://localhost:8080/"
        },
        "id": "8cWRxlY7pJly",
        "outputId": "8af53616-9d99-4e3e-e892-1c51086bdb17"
      },
      "execution_count": null,
      "outputs": [
        {
          "output_type": "stream",
          "name": "stdout",
          "text": [
            "7894651324\n",
            "Kumar\n",
            "Sunny\n"
          ]
        }
      ]
    },
    {
      "cell_type": "code",
      "source": [
        "#If you do not specify the fxn range the it is going to consider it as a tuple\n",
        "\n",
        "for i in (1,51):\n",
        "  print(i,end=\" \")"
      ],
      "metadata": {
        "colab": {
          "base_uri": "https://localhost:8080/"
        },
        "id": "RMo99NBhq2pg",
        "outputId": "631e6183-70af-4b35-9560-68c81d524e84"
      },
      "execution_count": null,
      "outputs": [
        {
          "output_type": "stream",
          "name": "stdout",
          "text": [
            "1 51 "
          ]
        }
      ]
    },
    {
      "cell_type": "code",
      "source": [
        "#functions\n",
        "\n",
        "def odd_even(n):\n",
        "  if int(n)%2 == 0 :\n",
        "    return \"even\"\n",
        "  else :\n",
        "    return \"odd\""
      ],
      "metadata": {
        "id": "VnW5g1pHr_lX"
      },
      "execution_count": null,
      "outputs": []
    },
    {
      "cell_type": "code",
      "source": [
        "#String slicing \n",
        "\n",
        "x=\"SunnyKumar\"\n",
        "x[:x.find(\"K\")]"
      ],
      "metadata": {
        "colab": {
          "base_uri": "https://localhost:8080/",
          "height": 35
        },
        "id": "SgsnPYDHwQjt",
        "outputId": "25431b6c-05bb-43eb-d6e9-c2312402a5f5"
      },
      "execution_count": null,
      "outputs": [
        {
          "output_type": "execute_result",
          "data": {
            "text/plain": [
              "'Sunny'"
            ],
            "application/vnd.google.colaboratory.intrinsic+json": {
              "type": "string"
            }
          },
          "metadata": {},
          "execution_count": 71
        }
      ]
    },
    {
      "cell_type": "code",
      "source": [
        "#String library functions\n",
        "\n",
        "name=\"  Sunny Kumar  \"\n",
        "name2=\"  Raj Kumar  \"\n",
        "print(name.upper())\n",
        "print(name.lower())\n",
        "print(name.rstrip())\n",
        "print(name.lstrip())\n",
        "print(name2.strip())\n",
        "if name.startswith(\"  \"):\n",
        "  print(name)"
      ],
      "metadata": {
        "colab": {
          "base_uri": "https://localhost:8080/"
        },
        "id": "n54rzq17zFGB",
        "outputId": "6cf54045-65b5-44ba-83a1-6b58e85ec647"
      },
      "execution_count": null,
      "outputs": [
        {
          "output_type": "stream",
          "name": "stdout",
          "text": [
            "  SUNNY KUMAR  \n",
            "  sunny kumar  \n",
            "  Sunny Kumar\n",
            "Sunny Kumar  \n",
            "Raj Kumar\n",
            "  Sunny Kumar  \n"
          ]
        }
      ]
    },
    {
      "cell_type": "code",
      "source": [
        "#Dictionaries built in functions\n",
        "\n",
        "x={\"Drinks\":8797, \"Cake\":45, \"Cookies\":2435, \"Chocolate\":678}\n",
        "print(sorted(x.items()))\n",
        "print(x.values())\n",
        "print(x.keys())\n",
        "print(x.items())\n",
        "print(sorted(x.items())) #sorting through dictionaries with keys\n",
        "\n",
        "#sorting through dictionaries with values by swapping keys and values of a dictionary\n",
        "\n",
        "y=[]\n",
        "for k,v in x.items():\n",
        "  y.append((v,k))\n",
        "\n",
        "y=sorted(y)\n",
        "y"
      ],
      "metadata": {
        "colab": {
          "base_uri": "https://localhost:8080/"
        },
        "id": "OnhZ_KK-3X-o",
        "outputId": "ccdf7e59-5fec-4e2b-af74-1c6f4cf12fb6"
      },
      "execution_count": null,
      "outputs": [
        {
          "output_type": "stream",
          "name": "stdout",
          "text": [
            "[('Cake', 45), ('Chocolate', 678), ('Cookies', 2435), ('Drinks', 8797)]\n",
            "dict_values([8797, 45, 2435, 678])\n",
            "dict_keys(['Drinks', 'Cake', 'Cookies', 'Chocolate'])\n",
            "dict_items([('Drinks', 8797), ('Cake', 45), ('Cookies', 2435), ('Chocolate', 678)])\n",
            "[('Cake', 45), ('Chocolate', 678), ('Cookies', 2435), ('Drinks', 8797)]\n"
          ]
        },
        {
          "output_type": "execute_result",
          "data": {
            "text/plain": [
              "[(45, 'Cake'), (678, 'Chocolate'), (2435, 'Cookies'), (8797, 'Drinks')]"
            ]
          },
          "metadata": {},
          "execution_count": 102
        }
      ]
    },
    {
      "cell_type": "code",
      "source": [
        "#Counting even and odd in a given sequence\n",
        "#This sequence can even be treated as a single elememt in file handle which we obtain when \n",
        "#we open a file(returna a list of strings where each string represents a line in the file )\n",
        "\n",
        "x=dict()  #even\n",
        "y=dict()  #odd\n",
        "\n",
        "sequence=\"302846873456019034758762307091345798716346326023485703945761034598624581998345603487848383480456013854\"\n",
        "\n",
        "for i in sequence:\n",
        "  if odd_even(i) == \"even\":\n",
        "    x[i]=x.get(i,0)+1\n",
        "  else:\n",
        "    y[i]=y.get(i,0)+1\n",
        "\n",
        "print(x)\n",
        "print(y)"
      ],
      "metadata": {
        "colab": {
          "base_uri": "https://localhost:8080/"
        },
        "id": "C08tV5ZFtBL6",
        "outputId": "0bfa3432-88d0-4698-b294-c10e48210e55"
      },
      "execution_count": null,
      "outputs": [
        {
          "output_type": "stream",
          "name": "stdout",
          "text": [
            "{'0': 11, '2': 5, '8': 14, '4': 15, '6': 10}\n",
            "{'3': 15, '7': 9, '5': 10, '1': 6, '9': 7}\n"
          ]
        }
      ]
    },
    {
      "cell_type": "markdown",
      "source": [
        "###Multiple return values are returned and accessed as a tuple"
      ],
      "metadata": {
        "id": "Ohfnylyxpa-f"
      }
    },
    {
      "cell_type": "markdown",
      "source": [
        "###Counting loops are a subset of event controlled loops,so all for loops can be expressed as while loop but the reverse is not true."
      ],
      "metadata": {
        "id": "BxQ3-SOapATe"
      }
    },
    {
      "cell_type": "markdown",
      "source": [
        "![image.png](data:image/png;base64,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)\n",
        "\n",
        "![image.png](data:image/png;base64,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)"
      ],
      "metadata": {
        "id": "SsCuBkNC0rYH"
      }
    },
    {
      "cell_type": "code",
      "source": [
        "#Variable length arguments using *\n",
        "def addition(*args):\n",
        "  return sum(args)\n",
        "\n",
        "print(addition(5, 10, 20, 6))\n"
      ],
      "metadata": {
        "id": "V8W1AWiupjeZ",
        "colab": {
          "base_uri": "https://localhost:8080/"
        },
        "outputId": "9a496ca4-52a8-4936-c4ea-d34eff3c5459"
      },
      "execution_count": null,
      "outputs": [
        {
          "output_type": "stream",
          "name": "stdout",
          "text": [
            "41\n"
          ]
        }
      ]
    },
    {
      "cell_type": "code",
      "source": [
        "#Variable length arguments using **\n",
        "\n",
        "def food(**kwargs):\n",
        "  for items in kwargs:\n",
        "\t  print(f\"{kwargs[items]} is a {items}\")\n",
        "\t\n",
        "\t\n",
        "food(fruit = 'cherry', vegetable = 'potato', boy = 'srikrishna')\n"
      ],
      "metadata": {
        "colab": {
          "base_uri": "https://localhost:8080/"
        },
        "id": "BZezmVFj0UVQ",
        "outputId": "130c5355-84e9-4fbe-9c62-da3ee3e10641"
      },
      "execution_count": null,
      "outputs": [
        {
          "output_type": "stream",
          "name": "stdout",
          "text": [
            "cherry is a fruit\n",
            "potato is a vegetable\n",
            "srikrishna is a boy\n"
          ]
        }
      ]
    },
    {
      "cell_type": "code",
      "source": [
        "#Variable length arguments using ** (dictionaries)\n",
        "\n",
        "def food(**kwargs):\n",
        "  for items in kwargs:\n",
        "\t  print(f\"{kwargs[items]} is a {items}\")\n",
        "\t\n",
        "\t\n",
        "dict = {'fruit' : 'cherry', 'vegetable' : 'potato', 'boy' : 'srikrishna'}\n",
        "food(**dict)\n",
        "\n"
      ],
      "metadata": {
        "colab": {
          "base_uri": "https://localhost:8080/"
        },
        "id": "zoxl6dJm1-ym",
        "outputId": "e2cdc34f-d2e1-41a8-d3b2-49fd95383964"
      },
      "execution_count": null,
      "outputs": [
        {
          "output_type": "stream",
          "name": "stdout",
          "text": [
            "cherry is a fruit\n",
            "potato is a vegetable\n",
            "srikrishna is a boy\n"
          ]
        }
      ]
    },
    {
      "cell_type": "markdown",
      "source": [
        "###Lambda functions"
      ],
      "metadata": {
        "id": "U9jY7nLh4e_O"
      }
    },
    {
      "cell_type": "markdown",
      "source": [
        "![image.png](data:image/png;base64,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)"
      ],
      "metadata": {
        "id": "LRM9vN264x7t"
      }
    },
    {
      "cell_type": "code",
      "source": [
        "s= lambda a,b,c : a+b+c\n",
        "\n",
        "s(23,43,56)"
      ],
      "metadata": {
        "colab": {
          "base_uri": "https://localhost:8080/"
        },
        "id": "HO31bndA2Rpw",
        "outputId": "d752c556-b360-48b5-add3-63a65fc7395c"
      },
      "execution_count": null,
      "outputs": [
        {
          "output_type": "execute_result",
          "data": {
            "text/plain": [
              "122"
            ]
          },
          "metadata": {},
          "execution_count": 7
        }
      ]
    },
    {
      "cell_type": "markdown",
      "source": [
        "###Filter function: It takes in a function and a list as arguments\n",
        "\n",
        "![image.png](data:image/png;base64,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)\n",
        "\n"
      ],
      "metadata": {
        "id": "__I-7neh40F7"
      }
    },
    {
      "cell_type": "markdown",
      "source": [
        "###Map function:-\n",
        "\n",
        "![image.png](data:image/png;base64,iVBORw0KGgoAAAANSUhEUgAABH0AAACaCAYAAAA0GDSdAAAAAXNSR0IArs4c6QAAAARnQU1BAACxjwv8YQUAAAAJcEhZcwAAEnQAABJ0Ad5mH3gAAJgISURBVHhe7d0LvG7V1PjxmRwSXURKIiolUpFLInRzrVxyTyrJNZcX6eXP6/J6X29C7kWEc0TSTaFQupCKKCkphZKUEhWHpPzPd/aMrFbruey9n33O3vuM3+fzfM4+z7OeteYcY8wxxxhrrvks869FlCRJkiRJkiRJkiRJkmROcYfev0mSJEmSJEmSJEmSJMkcYtat9PnrX/9abrzxxt7/RmPZZZctK6ywQvnnP/9Zv7/ccsuVO9/5zr1Pk9nO3/72t/Kb3/ym2sWaa65ZVl555XKHO2Q9cyZgzP3lL3/p/e/fzJs3r9z1rnft/W96uPbaa+s4N96TmcE//vGP8ve//70sv/zy5Y53vGPv3SQwHRsvZHOXu9yl9+7Mgv5++9vfluuuu67629VWW633STKXMJ8uXLjwNj70+uuvLzfffHNZaaWV6v8nS5ybjd/pTnfqvTuzGFdfk4lD7ldccUW5/PLLazy31lpr1ZhhrnPTTTeVX//619W33uc+9yn3ute9yjLLLNP7dPyInc3J8qO5FDMbu7jb3e42kvxCDo6XL852+Fb94bum036S2cesK/p88YtfLOeee27vf6OxxhprlNe97nXlwgsvLPPnzy/bbbdd2WyzzXqfJrOZiy66qHzpS18qf/rTn2rC9LCHPaxsv/32ZZVVVukdkSxJLrnkkrL//vv3/vdvTEQCjc0337w89rGPHXtAJ6l497vfXce58Z7MDH784x+Xb3zjG+X5z39+WX/99XvvJgE/9rnPfa6su+66ZYcddui9O3P41a9+Vb72ta/Voo8E5Z73vGd5xzve0fs0mUuYW8VLW221VXniE59Y39tvv/1qMf1d73pX/f9kkNCfd9555bDDDitPfepTZ2Qs5maFeeuPf/zjlPqaTBw3Zr/+9a+Xn/zkJ7XALDbgCx//+Mf3jpibXHbZZdX3//nPf672t/HGG5cdd9xxWouOxiA577333nOquPmBD3ygFrFe/vKX10LOMMQkp59+ennVq15V88XZziGHHFJ++tOf1hh4phbVkyXDrCvtrrPOOuWRj3zk7V7uCqjudn32kIc8pH73hhtuKFdeeWWtgiaT4MoTyj6v3LXsse8p5areW7fh4sPLXnvsUfb64vllcUjY5PjRj3603g0SOAoM6Ho2ODl2+PnPf7465pnAl7/85XL44YfXgHycuNvwhz/8od7RbY5JqwMuvfTScvDBB5dPf/rTNbgbN2TsjtlMhnxOOeWUcsQRR1R7nuu4o0Yv+p3cHoWUq6666tY7lTOJa665phx33HHl/PPPL4961KPKM5/5zFq0nQ2Q54EHHlhOPvnk3jvJMMJ3N1dqXn311fW9qcLfOw9/MBNxA0nBh69KFi/f//73y/HHH19WXXXV8vSnP70WBldcccXep7Of0047rcZ+iqcBv/+Zz3ymXHzxxeXRj350ecYznlFvYLI/N7oVSccdm0EbjEPXH4QilKKIG6x8wExHG82jo65pMD/IIfVzLiCW1J9ZtqYjWQzMuqLPYx7zmFr9br/gcZGuz7beeuv6eTIVrionfHpBOX9Rbn7jpZeXf09X/+bGP19V/nzjjeWq4z9UDvhB1xHj5Uc/+lENSJ/3vOfVlQPuSD7iEY8YqbK/uDBRtx2v9375y1/WSdRkvqQTYKsLFB7c8RlHQN/GclkrF5pj8g1veEO9G7PeeuvVlXvf/e53e0dPDLKdjmBocWFy1n/JqCQjuT2zWb9zCT7rggsuKM95znPKs5/97LLlllvOyLm1K3C3yjfGWbL4MHZz/CajorDs8ab73//+ZaeddipPetKTqo/ZZJNNekfMfqwqOeecc+orUOhSpBDHimfFsoo+VlSKc30+0W0txokirRhNW37xi1/03v03OcaTJsOKiMmSIzc+SUbi2h8sKIdc7K95ZaMXPrWsW9+9LfM23bG8YB1/3VjO+fLRtUA0nXjUQNL/8Ic/vPfOzMJEaBWSFS1NLDsVxAhqHve4xy3xlUl3v/vdyy677FLv3K+++uq9d6cfxbkXv/jFNaDwKMFEi190746ORHS2co973KMGtTvvvHO5973v3Xs3CazUms36nSsI4hQl+TT7+MzU1ZQK2B4hbGMFqJWgL3jBC3rvJNONJFWh8He/+13vnWQmYh4VS82E1ZeKHG6EWe1iP5u5yEtf+tIaa+ljQP7ioOZ72HTTTWsRyMqfJelz7cH3whe+sBb8FaOaiHEV65IE/MiZZ55Zn6xJZh4Dij5nlX12+u+yfOdrQTmjd9RsZyIV6vaKjaWGmy4qxx52Tqn3GdZcFDg/ut+zv6uWrZ//lLK8P68/oSw48fL67nRhaSqd2Ohv3ExE113Hes/ySs+m//znP++9+28UPLbYYotyv/vdr/dON5Oxucl8x+NxHrsaxGTOOwzLthXBBDwTfaTF8R43sVx6FLR/In2YrOwn8j2roOxtY4WawKrNRM83FSZyrYm0abJ9sLeD/WO+973v9d4ZzGSu0cVcv2s5GX1YPSOIY6/TsTHkRNpDP13HWzX31a9+tdMf2IhYcdXKwkH0O/cgJnp8PyZznqna6rja3kaRUCHf+LWv2ygs7lhscZ/DseO65kT1Pui6iuoefRw2/07V1jCs/+FnxAST9TPjkHEXzjuRc/c7fu211677EzWLOPrs2PYmwmJbex66GddPHuNq1yDo4wEPeEBtS/MHODyO9oUvfGGkos9krtvveO+PcwyMwjh87VTbMIhxnXvYeQZ9zu+fccYZ1SbG4S+6GKWf45DFoHOMev7pksFUWPZdfXepu6KcesSFpXsx9Mpl1x03Lmv2/jcTOOqoo6oz2nbbbXvv3B6PrjDIhz70oXWPEcGhiqTlioyVg23/ogyl2WDNcZY2ugthcrSB5cDNZy87obzzLe8pXzjsqNq2o077VfntTw4pn/nMV8oRx/2w/OofpSw8/avlI5/6TPnKYd8o3z7z8rLCBo8oa63Q+35lYbn89OPKUV8/qnzxq18rRx36pfLVI5xv0fHfP79ceYd7lLXXWrUsF6W79jWPOrcs98BVyyXfOKjsf9AXypcOPaJ+98QLri53uvuaZe17jfbrSTeedWj5+MmXFea7wXNfWZ56/wG/hnSPVcqyZ55Qzr1uUVJ+6byy4ZM3LKuMeT3ZqaeeWu+MWK7v8S6FA7q1YoUeve9ZaM+Em6yaCHDsSWFPGbpWlXa875uEBao/+MEP6l473pOIdz0uxi7YAns666yz6nndZXa8lxUodOCRKdeRwFq2rH02mVawYk8+az+vLgBwTue2BNjE6j021+6PVUTayp4VTnznhz/8Yf2OO63OPcomyZbu6q+7+NB+1xaECMTcPfc4msck7MNg079RzisYoC/LtTfaaKPeu//m97//fTnxxBPrL1XQCd04d9cvF/mFtrPPPrv2ifyPPvro+lgaB+z/5EvOVs94zzJqgcp973vf2n6yoWurR9hGe6zD99p6dbw2tX/xj77JKJZd0wPb8R12yW6G/XKY75KpxIj/CZnad4x90OXPfvazWkCke+0YFAz7HnmTh/HQRvvotrmqiN75wli6bZk5G27/upr+sudoUxzXb3zQl2P5Tnqla9eip9jXqR98rPHDLsnEuPE97zdt2vvuDod/VmC1IoXcu9rVDzrWRvKJMcc+2hvCG29sSVu89JEcwkbaQbs+swt+JY53Z1Q/HEt+TeiPLtzlNl78X9/MQey4DTlb+s9+jKG2fwgcp53aTk70xw76jbUmxrA2WbVBf2TvPQVr44Uv1jd6ad+Ndg3XbPo5foQ89Md3nZtdkZXv2+C9beP07Fj6MS7DTuN4tnnMMcdUWYQOtIn89JH/NKbpqW13PjNmTzrppOof9JMfIZe2bOhNG7TP2NU3Ns5n+L8x1+VX+qHddKHdzkHPdMV2m+fxns/YpnHJhoxz/lA/2fuoNz/Mea7lUTf9ZZN0Sj9N+yFfMlMoi2KZ8WiesddKP9gEe7RJLD3zm+Y77Qx90TU9WoHlmvy4cUIPjun3Qwz0zn7J3bnD348qc23TL+cwrsier6bn5lgkb8Vm52//EIDvayvZ+L6VTOTXlj/50hlfq1907HjnZIPsNOIPY4Bu2aex39UfY4++47FwNuC67LsJHZEvufCH7NP3+MX2eGfrNn3lQ9mcvtCTdsSqX/ahL6Ef+ierYXNbwFfom3Gjr2yDzl0vxqqxQz7063M2ow1inva82wV9kQc5sg3yMa6btqGP/Iz+xUuh2JjWl7bvCtiuc7IX/eDTYrx0QaZkHu0QizreuNVvn5lH6Nln2uQ413EMPUd8Sh/krn0+a/rFGJ/a5fv6Ymz18+fmN9d2PXqkF/Oc83iMrt/3EP5Xu2P+9V2241/2EHO7Pjom2qoP7C/8JJ9nrDTtR98dQ2dslA2IC7XZeRzPVuhY+/WbbbNzcmnP9faE8j0r6sVXrk2OjtdPcmrCLrX9CU94wm3Gk9iX/ce845re055RfY6+xDyhP8Zhl57YLhnqi/YY5+yNXrWpa7zxH9qkffrH9sjXv+yU7xrUTuOG7zXWxMR0aV5xTvIz/kAv+hH2Q4/koF1sAWxEH8RtzqeP7IXMjWF2QQ763/VEgb46r5gd/DJ/aXy6Dt2zCcdoNx1oF1nps+s5PvyM/pNlO8bqwvfZFBtzbrLXV7r3nvnI3OGc+mj+YC/6rh3NcSk/Mjc5jk3TuXOKDcLfwdh3jfBFXvRvLND1KH5vMiyVRR/KM0AkUgyVIZps/C05bSqGw7CRGoOkzJjwKdKxbedxK9f9upx0yjnl2the4K9Xlt9ffUMtnJR/Xl+uvOCccs4lV5cb6uc3lxuvu6ycdcoV5b7bPKKscWsufXk56cMHlm9ceGVZ+NeF5cZbi4aLjl94dbnknFPLCb9YoTxm87XLXcVq7WuWa8q5Pzi1XmfhP+LLN5cbrr6knPOD75QTf7t6ecQj1rzlu31ZlHwe8qnyw7qf4Wblha94XFljoK9boaw674Jy3FlXL/JIl5R56+9QNh7zKt2DDjqoDm6TlsFksPhbAMkRffOb36wTjV8/aDs8kwEnZxktp0unigP0zB44PEEZp+kaBqbd/JsTge985StfqcEVO3Btg9zfnIxkKDZp5pTDCbMxDmiDDTaojtCmeJyqnyMN2OiCBQtunQDYqgmaExO0OLbpxEz4+stBHHvssbUdHK62x/UEncMmKPvruF78QgaZWqVkLOgn+xfscbgmBO2SZPYLlAKy6Vf0MZbcmTepKQJwdPqgrRLC5jh0TGwi6zyR4JEvfZms9Jc9kK8Jhl71n0xisiYXf9PJgx70oNvIhbM99NBD68Si/65P5vTo/3TVTEZMaApPJieTgKBA8BrXMCEponVN1oGkVEBNrhIr9qMP0Q7tdB7ndIzVYfrWD/I2PvjCrl/HckfXxBXLyE2kkjOyNHG5nkmdTLU9bM3YcPeGvZGTMRBtElg3l+JrrwSa/ZCJ/tAT3dGF71pZ1q/ow874c22iM/IN/fr/Ax/4wFsDJrbPZoxfn7EpE61jw46GIQhhW+xcgGEeiEmd7qIQCrKx4bkx2XyRg2sKACJQgj6TAxtynGO82Id/jSPBVgRO7aKPz9m6McS/tRMNSSV/QeY2V24GH034Q78Mo52ODTmRq5sggwIMdm4O5At9l++SAFg5o32CLOeyb1ezfT6jb5uU60+savzsZz9b5WEsWQmiLc7JnhxvHDTnVfbyne98p45n12EPAlDH0w+fSMbsxfgjw7AX+PEH9jx//vxqW83HgfVJG+ieLJ2PrNi5sc93Nn2/dhoHrkG32uOa7IINep8cmr6rH75DNgI/7XMeNsLX+j95NQNq12LvxigbMSb9zVYFp8YEnzwI+jN38S3GsWuaW9gjHTXHMb2IlyZa9NH2T33qU1UHbMB5Yv7TPmOSHMVdjtUvY1BbFFrI3dhtroJ1HuOcntkIO2eDvhtz/SC/COfQDrZMv2RKBhF4s8cYu3xWV9HHNWP1ITk4J7vzvjHU9BV+ZEJb6YV/0Uf6JWt+V0KqP2ISegybZodstDmWnSd8Il/K1/lbu/no5i8OfehDH6rn0h72Ih4gU+emA37FZ75rnvGvfjgmfJRrWH1KNkceeWRts35oh7HreDbRz98E9OP7kiiyJnPn1xbjmD1oC7s0N2kLOzBH0RU58KnDYE9iLmPSNYwH12CD/CK0xXhz/XjpL/snLz6HDTT7JCbiN4w3c4N2slvXac8N+Na3vlV16lp0SpfOz1as8CFD/pqvIF//0qv+ajcd+I54yLFkzf/zcbHah+y13TjmQ2KONFb1uz0Hgc1HvOr7+qJdxg55P/nJT67X64djzEHmD3GFMU2WdKTd5K8v2uXa4j3j0fF+JCR8Gpn4WzvM4+IUaId+6p8YRlxljDo/HfKD+khWYgrndhz79C/ZNOceY4q9aRdduDZ/6bvOqa9NX0kWbK9Z9DHvGOfapW/aQL50ov/N+KgfdMJfOL/vm2/4a+1x/eb3zYv6arwa2/5ln2Touub/5jzNn4ifxY/GJZ/pPfLVbzrzS8bNGLcN2/nkJz9ZZUWm2krurqst2igmZf8+Iwc6Ml7IwXXomjx9j6zIBo5xHr6OrByjSEhfXU8V8BNys6c97Wn1/85jLJEVWZj/yZP+yIM82br3HcumfJ/efE7vrmUeCTvrh7b6URl+P/rvnHyIv9kX+9N+/yev8KdiBDEcHGNu5XeNaZCT44wTBa2Yp5zH+bTb347x4mvpXAzR9i/jYKkr+nBcHLC9VDg6k4pJkDF7UWBUITlgP9tpYNh7RJDLWAUtJ5xwQjUUyVNngLfi2mXL7Z5Z1r/uqHLqr70xr6z7wveWD/3H48tNZ5xULvyr91YqW79xv/LOl61frjn6tHLJzZeVv9/nSeUx942qz8pl/SftUJ//bb+2fOiy5aLTzi9XX3VOuXL13nd613zmA68vR/2gXrQy735blze87W3lFS/esTxz+y3LhiteVX56zu/Ltb8/s/zwL+uXJ2y8KOnoHXs7bjq/fPvARW3z93pblp22XLsMu7+z3HJ/KWcdf265ttxcrlxpw/L0Dcf78+mSdUkjJ20S+a//+q/67LMJ24DnVA1ek2oEzYEJm0Pg3Dlck7iJw2Az6QtmFT7o1eRFzybJDTfc8NbBGo5WMrH77rvXRNyyVwPaOdiPSZoz5HhseBr795gwBQscggnF/6OyzZEIFNmVQNMeFPoQAYBJmyMW4IbzZ7MmFEGnzf+0X9sFZJI1n3kGm+MehD65BhuHyUlAwQHpu2e5nddY4Qwleg9+8INrwj8o8ON0yYpe6Ms5vThqhQF9FfyyaQ7c5MWZRp8D7ZD46Ysk1Rj0t0lAO17xildU+WqrvtKZScqEIdgKWbIbkxBHLEigI2ifIpzJzS8SeX5dG9gVfZoItFtbY6ImI/ZkElJosrktGTnG+QS6nLaAvJ+M2J9Jmpx8j/2Qk2Ccnu31o936akJp2mEXgrlvf/vb1abIpQ25sx32CsERGfJv7vbxh/pi3BhPfKpE9hOf+ESV27Oe9aw6KWuTcUiOxk/oi9z1W9Dmzob9C+hF3/TH5/pHTv2KPvwpmeuz4EefQ7/sj97IwMQqmSLfF73oRVVv2uV4uhLgaX8zeeyCHgWEfEJsoEkG+qXvxmiMN7pmn64noCJHNgLHk4frRRAQQSLZsg++gg3yLSZ79iPRNu/ok+s1iz5kwZ6NFZ/pX8DHKUBpEz9EX/2QSLAxdh2Pcjq3+ZA/iqS+CzZJpq7Hb9kXhw0IjgUyxib5aW+zQAI2Qy5sJcaa5F1wqj1+mYfPkZj5Lr1pqx9sgPPzH8Yyue66665VT3RNR75D/+Snja6l6PLqV7+62ksUyowd/pOM9B3mDnbqO9rAx9ElW3Uc303X9B/+U5uNL/96n18hT6/wmY6NvvZDUCdpEpOwbT+JbuwZIwJcNqDQzddFosc3aivfYhyyVX2RPJnz9Md16asf/KE+Pfe5z6226Jrk6tx0ZU4L/8bP8w0TLfqwK+cxNzivcUK29MEv8S2SBX5CQvKUpzyljg/jLnw6GbAZtgnjRIBsXPlZZf02FnyfrNgT2Q2CrP1CEjvWnm222eZWfbNJNuya/Jhj2kUfOudzxAo23BU/ai+7M48Z53xaFM7olz82bu3Lov/sllzNJ+TIR73kJS+51S9Iftmdc8Z41jft4y/4ae12Xf49/Av7j0TfXO6a7MReMMYLf2t+lRRpv/fIVn/ZDX287nWvq+cOP0uP/I42RZxD5sYXX2VuGzT3s7Owced2Xt/30j6+nT+JorM+sxn9ZBNsVL+0YxDmUPMa/RkX+qC/+macxVzHFo1PuiMX7WH/4nsyFCvxJWxMv6IQ5bz8FDuI9ot/xF5kQa5gL5JUsnnta197q58iS7JmG/4Vx9CN60uqtYHvIKf/+I//qHI2dzqPuE58QEaO1a4uO2YP2uX67KVZIFB04UPFpC972cuqb42xxteyx2FFH36YLGOc0ROfwP+af8Qp5KNPxr5+OjYKCvw2H6uNYjdjnJ2TjzHMDowJfloC7Dz6ZpwrQPIb2sp3mEeNFe1n85JsPtd1yQziGj6EbsLXOZdrs2m5nfETvrJd9CFb77khxqeyGXLTfp87P7shg0H2yS+zKfZmjmML+mveFeNoT4whvoVunV88zG5dU/GGrwS9wrW1jR06L/n7l0yMI2OWTOlkUNFHP82B5hqy1z9jiL0Zh+Qhjzh0UTyqH+SgXa7FBsyFxrKxxmb5Unqi+7333rvOa47lK4wn/oddxvzexPjxXbICu+H39UMb6NyPwPiutrIJ8R27EYOwOXuTOo5fZwvmS/Ik50F6Mv7MbeQgrtAG59Ev80vYh7mSXfrMOemXX5HjwRzBLxjTfIZ/yZQsza/NG2P65NyOI1c277zay0/xSexzWPw6UQbfGpmDMAQKYowmZwqQFBpkBhzFBAJNBr3bbrvd6ug4GYpkfBwypY3E/XYsr3jyGosiouXLypF/b7F72XmjRQHWsvNuLbosXFirQUNZaZ3NymN6tnDORQOemV9l6/LG/9y5bLRa7wrLrlTW3ea15e0vXrde89rvHlCOrhs09+FPV5WQyLz7rVFuG9L3YbW1bt3oeeHFl3T+0tdU4CxNgDGp+ZsuBzm3YXBKEhlOlfMyQZuQOHUThIkfdG7Ccr3XvOY1dUD6W3DC0USw5P8RPBjE2ujl7364S8QRSMwE9M7reP+a2Nmooo8JvA3Hwa61W7CoH9ovsDQpc+6TQZ9cV3/IxVjhmDhbjtbkMwwJi3FloouXfnCaEp6Xv/zlddJ2fpOWgIiMAw6e0yRL/RKc6KdJyHiWpIR89T0mfv9y4CYx+hUAsB0TpAmIIw9MLoIayYcgwXFkb7ybtLynHSbaNuHg4xqCBLLnW8he4jARTNgwqbEhcnFuyfawAHiiCPbpkN26DvlJZk3s7A50QV98pokp2iTZZKsmSrYLPtSEpe8KnQIx5yQX+vJqF2Lb0HOMKX+ztaZ+I0ikC8ewIXYZ7XfNN73pTfVcAjx6G4TzSt7JgI+nd7IXwBj3zTkB2sQuok30zcYUGkz67li10S46dDy7J0fJnvNIjAbZiOBUIMde+Z+AndCL/mrvIAQb5jHXDjkZx+yJ3Q+Cn6U3OnV89J0cJouxKUDjX5yPTfFfrmOsB+xJ0sMeyFg/HGv8kwmdOZf3jFl/C/5CN/rZNWb4Qwm3oM1cbtz7vj5qD/14jz4d0/RzriGQM+b5f7btWhJVSX7bXtrwPQJcgeY73vGOOt60k93pvwDQvCMpFvg2iaSHbeozexWgm7sEn4oAgzCWJGDsxXe1nX1pA18lUZoq5M3WnZ+sQj5erh/oC50L4mPcsWU+hQ1EbEX2VjX49y1veUsd887JJvTbeclzEPTNzsmTH6M/MjcWJMNvfvObazFEEtMP8pVkRUKgzeyFrtiK4omkpYm5SsGH3TqejSmgeF/i6FcsfZ/NsWk+U98Uc4OQBbvQ7pCVhEScIMHix5tIFswXbMPxbEW/rcw1pshDG8gydOLv0JPvOKf+sHH61FfnMe7ojG4HIWkRz5BtzGXarZ/mU3MzeRozfAnbd92wGdcctpIYxpPEL3wCnboW+bzxjW/sHfVvXCP6yXdL4ticWF8hwr9QyIsEjp06p3Zp57vf/e4qx/D14iwxBBvYa6+9an/ZpzZph/nUd9vE3CaGIQM68OoXyyq+KKa5Dh1om/56kdeee+5Z7TRiRLbBf2q7+Sn8v5fr+HcyMQUfy5Z9X7udP2TK9rynSEtGe+yxx61zq5cYTwGInyTjJmzdWFJscC5+yZhgx2JgdkO2ZGn8+psM+S3FkSbk76YTO3OsMSaWo2vzuhtG/eD33fDVLwUxfont+r+CorGkOMW+B6E4bp4gd9/XJvZA5optClpN2Jb5qOkvjHvfpfeIE/gDtkpO+kOXjqEP/sxYnQhidGNHv7RVvms9CNmSk/MqIPFVZE+W5OD67E2O5JrazzbgbzrUh3hvMii2iKcV7tg42YidmkV+smJnfBVdk4fv6Av7Nz6Hwe+wFfmONuujfEOMwo7pnv05t+spIvqcDZjL4X3fjziZTBzvHOaeyCOb0FuMHf2jA/MCnRhD4Y/GxVJZ9OGU2pOJ9yi6mRwLsg1OA5WT5Qi8/M1xObY92falK9EZkvxUbrKvzzHlgH32Kq/eY9casHnt8dr3lsMH+5vKBs/aoWzQsQJx1S1fULauRe5ryylnXlTf6+TKy0t8utbqt10yOhI3lbLkfxNiOAZee1Kme0GBQScwgUmJA5GAtCdLE92wQKgfnLnAhYPg3Nrn8X+r2LTTcSb/Jmy0+R1t4agFdmy0adcTgYNtByACGbIyFkY5r+Be2z12FC9LsQUogtimHAUxnJ+JJhy19pvwjDmfjQp5aCcZNCEXzpkTFih4RQHIBN+WPVm6tgDDHZe2EzY5RAEy4Oxdg68QlE4Ek682SEAkpopg5Nxu1ziQ8JHPhz/84SrnaGvzWoILMhC4KfCEH/TSd4GBiR8mP4lnJPNdONdUkYibFAWCXQEF+UvOBFbaPwhzAf1pFzmTt/HeHmODIC+BqYBOgCBQGYTjjS3yJ1Pf6Yd2SRwFiO4Sa5eXwN53BX3D0McYZ+y96dOWBPovQGvagvYp3tFBFC8UthQjIuBrM1lb4lsEYHyBa7bjAe0T1PH/CofN4NxnAstY/RPEmG8nH23iJoKAWdzRRlsE2MaVVRtN+FKft+UmaVQUGWazfHn4c+MnbF3//H9xot3tvpAtf6QvIXNFWzKlfz676X/8nxy1PXxQF+SiyCLGk7g04zkv13JMP1/tM7KK5Lz9fXqUhPChzcIZfbGvJuTvHF5tH8l+fB6FT2NB2/gnf7ev63h+2ThpjmdyZbtt2UpSMIqufZ8/MwdZaeTaYdvONQjzqZtCCpSSnza+L4YSt3QVySeCcaJwI7mzWtfYinY2Y4t+aAvdKQiwEXMGxCDiLZ+17Y6O6Zy9eNEX3euv77QZJq9R0S9tlMzSTdse9Ne1zMPGkMKFwo8kuR2jTDcxp3XlT2RtbPCtTcyJxktTb/rDjtm074AcjMcognTZs++0Yz/vKeDx3fTlHF2YHxQ82a5zNGXsO+RPrnGDrh/aHH0xjrXXS3u72uz4dh6i/2Soz9FfBTNzuGLiOGxLXC1mi3OREz/EhsxXbNo4a8qBv1EkEYO0i3fjhE3w2aF7kGnTt4kl2vbNt5qn2aF+DEPf6bUpT9eIuMNNzvZnClvecxMS2ige9Rl/zY7MX6NcP3A+/VE4YjPNm9PjYDyeaA5AUYykaUiURln77LNP58vgDGVPCwsvKoe8+/XlbQccXk4//6qysBFL3nj9tbf5fzfrlkds0GdlybKLEo5Nbvlz4Q1DT7RUwhY4/KaDFhAIADm7ccIxceqDzssZcDwcyaAkMQgHNdGiwzDIpB2sj4Lj49UPE4uJjCyi8OOOobEoYO1KkiZDJGzOa/Ly4mj1qx8mHwy7mw59jEmza3IfBL8iSKO/+fPn15e71OOu+MMda5OLoPY973lPDcAVLJo2E3cxLHXv8oP6SY6gL0GRwuB0Bpmx4kWhpR/ueOlHBPGDoCfJgoKqlTcLFiyoS4MnCnk61yjXZCMSK7bYdQeoSQRlVva4+yzI8rfAXyI7CnRDtxIBq6TsTROJ9Uwhim9snZ8V5ArwFFTCn40DSRuZu4Or8NOFBF97BG2jjGHjoB2wd0F3xpQCd78xIhYRQCp4DYO8mknSMIxV9ilJPvTQQ6utx+MDM4mQuTvq7FSs1eV/+CxyDz/VhXPFygKPULfPYQ8iBZR2khiwQ+NNOzwO0f7+xz/+8TouzVvjnG/NS65rLNjCoOu6il2uOcp1+ZuJYDWJO/rs47//+7/rnDxIzoGxJUaRMPWbUyWy5D1sldYw2L7YQGFYguRRZD5OUj/q3KuNYg8+hg7BVhQo7IXWlvv73//+W/0S3bAtcyh/Mk4/1UZ/+EZ+/GMf+9jt2sWO+RS+yzg3F/t3FL80btijtthjqt1OL21sr4oUYw2K8fRd/KXwZZ5WFKejicK/0lu/MeMzsnPDaL/99rtd282fbIZsI/bph/nDGPb4ljZbxdcs0I5C3NgKezaXixvGpVfnZ8tt9I3M+eAuPZo7yGGcPq+N+KZ9g2UUtMtrMjF4E/N6P+Iz9hKQmYJgPN5qtQ57nShyQe2ejH0PYoB3eljZ++B3lIWdr53LLduAzn0E2+6kdr0sO7QUcXq4tpx+wD7luEsXTUDzVi2bvvjt5SMHfr6ukPA68GN7l+37//hNj0vK5X3n56vKVYNXod/Camvc+qjWJVdMosC1KBYdvkB39mAQeo17Ync+wfsozslx0xlYLGmsqpGwe8bWZGPZtLs/VtpMB+TpNYzQzSjHTgXnlxB6DEDQLTCSoAu4x52km+zdnbRXhFVXCmwCRwUPgQUEtybPLh/o5bvOARNejJHpJOx/WMCFYWNFwCK4MzlLQMhE4XFQQWkQE+n/qLYHc40AxuOR9COwiEc2hiHwtErIYzIKZpIxq+8GBTRLGjIMe5ouBGv9zj8RPU6GZqDYZrquS578qU0r7YMi8bIMPlaAzEQUBoxhRc8u/+PFB7kbPAx23/V9e3Q5B3/bBR8ogVWo8LhG1znEgx5b6UqeJovr6r8i+qDrWr0wrhsiTdzJJhuPmLjhpJhiLoqVSP3Qbq9hsPNR/NcwFG7NQVZEWi1tbxs3SxQ2J0qMPX7ZeePxry6586HaH75iccQGXvISfW23ia60y5gO3z5dvmQUjIV2G+NlvJFtEzbTb74230mereZS9DImjNfJjDfzKDkOig18ZiWuxyTbbQ85+3zQORQeFXtspK3Q7sai2EKBcRyMS7dk0W+8el8Boi2Dphw8bjxdsONRfMlMgF3JWdxMiS0PxPIK5xMldDtKjDsRBkfDSzkGpoqs50oZddfLRDgtXHNmOf6cW+44bLr7u8trt1m3rNR4GmzeomBtODeWE444rlzVEVsuPO+43l4+88pmD4myTgd3X6Os1bvujZdePtr+PFdecusjYcuvs9Zo+wCNCQ6CE56uO9iCANcYFvRMFHcZBeDO26/tknB3flW9u5YQzxUEuRJcY0+lXL+Ntem6W2Wck6elupLjLjhzd1QFeILK6cYkp9DlESWTqju0Am53jAZhdYDJYiL271oeEbDXkWeW2bhrxf4UCnD6L8hq+794eSQNbJM8Far6LZ0eB1EAHLT01ViRqLUfoWijCOJXJwSPkhvJgyX9/VaADMLdHTqQLA2DnsiYnEY53h0vjxxJZBR9rPJpL0fuh0TfhpeCVPZkLxCB3CjfHQb7YW9RJBwXzsuWyMnKHDY4LiTI7Ln9WEwTdzjd9XfsOJM5OlM8sIdMv3EqQXBtKwfGCVt3d5ytswNJlyJ71yM4MwV+0JiykqLL98RrUB/YufHCphR+ur7vRTddmJP4wVjF2PVdL23tt3prMvCnEkW2aN7puqbXuK/bxBi0gtH8YD7i2z1aOujuvqIEfyWe6Xecucx862bDOCArxQ7JKD/usRSF/FH8hnFIxvQcclT0N+49ItIlcy8rU8SDbM/19XdQMXeqsGP2Zzywx642efnMsdruWLJY3IhnjdlB+VPEDaNgDotf3rUfnEe7jWn9mwj0rIBEz7GCpg2d0iff7xpdbfeii37w39prlZzioNXbHkUNm5kK7NTYmdYnTRbBhswVZDxIj6PEL87hfBOJTWcbVkEq8omF+Ep+yM2KUVdjN1HYJC+xwjjJos8AVOgsrbLZXBcqcKMs458Uy69cIlW51tLR3jxy48LLy/nHH1Te+Zp3lmOGr7JdNLMeUt72ocPL+Vf2HuG66dpyyfcWff/DJ9QCzrz1XlB23GSA0/QY2Ka9vy/8ZblohLj+2gt/esuvfZV55TEbDigoTQPhqFXY4/nXwHLjqTpJd0Ql/u6SDluiKWDwGqUar92Cb21sP+cM51A5Nomyy36T1VxBMEDWghUFj37BAaeIUWTcD/p0LePZapquc3nsx3JvAep0F9yadiswcQc7Nt1tbuTbhQCdLfFLbfv33abN6q8JOPpLDoo/nrc3TmJZqUKDQNYeQ/0C+FimLQiiL4GOxx2mcpeCbrUtlts3iTFgrAjg2ph8rRQzYQ5axaB99Oq5dP2UrEw2wSdfj+E5xyiFQY9AKEwpLg0rTIEt0I1gmt4EE6PaIvtVWLYiYJz2S0eKsV37ErGZydxpD+iBHCW9NhMf9khr6G2UJE/Q7Nxs3J4lbbvWdu+zDY+NGBvjgn1IEm3ULLBrY9yyXQUGe/uMExuA6rPzSgwna+ujMpXxH9CV5FWBt9/jbnQ+qOjId0oSFVnZUpeN+H6/+ICdiysco7Dbb+43Lsed9Os/W2hu5NqG/U71uu15j99t+l7zinnIfGS8D4qlzAHsS+zcNWfpB9/tPDZAnwra3bzBwJ8as2zG3iODilOBGzrkq3/8JCTq4i3jVKGgDRsyz7JxxXSJryR/lMffJotigdWd5ls/mNBlx9qqDeRiTiMHj0AO23R4MkR82zUeFEuMBwXCfn5g2J44gaI/X6kA4YaMOGeyeDTLWBFD9PPrriNuEMMoTna1X5vYRz/4WTJXLHGtcRZl3fTij/zYUL8bleNAm+nRI3VWsHTJgb0Zx0HMKe3iTuRmYvp2m/ll5xjHfLEkEaOQlUKY4p55ZzLwK27sscNRVrBOhCz6DMBGcxymTezcCW4mFx6DOOCAA/pvEnrZCeWdr9y17PPd3v8vXlD22mOvckwzxvvuPmXXV76znND4wYeLvrhX2ePNB5Vzbty07Nj7ha2Ljn5vef3uvQ2cX/22ss8XTymXNOMb59l1j7LX0d2bad143jFln733uGUT6N1fX9752VPKVZ4ae8gLytvfsHVZdaBdzisbPXKz2o5STi/H/2jYWp/Ly2nf6q2CWWHr8pgH3fLn4kI12WDjPDzKEJMy58tBDlspMQzOVuJvAvJz/gIFgSDHJyj1eEg4Lg5TACLo4QxMjIKCfoVCq1sEDgpK2mpSgcDFROXxDHf0/KT8XIceJcISXIGLCaMNhypxkzzTq8BPcjvKnjttTMomeUGqxycjcKNXCZj9FLTFkurpTpQkZp/97GdvDTYEyP4WvMamcv0QxJhwHK/dJleBO7nYk6cZ2JuU3fVna2GTbFQAbHKOwErBTaClkGOZcjNQY9uW+7u7AQFzLGW1vN7z6xJ/RViviUzskh2TnusZb+Tgbp/xIGl2R1dbXUd/9U0wxzfb10FAJqEYtEKMLtkaGTk+EifjNQoWbMD/IwFyjHEf8wE5kg2d+cwdnvadPJua6j8cI4DinxQV/ALRKEGstip0hY+TWEXRcxjOT37NNrAJ/5IbXzOZpEA/FTHolN2yB3+Tjbvs9DUVFBHZniTH3hquYRzQhYBcH6I4STZkZOw6Xn/ZQlcSRm6KZu7mW9XmcRDHw798rXHhDh17nuqd2SZ0Qefsm800945i6x69slG5Y0a5gzoRzEf6wh5B94Jw9ghJZLM9k4UeyNj59IlM6cH8N1H4eY+C0Dlfw0dHIu+8bOJ//ud/BhbmtMfcadwoXvPnzYRNsZa9dv0yZuC7igIer+TXouhBhk29jTomR0VBwRxIdla+ht8xzujOvhrsfLLXjb11jAN94V/ZgzEk7vB+FFX4b77W/BDFkS7owqoGvtfPi9OZc4PcDj300Dp2PQ43SoF8EOY4Pw1uzIZOtD0Sy7ZdWGEXY5198t0eGWJfzYKC+MPjQ4qEfvbcOaMPYgw2RB98KHnEzRF7RrERPpWdmqMUXbr80EShY0UEK9LMueww/B/0TfwS+yTxX4pEYiQy0uaYi7zMbdGnySAeYYcKY2IH8jcG2Ilfror8qTleoJ3k1PyV1kGwTy+2GbZId2wxxjH9kEX0hz71MeINMY45RFvF8cZyP9iA+cHcTvfkGUUMOvV/sVBX0T6IuVq7oiDtu+atKJKZ/8MWJ4Kbc+I8tmV/KQVUBfHQa7MIOhX0QQGVXdOhfse5vWdc88nNYnyskGYH+quP9E0fVheThdiHPdCNPhhHw27qzAbMVXTOTsNe6Jos4D1jsamf0BvYtNWCfKb31CD4lnEycx/onwFINF//+tfXzfIYpcKPRJ7iKIdxc6jTxarbvL18ZJ1TyiGHHl5OO//aIuWYt8KqZd2HPL48Ztt1y8Iv7VMOGVjDWLe8YK8dy7wfHl2OO/uictW19QxlpQ02Lds8ecey/SajLemet8k2ZetVTi/HXVPK+d86pVy++fZljX6FogtPKUf3ilhrPO3xZd0l8CimjWkjIXC3ls7oy11yE2a/u4WjIGC2LJ6zEiAKjgSUMNlwagIFk7OgyMRh9YigzHG+56cQuzC43/rWt9aJyeRsUhewsDcO07PArs0Rz3UETAIndwsFU12QjQlJ0Pt///d/9T068NOkEtGJQKaWDNOBFVUmM++RO/m72+Hz6XrErAm/I5Hx0kd9MnmSw6BVKzDp+AUyybdAUwGRzTnHy172shpsB441cUdRW1FLf6EAGY+WmMRe+cpX1r1+BEyCZGPKdx1vTCjAgN0rigqaXJ/tewXaEUHYMJzLz18KKiR18H0/ASyYNM71QQBB/01Z0SM7GCYvY9KYFQSyo0hOBCAKDvzIpz/96bL99tvXlQIImdlfwDXJgH/R59e97nWdj/yyZecWuOq/NpKh8/IR+jEM1xVACSis2Bm0tLyN4z/4wQ/WwN/YEBxL9rRF4Py+972vtsWqmomi+CTAFxTSk36RifPbD0EyPVnIV2KonexI4TKSW3rizyU25mL2qw8SVT+FTrfasttuu3UWT6x40j72qxDg/PQTY57tWJ49maXZw1CA8HPCbMu4UvwxztiFditW6nf0dVywA+OXrUdxR3LM/iSAbISfMVdOBX3gPxTTyVVCTl/0YdxOFOPTuGe/ZKXQ61wSCGOPfx4mKz7D42yKM+bW0Lfv0zff3t5jpInxzc4lacazBMh7bFMQzwbZo76PE9dQSKYfhR9xB1t3Xf133XgUaTLw9eIT8x49IWyfH/SexNc19Z1vVRwZFoew8Ve96lU1gaEzxQjjmY3TFVnyqex+KjgXHWqjmxiuQZ9er3nNa253fr7beI/5znFiNb5Av0OOzkPudMt3h/+OOcZ5FWbDd8ev7Zhj9bdpj3y3mycT8dn9iLbqr34oytGFNpEDO7ZqPPpBxt6LGzzNdukLO5osik/8v5vf//Ef/1HPpxAk1vCZzb/NLTFfkpk2krs2x5w6DN/jT8TzihzGmSIaubLHiEvYm746XnLtWH/TEd24rvnWDXDjqh9kRF9u8tGnGEScYa4w5vSTzxlU+HTDSjvdUPAT/9qvTfTCjowrPsRP/A9qSxd8n5iLPZl3+UNt1i74N/6eCtqq2B32Rg7mczIlB7Yj3mk+giT+NFYUUh2rHW5Um4ONeUXH0Bd50mFs5yAWmc2weUV6c4t+8jEKg2SkWG/edRNJXBsofMpV+RvyZKfkwkb77TE3FZZZpJCpW8YMwIRFwJLAfqgsck4GYvvZbROqCpvAQIDRhHH7jEH6m7Pi6Ex8jH/Gcd6Csuu+Jyz6Y92y8wfeXrYe/uTAUBb+6IDy+k+cXm608uflHyhv3LzrEYGrygn/vVdZYNyusHXZe9+dywbTWJ8wUAwkTqaNwWOCUEVm4nQuMJLEcbwGUwT47trDYG0GMs7hjo6Kq8SQbTRxl409udNgUpEcsInmcRyZFQPuohvUrqEtihrax6G2bZET5Ci0S8ChnYJnxzUnbGgfu9S3puMFe1dhNzG5Zvu7TYwfxQaFJbgroqBlLLQLKNrkzihZkcughNUdH1VugYBjR4HcBSgCGpP4oGf+BTqcq7bqn4mVLDhNK11c1+TcJu4wOXe7/exDm+mOznzfEkt/N2F75EvvilOuGfAnbI3t6XfTrppw8IqQEi9BRkz+knL2IbCJidfdnXYb+kHuvs92nZO9sw9JA3uKQhpZW1prlZr++Ex/u/QqWFNMil8S4/v0XRDVFbToOztio827kfCdUR5p0j7jgP+lX5NnW57ObRzSm2PoPH4SdlS0M1YRRTHfuBac8PV045psUlFBAdA4iLuX7lZHsauJ5NDxHqchT200vvWdnbaLEeYXfs2YbY8XPsMvtrAB+2tMpBhBjgpGzg3JDVl6RICv0XY21o/wSWyFHbZ9YdM29IGv2nzzzatcveda4efIlP0I9NrwZc7DPtrXIDs2TebGWsiIfwrfxub0ydgjb33ic7XPmHZOPrqJ77BRNmQcxhjgM9s2ZFyRIb8YRdGAL5I886OuOQrkyu7ohi9gF+RLt5G0gf7MIWTDFtu+nmyME9cdVvDWR4UDfZE0kDVbJzfX5Rv0mz8gE8l7xETsWT+32mqr+v9hGE/Oy48ZG65lfPo/u+BX2/Of8Rwybtsku5EssCvyIuuw5aa8BhFzRsRz4kZyb/oxNuE6rqf41oa/9H1zBDsz/o3nZhIYSa4VL23cmWeTXUkvGSuudI0PsQQbiOuSJXtojhVzORvuWhHMzo1j/q0pLzYhATW2JM3OSf5k7Jq+x98plLKPiazO0U82bjUUeTs/WbX1jlhhGXYxqk5dwxjyXX1hF1ZyNNtJHxJXm8+K+9g3PbuO+ErxoAvHkrm5ntzNA451/q5HZR3Dx7F9fkl/+Sm64rfczDHu+dyYx4xdczW9NOd4MaYY1veN1aY8tCseeWTT7Nh8ouDTFW/wIeRLTsZ+E9dVSOiH9oa98zHsK3Bt9sx2yJ1u3TyIeCjaqR+O1T++k58L/2rMG5P8mvm239wtDiAr7RFzkaF28SV06LtkTq/epzP2oO/GNt/vmDbiR7IWNyjWNCErfp1+9MXn/A0bbcZ8XUT8om+O5atcX3utAHK98PVshmz4oXbsZd7jE/SRnpuwfW03PxhfTfiuQW3UPnv9iXmcexDkoC/GMTnQtXmSLNrX4J/NMfTNbuna6mz9dE03HPgh3+NrnMPYZUPh9+iNnIw180BX7EsmjiETbWm3g9ydk89q2mwbvoCM6bR940vM4zx0155b+UXjz6qr2FNOnGbOIycyUpNgz8YI2zE+/Wt+ccNnxx13rP6bDsnG3+x6UEFxKsyZok/SYBqKPrWg879vKwsu9FzY1mXvA3cu7RT+xh8fUF79sWGFoSQZjARm3333rc7eHfv2BJgkS4oo+rir2S7KdBFFH3cMJQmjJjFdKFS60+ZumVeSJEkyGlH0sXpfEpokSbKkiKKPG3ij3kQZB/1v/SfJbVi1bL37C+rKnXnrrXXrJtNN5q28all53ryy6jZvLK/Mgk8yCVS6LQ11h9WjGlnwSZJb7qZaxu+uoDtFSZIkSZIkSTIqWfSZS/Q2j75llQ8uKgvefMsG0O0NoyfFaluXvQ/4fDlwr8eXzt2A1tmx7HvggWXfF29QRvlB+SRpY0mkZZ6Wlrcfw0iSpRWP2VhKbEyMe3PfJEmSJEmSZG6TRZ8kSWYEVvl4FtbzwMOeRU6SpQV7aRx99NF1b4il4Zf7kiRJkiRJkvGSe/okSTIjsPGhX3mwGZ09UPptrJgkSwobSdrwT1FylF9isQGoQqZNEq1em8yePjbA9CsYNgu0IXSSJEkyMWzqa4Nw+2fkaskkSZYkVm7bPN+vedlAenGRRZ8kSZIkSZIkSZIkSZI5SD7elSRJkiRJkiRJkiRJMgfJok+SJEmSJEmSJEmSJMkcJIs+SZIkSZIkSZIkSZIkc5As+iRJkiRJkiRJkiRJksxBsuiTJEmSJEmSJEmSJEkyB8miT5IkSZIkSZIkSZIkyRwkiz5JkiRJkiRJkiRJkiRzkCz6JEmSJEmSJEmSJEmSzEGy6JMkSZIkSZIkSZIkSTIHyaJPkiRJkiRJkiRJkiTJHCSLPkmSJEmSJEmSJEmSJHOQLPokSZIkSZIkSZIkSZLMQbLokyRJkiRJkiRJkiRJMgfJok+SJEmSJEmSJEmSJMkcJIs+SZIkSZIkSZIkSZIkc5As+iRJkiRJkiRJkiRJksxBsuiTJEmSJEmSJEmSJEkyB8miT5IkSZIkSZIkSZIkyRwkiz5JkiRJkiRJkiRJkiRzkKWm6HPTTTeVv/zlL+WGG27ovZMkSZIkSZIkSZIkSTJ3WWqKPldeeWU54IADyo9+9KPeO0mSJEmSJEmSJEmSJHOXpabo8/e//71cfPHF5Y9//GPvncHcfPPN5bDDDivHHnts750kSZIkSZIkSZIkSZLZQ+7p04df//rX5Xvf+14t/CRJkiRJkiRJkiRJksw2sujTh7XXXrs8/elPL7vvvnvvnenFSqTf/OY35cYbb+y9kyRJkiRJkiRJkiRJMnnmTNHnX//6V++v0Rn0nWWWWaY86UlPKptvvnnvnW4mcl3Hdh2/cOHCcvzxx5eTTz65/OMf/+i9myRJkiRJkiRJkiRJMnmW+ddEqhYzDL/Gddlll5Xf/e53dYXMvHnzyv3ud7+y5pprlrvc5S69o27hV7/6Vdl3331rIeexj31s/f+1115bizuOX2eddcqd73zn3tG3/NrXueeeW/f2edjDHtZ79xauv/768tvf/rZe2+crrbRSXRl0r3vdq56vic/tI2Q/IdfD3e9+93LPe96zfudvf/tbOe2008o3vvGNsvLKK5cnPvGJtR13utOdygYbbHCbNiVJkiRJkiRJkiRJkozKrC36XH755eWkk04qv/jFL2qB5h73uEctrij8KJZsscUWZY011ugdfUvR5//+7//K/e9//7LccsvV1TUKKoo3K6ywQnn4wx9ett1227LiiivW4624ed/73leLSe9973vre1Docd3zzz+/nsfLde9973vXgs2DH/zg2gYo+FxwwQXluOOOq3sELbvssnWlj3+1941vfGM5++yzy5FHHln+8Ic/1O8tv/zytXC0yiqrlD333LMWiJIkSZIkSZIkSZIkSSbKsu9aRO/vWcPVV19djjrqqPLzn/+8bLbZZuXJT35yeeQjH1ke8pCH1BUyVs4oxFjBc7e73a1+509/+lM58cQTa4FIUciKH9/ZeOONa+HnzDPPrMWYBz3oQfV4x33zm9+sK3Ge+tSn1veuu+668q1vfav8+Mc/LltvvXU9h1VAD3jAA2oRSgHH31bs4JJLLimf//zn6znsD+Q7j3rUo8pGG21U9/DZcMMNa9FIYUd7V1111fKsZz2rHqNdq622Wm1TkiRJkiRJkiRJkiTJRJl1e/r885//rMUej15tueWWteDj0SyPVvl3m222qcUVn1sF5PhAAcWKnmc+85ll3XXXLauvvnpZb731ym677VYLNYo2NlPuh9U9Z5xxRn087HGPe1wtKjnHQx/60Pp/hZxzzjmn/gtFIyuKtt9++/r5Ax/4wPpSnHr2s59dC1QKO967613vWlcZKUgpBmlXrBhKkiRJkiRJkiRJkiSZKLOu6KOIYlXOWmutVVfZWCnTxP+tpLG3j+KQ4wNFFPvvtL+j4KOA9Oc//7nuD9SFR7V87vEsj3B5DMvfXh7Huu9971vbZHVPFH2sCPKYlpU7d7zjHet7QXvPoSRJkiRJkiRJkiRJknEy64o+9tq54oor6kbIHofqwn45VtDYR+evf/1r793+3OEOd6grf2wMfdVVV/XevS0eD7MvkILO/vvvX17/+tff5vVf//VfdZWPcykEuba/rSxqb+6cJEmSJEmSJEmSJEky3czKn2y36mZQIaX52agFlzhnvz104jMbNm+33XblRS960e1eO+20U9lqq63qKqBrrrmmfk8BKEmSJEmSJEmSJEmSZHEz64o+HtGyikdRJQorbTyGZWNk++2M8pPnCj5W5vgVLyuIuvBYmEfGbPBsDx4bSHe94mfW7S/kvPGz7kmSJEmSJEmSJEmSJIuTWVf0sReOjZMVU+zZ4yfVm3j867zzziuXXnpp3TA5fr1rEFdeeWU5+eSTb90MugurfDxO5vEuvw7W3CuoiV/4snm0fYL8PPxFF11U2zkMK4kUlHJlUJIkSZIkSZIkSZIk42DWFX384pWfM/fLWccdd1w56aSTbt23x0+jK94ce+yxdVWO45q/gKWocu2119a9e2AFjl/4Ouigg+r7m2++ed+VPrDCxy9r+QWvI488su4tBOfxk+1+Rv7444+/tSDkZ9qvv/76+v73v//9WhCCgtWpp55aVyRBYcpLoSrOaf+gCy64oP6dJEmSJEmSJEmSJEkyUZb51yxcWhKPTX3ta18rF154YV394xe5rMJR+Fl//fXLDjvsUAtDNlOGX9V617veVR+98hiX463IUTCyWug5z3lO2WKLLWpRCVYMvfWtb62fffSjH63v4fe//305/PDD6+qdOJdikkKPa/kVMD8Zr02+GwUi7XJNK4ZiddJb3vKWssYaa9TVPd/97nfL0UcfXd/XBu/51a/nPe959b0kSZIkSZIkSZIkSZKJMCuLPoFiy/nnn19/NcuKGgUYq3vsqxPFniZ+gcuxVtQowlgF5GfW7cVj8+Um/Yo+gUfIfvrTn9bVO87jUa5NNtmk/nJYE+K199DZZ59dC0/arJ1+bt7KoWinQpa2Oc4xfgJeu1ZcccX6eZIkSZIkSZIkSZIkyUSY1UWf6SSKPoox++23X+/dJEmSJEmSJEmSJEmS2cGs29NncWHfHwUfK3iSJEmSJEmSJEmSJElmG1n06cBeP2eddVbdI8jGzUmSJEmSJEmSJEmSJLONLPq0UPA5/fTTy4knnlh/dn2jjTbqfZIkSZIkSZIkSZIkSTJ7yKJPi2WWWab+8tZ6661Xdtlll7Lqqqv2PkmSJEmSJEmSJEmSJJk95EbOSZIkSZIkSZIkSZIkc5Bc6ZMkSZIkSZIkSZIkSTIHyaJPkiRJkiRJkiRJkiTJHCSLPkmSJEmSJEmSJEmSJHOQLPokSZIkSZIkSZIkSZLMQbLokyRJkiRJkiRJkiRJMgfJok+SJEmSJEmSJEmSJMkcJIs+SZIkSZIkSZIkSZIkc5As+iRJkiRJkiRJkiRJksxBsuiTJEmSJEmSJEmSJEkyB8miT5IkSZIkSZIkSZIkyRwkiz5JkiRJkiRJkiRJkiRzkCz6JEmSJEmSJEmSJEmSzEGy6JMkSZIkSZIkSZIkSTIHyaJPkiRJkiRJkiRJkiTJHCSLPkmSJEmSJEmSJEmSJHOQLPokSZIkSZIkSZIkSZLMQbLokyRJkiRJkiRJkiRJMgfJok+SJEmSJEmSJEmSJMkcJIs+SZIkSZIkSZIkSZIkc5Bl/rWI3t+zhn/+85/lb3/7W+9//+aOd7xjudOd7lSWXXbZ3jvjxXVvuOGGMm/evHqdZObwj3/8o+rmLne5S7WDJEmSZHZgbv373/9elltuufTfSZIkSZIkY2ZWFn0uueSScuSRR5aFCxf23rmFO9zhDmWllVYqm2yySdloo43KXe96194n48F1v/3tb5cHP/jB5ZGPfGQWfmYQp512WjnxxBPLi170onL/+9+/926SJEky07n00kvLMcccU7beeuvyoAc9qPdukiRJkiRJMg5m5eNdVvlcfPHF5cYbbyz3ve99y1prrVVfijDnnHNOOfjgg2sAed111/W+MR5c9ze/+U255pprys0339x7N5kJ/OlPfyq//OUvb1cI7IdVQUcddVT5zne+03tnZsHGvvKVr5Sf//znvXdmF3/84x/Ll770pXLBBRf03klmE+4FHH300eXrX/96+ro5xBFHHFGOO+64qt+ZBL/961//uvz1r3/tvZMkSZIkSZKMi1m9p89DH/rQ8vznP7/stNNO9fXGN76xvOc97ylrr712+e53v1vOPffcTFiSTiQZX/va18oPfvCDctFFF/XenTl8//vfrza87777lptuuqn37uzhW9/6Vl0VR76zsf1LO3/+85/rakqr537729/23k1mO26G8C0eh02SJEmSJEmWDubcRs6rrrpq2XLLLeveLhdeeOGk7hxaIWS5uZVEydzEo38777xz2Xbbbcu6667be3f6YEs//OEPe/8bzlZbbVWe+cxnlve+973TtkfVdPKMZzyjPO95z6uPazTbb7WcFVkzDUXAX/3qV3VvkZnOX/7yl3L55ZfX1WrTxd3vfvey6667Vj1aRRko4FllORP5wx/+UH7/+9/3/pd08ZKXvKQ87WlPK3e+851779yi01/84he9/yXTjZjkiiuumNbxmyRJkiRJ0mRA0eesss9O/12W73wtKGf0jpqJrLDCCjVpUbyZaBLnDrdHGs4+++yRVyhMZKn8klxWP+jao7ZrSbV/Mtf1nX7f8yigwsrmm2/ee2fq9Lue1WYnnXRSmT9/fu+d4dztbncrT33qU8t97nOf3ju3ZTLyCKby3VFRVJNc3u9+9+u9c0uxwuqqH//4x713BjPRdg46ftBnfIQVLVZBjLIy0LkWhwy74NOOPfbY8qMf/Wgk3zaVtj7hCU8oj3/843v/u6U4YPXk5z73uZHlNC6G9cNjt5/+9KfLtdde23tn+pmKbIcx0fOOerwbIk2f53vnnXde2X///Xvv9GeqfV3c3x90/ETONdV2N1H0toKTv5kNBeYkSZIkSeYGy75rEb2/W1xRTj3iwnJy73+3ZeWy644blzV7/1vcXH311TXpecADHlDWW2+9262EuOyyy+qqinvf+95l+eWXr/+XhPplkDbuDLvLaRNowd0JJ5xQvve97916Tnfk7K+y2mqr1evaM2jNNdes57ZiQXHICoHrr7++JupdmztbSq8NP/vZz8r5559f9y6wssBqpOYdV7j799Of/rT+konP7Oki0fIIkvdWWWWV2tZBSMisBLDxtHO4A/6Tn/yk9tPeN67rJei0oumss86qe6/oH3n5rIlk3ef6qh1dx7kmWerf7373u/rSBt/1WnHFFcsyyyzTO3o0tM91td11nY/cFPXav/BCF2T12Mc+tt5J1VfJjP75v7Y2ZW3ljeIDeSsQNnFd5yIXqxokktrfb+Nu/dZGfXe8drpWbCR++umnl0MOOaQmzeyIbNiEfvTT5ZVXXllXqrHZppzJXrvjWtqvbcN+8UafrrrqqioTL9+VgKy88sq3+y570z46dh02T74KDoPk0ES7XMcv3TmPYqrHvbz8X7/JwXHGTYy3WAlkDIStuR4ZhP3QnUeOyN136Zdtaqu/YxyyO/30mXP6jr6Se5yLXE4++eS6vxN813mNZ32NdrHvkB/b0DZjyee+08Zxxp+inb5H+/SPvbV91iiwff5J0qj9XuyEjFZfffXeUf8ei/SmrfwNH0YmYZOjwIfSudWT5GRMHX744VUO97rXvaqd8y1kGuflQ405NuR4f2s3GbGFgG7oGL6rjcZQ+Cw6Ml70L/xm2KzjmzZIt1/+8pdr4Yd/1Gb9d71mf7VVm5wv9o+x8f+wsdOEbM0JfINzaRNbYc9NO9AW4/ce97hH5/nZsP5qg2MQ9kpvvmvO0E+yaGLuC53rKzmyN7JxrkHzw5lnnlltgf5Arvbecj5zGp02xxx9snVtJWdjlu2S67B5CL7ve+xfn+iTPJy7+X3XdA2PbK+xxhq9d2+RN1lqJ1s2htlTewz5Pn2wHZ+7nuO11/XoxnhhA3TnM/J1jqY/CNg7243x7m/zL/k2j3U+/dIf12X3XtrJfskp9B++RtFWv7zfHr/swfXYKLnRVT8fkyRJkiRJMipzqugjwPSZpEiQ9rjHPa4GWvam8Fn7V0EEZV/96lfLKaecUjbccMMaPEuqBNISOsGcAE6Qr5jg3AJyAZ4gNAJogaH3XUPg3CwuCOKc8/jjj69BqQRQEO1aAmxJh0Ql8PmBBx5YCw0+V4ASnDre9yUYG2ywQe/obiQUZ5xxRg0wtc/fkgnBpHY6h+KDvlndEEG1YFjfPc6hj7Ahr9UZzkUOXgJqbROcR0JClnQiKYzA14sMXVeiqK8S6VEgN7qxQoZ8FQe0UTDs2nTZTKYEyI7znv7SjXNEQkQm2hu6IYOPfexjVWcSjUA/FixYUK9L3uxAP8gIzYQErmPDW/KRaCoASl4knGzTr4oddthhtS0Cfe10PonDOuusc5vktYlzOC9d0BUkGIpH+sdOtIk86GTjjTeux/RDEmJjaLqjU22gF/174AMfeBtZzp8/v7bVMcYG+2M3/i+x1O7m8V2w3y984Qs1maF39u/utsRJ28nW+VzHHlz0ol02mnVNcmS7jjFe2FnIQRvoR9+9728bcrNf34Nkix9wXfbimopv+sIGJb10YGzGLwE6b+hH+40zRTc24dzf+MY3aiFEO+la8Y0OYtw3k1g2ZD+jhz3sYbWgpC10qtjgnDagbyeaw3AORTPFAXojF23l66zKAfkah9/85jdrW9mdxFdb2QB7k7g2E+Z+2E+KDh796EdXuZCTogyfGtfWH+dTCCcn9m6lZBSMoohBngpgUXgnv4MOOqjqnV8l21NPPbXqNHwFuya7+L7xbzzTFZsxxvSdzWgfW9JXdu1lrGoX2H2sMnN+etN+1/B4Z79x2CRkq6366f+Sdn0lF32L5N152T9Zdf0alT2v6Mi8wxYd7z06Jlt6c17tdN6m36EX/TbmbcqsiMAPOZat+/XKfnzwgx+ssjefGYN8gjEBuiITfdEPL/v/8EPkSe58qUK8IgSbHwSfzRbYrPPyuXTo+3Tl++FH2EBX0cf41T/fZwPhN8iHHwo71i5zj/MZ587F3v1LtopE9E53dMiuHUcWbE1hM8ajtvHn9ONafId2kwGb9uuQ0e6wK4Vsfsj/XY+d0aP3+S3tpFvycA6yiDFE/lbU8T/0yQ7oMQpU9MKPNIumSZIkSZIkE2FWF30ESYIjAZmgT1KpSCJIEhA/8YlPrI+XCJ4FWA9/+MNvc+dXoiAIdMw222xTP7Pywfkl7E9/+tPrT7P7+XeFmSj6CLh9x34lm222WQ3qBXICb0l6BP6CRwGhJFaBavvtt68JlPMJbAXUAnUB5z3vec/6HQmdwE9QqvDiO9qgP4JJ/ZYk9HvsBxINwbFjYTm/pHDTTTetSTI5SdYEvM5tyb/PfE9BQaCq/9BX17X3zWMe85gafGqXc0ueyUFAK+FT4NEfcvHolGP9vL1gW18F7ZKwKBT1QzIlafYdbbevyKMe9ah6Lgm2YN21fBbQJRsQKGun9tKN70hWJJQCde0VPLuGhJIe2AWc+xOf+ES1F+ewpw750K/vC+idN5IDAbkVBhLXHXfcscrY8a5Jn/Tkmg95yENq8uHvV7ziFfV666+/frW1fnfL9UeCK4GTHEmg2AVb14YnPelJ9TMFG4mD9g5CoUKiFHLxXbJyDe1rrnZyHdcnJ4+YsVltZpNsXJLMZgfhWgoqCid0bmyxYXbD/p/97GfXc5Kta5PDF7/4xapbxdrtttuuPOIRj6jX0mdJlITQeehOcUCyxN7Yq+PZiDHHHiXK/IC+8gNsUaFF+61iIjd6oxPtIUP6esELXlCvKxmP4ogxr9imjcbjFltsUc+nbxJBdkBWksGwDYmuceNa7IovIXPFGn1idxMt+mivNtGb9od/IlfvK2yyXUUQ/99hhx1qcu9zfecDyZHu9LWf7QX6bKxKSMnBOcjceAo71qcoErNxY0q/7AdE9mRLJ9pFDpGosyWFOj6cTPSDz2APfA5dKuA59ilPeUq1Qf1gV3QYPtC1yJJdsAW+gr61jT60i//51Kc+VX0ruwv9sTu+UHHA9QbBvxkrCtH8nus4jzZpB3+r/9olyVdIUITQT3NLE+c64IADqjxe+MIXVhsxRygKOKfHItkgHWub4qFzxryiUMNX67v5j+3HY3j6FL67C+1X4CJr36c784DCxmte85oqNzqj6yj4O97+Z2RkXPi/VxTU+qHAwZfwL+QePtz19Mk4YKfoKvoYV/pq7uVf2ZPP2RN5sXf2ArpnFwpW2m8OYlPO5bzkSEds4slPfnJti8/4I7JURIyCZOhZ2571rGdV3xp2rCBDbnFdPsa8wFb103Wd2/nYMb+iz7FqkFwVJs1DbEgbndu1zMluEDievMzJ/iYb80W0L0mSJEmSZKIMX589gxEkubvmbqCXYE0i89znPrcG0xJvdyQFV4JaxwYROEoiBHYSKgGZpESi4LsCLkGu95pI9gSO/hWMC8gE684hQXVOSJBc03Ha4ziBu0BbEiMxcoyESADbRKD74he/uH5HuwSZEk4Bp8LWKOiHwoigVZCpH9opAJU4CiolC9rjM0mihFqAHAjsyYcc/C3BEdQKngW7EqkmZOBajvcSpEsYXvSiF9XjoxA1CImCgN916U7yI5kSSJOBhMXdYgFyGxuVShKbunEeAblEXOGpHwpeigm+7zuSEv0l+ze96U01OfjP//zPeqxkVeFJQK49gnft85I4uZ6CApn5m116hVycVxIwKoo+2hby92/I+WUve1nvqG60WzJIv+SiiETfu+yyS9Wfwmcbyb5fxNN29kcHklHvuwM+EaIgEnKQ4IQcyIecFNXoXGIniVUk1U5j0Hgmb0lxE8kTHeuXxEkC7lj6ozsbSbN97Xecc9EPnfEHYPvaJYlVOIgxr71xZ13y7m/j0ZghewmjY8meTNiO9jSR1JOvsa9tEvndd9+9ttU4nihN/0SG7FJbI8m36oRvcBz7dR3+Rlu1WxFTWxU6ov+jwn7YDn/KbkN/xpfP9FMiz3+8+tWvrse6LjmyG+22esLnAbvUDnJR6HM++nr5y19ex7u/9UM/9YNN8Ff8q4QafJk20AmZup7z0I120YEVNwoY9OdabM7YcU3+kF9SGBqEAt6hhx5aZesXI41xbfIy9hUlJOX66Fzs5S1veUst+iicNDFPxbzD9hUOrWZRMFCUZaPsle9ky3yq9jfxfYWG3XbbrbZFn51PMXhU2BDbJ0M0dapopV2KSorZ9KdN2hYF/UHwjeY141AhlY0az/7/nOc8pxYeyVMBrB+Kl+ZFeqNP33d9493fseqtCZ26ieE6dMyG6FgRmw8j37AXftT8qFDU1L92sXH+g3ziuuYeNsjO+ZAmriMmcA3nNt7YhZtBzi/e4GvIgZ0o+LfHr2IYnIMdO0/EDsZtkiRJkiTJZJnVRR/JhEd0bODp9ZnPfKa8/e1vr0GqQDYSKwGYANAdP8E7BMxekjGfTQTBWDMIcx0BtKBYMUWCCgmYZNLddgllE8mvQNpnAlJ3DJsINNuBnutKEqIPwyADyVOzuGBVhGRCUB8Jd+B6PmsWoCR5zbZLoiQ0EhF3qAWzw3AO53W9doDdxjkV87RLwtO+u+m6igL+tRKoCT3ol8+aCLC9LKkflGS4i+v6khLn0Nd4Oa82RbBv1YSVChJAwT19BtrRlOs4oDcJi4RRscvqiGBYQqAtiohNWeoTvdKflRttwkaaSHgk0lZUjRtJItnTuTETcoeEix0rBjbtjS61M1bJkbuCiBd5aX/T9n1OBs4R5x4Gn6GYIqmTtDX1DONeMig5ZhNNHGullLbE/42FKCaNE31SQFawZY+KE822+pu/kcTyN+1keaqQkcKE8xtroT8v+tAm8m8XL+hP0SLGC33xW/5l174bxLkwit+BIpNkmv27ljZEu1zDqiB/K+z1w7X4LP5Dos6PNWXrnBJ1RQSFWXMAFB4Utth24FyKQP5VjPCvAg6fy+ezlWhfnFdhwk0Nq1kCbY95yHEgG2NnXJibjD2rpBRktQnsd9h13PxQ8DJHa1f0yYsPMVfy8+2bHQE74WujcIn4vmsbjwrh7UIr3TRtxrGuB0VI4y9wnHHCPsKvK0KaX+mOfNG8rlVb/GXzxggc3/Sv7EMf6cfYGDTvBM6hT24UNeMBNtG0tyRJkiRJkokyqyMJwa5gyL8R+PbDXVB33awoEFi5My+I94jEONAOiYsgX4AIj1II+iRCXQieJZLaNcqdd+fXT9eYCv2STueOhK2JgFX7LFVfsGBB2W+//WrfJgI5KL5JTAcVrQTUkv9Bjw9FgthcNTAuyOD1r39958v1JA2RBEjYJF9e040+S4CsdCB7j6FZNWXlUltf/WD3klcJpAJprFqaDKNec1TYl3O+//3v75S95I7smwUqCekgO2G3sQ+Ix0TsleXxsYmgkGO8SMi6YC/aYPyz63Zy16+gzA9ZydB82TulqwA3CpJn11cAU4jqQhslsuSo4D1KIjoqikjsi23utddet9Pf5z//+Tqu+ZDAuFGYaxd2mxhz+uVRoYMPPrjss88+vU9Gg2/VTwWIdpu83v3ud9fr9ys+BOYKxYMoBLTRF3biPCFX71nlqCBoDyAodLgpoKASON6Lb2237w1veEMtdpJv09+RmxU004lig9UrCiN+3csNFmMpbmoMQlvNU5/85Cdv1ycvxVRFl1gV28ajWr6viNb1fUU6dkwvwzBGvfoR8oeCNr9u9VfXdefPn1/thV0Ngz1ETDAK/IiVimyVrNm7+XKYbSZJkiRJkgxjQNHnYWXvg99RFna+di6P7h01W7CkW+ImqLNCxN1uxRh346YLSY5gUxA5CJ9H0DnT0AcBuJVUElNBrMKDVR8TIQJvfR1UMPCZ16AgPRjlmMngUbSul8cM/Dtd1x2GpNMjOlaWSOBthKt401xJ0A9Jisch7CUi4VJs9HjXTCFkKulpy92L7L2aq7giqepCoqTAoNhgfw7FFPvPDNrvpIuwRfLuR/Pztm33WxGhCKpA03xZjTLoOsOIaw+yz/hsmE+aKHFej09Z/dbWn0cFvaysDPS1X8FUXxQoPUqoWMfGreKwym8iuIa28fPtNsWLXbX33WlDXlHYmQhWF/muR6UUS4xBq/SaBRvtY8dW9HS1z4vsYsXL4sTjRx5JtCKKPhRxrFSK1UzDcFOlX3/Ivbnypgm9sQFzTdf34+UxqHHiul5WbXVdz4t9iyfGDV/h8TSPjIpNrOr8yEc+Uh8ZnOqNniRJkiRJlm5m9UqfiSBYF7i6M+jOqX8F2YPuMk8V+x64k+lObxcCOUvLPc4QS9BnGlaT2GBXkUfwL+iV2PVbTdAPSbfHEyQug1ZnuPtLV7Hyo4sokI2agDmPVySA/ZCA+FzAbW+Zrpe9mOA4r1iZtLhgJxKpl770pfVfK1HcfR50N1iyaXWP1QZWGOy555517w/7ZMwU9Is8rd7pknu8RtW5xyMUKY1vxa3ddtutJnITtVvtoV8rY7pgVx4NMZb1oV8Rqk2s2mq+JHyT9Ueuq3DErykqdI0dxQfJuhU5HnUxHsYFH2bsKoyQc5fuvKwaGQUrRTwey//w06961auq/1aEmAgeYWRX5NHVnnjZO2UQfIMVGO3HegKyZQP04HqB7xlz7NFeSgonzcfZHEtm2uemRFfbvPgdqzCXBArECjT2oGO3Hj+yUnbQjQr9Nlbpu6s/8Wo/ihsolimCkGvX97zIhM2PE4/TRXGvnx17VHG6CnD6bP4hb4VBhWB7DDUf7UuSJEmSJJkoS03RR4JjTwt36ATe/u3aoyMQwHclThNBsmJZvjt1XcvYJRAehxAYu4s90xBwKxRIej0e1+/RhmGQo8KXVVbuzNq7oh+CXrKQ9NkItI1zRZsUn0aBnO0l5Nr9kgwohAj2Bdn9iL0W9EFRj/4swR/GVBNsumg+yiDpsF+Gdkjy+z0mATbosSb2by+M2GNmSSDJ7Xo0QjJJNwqyihJdTCTx8RiNgqqEe5RCQ+inPeZjQ2B7mnQVb+nEBtOSs36PgI0bMpRws4lAomrcKAx4NKW9dw48IudxGateJMvN4sSoKFY0rxso5JKB1VXtfVYCBdJRH1Vh0x4lYhdstrlPSxf6Qnftx+N8T0FHYc6KxS70Z9AYZhv6Z3WW4p/iTxu24VfezCvNQoQinj54zNCqJTZpw+YoXmo3nXnxLf32WnLNUR6rmgxh8+0ijus1C9r8h7Ybp9o5aPWJog2Z6XPzsbQmZNZlS+DfFGj5rX4FV21r63uq0B2fapzwIV24btMXTwT6Zk/t8Yumftmt4qB9nxw7ymrOJEmSJEmSfiw1RR8oKAgkBe8CcXen20iIvQTgAm2BreSjX+A5CEmgu/fuitqTIhIx5/SeFTSIX9SaiUgIBJ0KZRCokk0ExALV5sa+gnAJVBQh9NXjdH7aXBLgEZtBCIglFlYi2LfBZslRJPCvBPuYY46pSYFfcWmirQo8kVi6tscqrPjwaz9WCgy6Wx6/XqOo5LGg5l19/XVd70NyIBnVf3q0KiECedfSbsl3IMnzuV8dU9SwQmdQ0tOGPF3HXfaQh+9LviQSbHsQjqGbZpJELoH3+yWc40Q7PVqp7a7pEQZ/S8y9YlyQfSSjEmX73Xz2s5+t/x8FdhR9dh4vNhx2632rXugECjtWlxnnklRJluIFX+AX5LTBBtr0F8muIpRfhvIvW5johvCTQTJoFYVr8idsnY2zJ2NGO8iXbhU6wcb058gjj6wy8OtG+jsZJMRk6ZcPndcmtTbtJWsFNp8ZIwoskez7V0HE44j9CgBtYrUFHxw263rsI6C/GAv2uKFL9uR4slGQVWyxIk77PObn8ar4juO13UbFw/Z6UiizGousyTF+kQlswp5RrkkGNh1vohhnhYjx5fHC9uoUq8k89qYN/GSzABXFIiv1BhV2p0IUoMiLTIw944CsDz300FoA0Vef0beih+9EobQLhVZFcXOFR0rJLcYzOenP5z73uVvHUhc21GcvhxxySC26RgGKz+Vb7TPUVYCbKh4xVdQx3l23acdkxL7JYTKwa3MQn8e/mAvEF8avVW1slP7JWz8d4+9Bq2OTJEmSJEmGsey7FtH7e9bgrq0AySNHgmiB1CgIEP00rhUrAnjJUxt3ZiUTkgcrTRQZBH7uYkssJC+CeHc9m49ySDQUPwTGAniPFWiX1USCRYUPxQT/Cni1X+BsbwN3hyOAFth7DEByZePjJoJmSYsExgab/dAGQaRENe64Bj4TZMYvo+hX4Pz6Lbi2dN51fK7PEhKBqvb7vmMEvoJgfSQTAb5g3L9+1lZiqL3k51yCab9+4+9BSLQVACS2Nrx1bdclF+eSXNv3oPmojkRF8iW5VYCJ431fYiyB0KdIcOjEqhJtd0cV2mVpvcRYwqNvVmnRl/NJXHwex5OrIgaZeemvY11TokSHsYcMOepHHMcWJIeu3yUPSRc5u5bzSI7YjPZom3N4sWmPL0kc+8nVnXn99l0FAS9FFLZObhJLfbYSSkE07K/rkRd9YzsKIYP0aDyQmSIa2wgUVoyTkK0+0aexbFWNTXu9R8/0aPw5znfIgs1GoiQxM9a6CqbGHvtxLgk6mTlf9Jl+9NW1jWMvNst+XY9+YgWeAqNEjT/wPhlol/PxFfZYUlBsFt4U58iVnMYJXZKhfZn0ja60S1GCrSn86LvPtFOfTjjhhKoLcrMnjsdThhUJcdRRR9UxxlcG/Jprk1PYIJ/FVsiLnMjI567vc2OC/MlYUYQtWsmjTdrMJ7RxDPk5hzHtpehqHEiE+TZ6dE1jiy5do+l7HMemyMS41W52RV50xzdpK3u2p8+gR3a0nS2Qv+9ru+uQf8hWEZpsw8cE/m+csjnHuBnQHDs+N/b0V7HM+Z2bjSke82vmCHJyrD11+MiJ/Dx7YNyTlZ9dD9gOfZEN29cf8wTd+5vfIi8vdsXvkVe7uNVE//SJvvTFHOL7xgWZ+b952CNU5j46oB/zFX3B+c25rq9t2uIcZEJGxrLVtAqhMabdVPD9pnx9xu8qQtFh8zM24ro+i6KtfosNXMNnYU/sRf/ZgLnEWOBjFA75JnJsnltxS5v0w/gwLumPbNmqc5OH/vG35EA/rhGy4ufYLh8zapyTJEmSJEnSZplFif7UnmFaAjSLPvEM/jDcLRNIuXu344471iStH4oEzi/JF8RJTATz7tRGsNou+kh8HC/IlZgKCAPXFnhKdLVdsCrwF/A2zwHJsmBf4BrFhcB5BLzaNCjgF1RK7KPo07yzHEUfSX676OP8+qego22BO48SR3LRbwGvvnqUQ2FKYq/fgmJJg8TOuVyDbgT/VjONkmi2UbwSdJOL5F5wTnbtxAoSScmBftMV2UoKrX6Q6DSROPtlHO2yV1ETbbcihA04jr5cW/LbvksPx+h33P2VNJCtgk6zz9omCSBfdkt2XYVHuD49SWIkBCD/KKxJECU77GBQshr4rsKJNkgu9MX4kWS4o+z/cR3JhnN2JeN0wYbbq6zaGA+OlXS3Hws0DiWybEMyRFaSWHBHbFdCpKhDh5IpOozVKc2ij+/2WyWnSKloIPnSH4kqXekfOza+JHBgv84p6ab/0E+0C+xLuxSRtNMYJbfmWA8kia41TE6Tgf2wgfglrBiT7DTQZ/Jnk/yFMehxSEn0qCgu8A/GSBOFOYUcY1JC67x0HAmvgqrxQP7kSj58BHuK8UCW7EAxw6sLNqufxozv6aMxRbaKKGzC+A7YnBWV5M5W6E+/Y35g53ww+yLDKC47rpmsD4P9S9T1z/fI30qepq20ISu2o7360A82qEChD9pNvuy0WTiNos+2227be2d0FM74HKu9mvDx5MpvGivmO/6ATBUoFKHNHfTMHiZiR2xRoYfO9IlNhc3EzQ4y5ZsUOKLoE5CF4hy7Y098uWJvsyhtdaXxEEWfJlH08Z2mvSCKPr7X/kyb2Itj9N11zT/igbCX8NNR9Gmi3+ZTOmT7YYfs2vypv3yNgj1bZuNxIyXmEvIgq/hukiRJkiTJZJiVRZ/JIEHcd999a+D2kpe85HYBWjI1BLKKPu7GvvCFL6zJ+ExGItGv6JMkSZIkSZIkSZIkc4GlZk8fdwHduXPHOQs+yVJS60ySJEmSJEmSJEmWYpaKoo+l9TbDtFx91F98SuY2HmewRD8eL0iSJEmSJEmSJEmSucZSkfHak8B+AJ67z1/BSOwl4hd4Yq+YJEmSJEmSJEmSJJmLzPmij40fbRprY1YbDCfTgxUzNua00eVkfw56ceFXWrTR3k5dmxUnSZIkSZIkSZIkyVxgqdnIOUmSJEmSJEmSJEmSZGkiNzRJkiRJkiRJkiRJkiSZg2TRJ0mSJEmSJEmSJEmSZA6SRZ8kSZIkSZIkSZIkSZI5SBZ9kiRJkiRJkiRJkiRJ5iBZ9EmSJEmSJEmSJEmSJJmDZNEnSZIkSZIkSZIkSZJkDpJFnyRJkiRJkiRJkiRJkjlIFn2SJEmSJEmSJEmSJEnmIFn0SZIkSZIkSZIkSZIkmYNk0SdJkiRJkiRJkiRJkmQOkkWfJEmSJEmSJEmSJEmSOUgWfZIkSZIkSZIkSZIkSeYgWfRJkiRJkiRJkiRJkiSZg2TRJ0mSJEmSJEmSJEmSZA6SRZ8kSZIkSZIkSZIkSZI5SBZ9kiRJkiRJkiRJkiRJ5iBZ9EmSJEmSJEmSJEmSJJmDZNEnSZIkSZIkSZIkSZJkDpJFnyRJkiRJkiRJkiRJkjnIMv9aRO/vWc9f/vKX8oc//KFcd9115c53vnO55z3vWVZaaaVypzvdqXdEkvybf/7zn+Vvf/tbtQ/2kiRLM3//+9/LP/7xj3K3u92t3OEOeT9gujH1/vWvfy13uctdyrLLLtt7d2bCT954443lrne964xv6+LipptuqnJZbrnlyh3veMfeu0kyMW6++ebqB9gQX7A4EPvw9/PmzRtL7KMPf/rTn8qVV15Z+3Cf+9wn4+4kSZIZxrLvWkTv71mJwPmiiy4q3/jGN8q3v/3t8sMf/rCcddZZ5Wc/+1n990c/+lGdiCQxq6yySllmmWV630yWdhQIP/vZz1bbWGuttXrvJsnSybe+9a1y1FFHlU022aQmssn0osB20EEH1QTJzYmZzBFHHFGOO+648pCHPKQsv/zyvXeXbi6//PLy5S9/udz97nevN5iSZDKIQ774xS+WP/7xj+VBD3pQ793p5Ze//GU57LDDarFmqrHPDTfcUE499dTqI8TfZ599drn3ve9dVltttd4RSZIkyUxgVt/OXbhwYTn88MPL/vvvX04++eRyzTXXlAc+8IFl8803L494xCPqpHPFFVfUYNUxJqYkCSRdv/71r8uf//zn3juDEdxIihUXk2SucdVVV5WLL7643gUeBePm0EMPLT/4wQ967yQTQcJ1ySWX1DvuMx03Tn71q1/V1T5gI9/73vfK17/+9bpKYWmE3i699NK6wjiZHq6//vryne98p5xyyil1VdWSgI6/8IUv1FhhOhCH8APG2HRx7LHHlqOPPrpeC2Jn/RIzTwU3XS+44II6D1j59pjHPKbG3yuuuGLviJkLH3bGGWeUr33tayPHgEmSJLOZWVv08QjXV77ylXp32vLUN7zhDeWDH/xg2XXXXcuzn/3s8pznPKe86lWvKh/+8IfLnnvuWe573/veOuElyWT4/e9/XxPcI488svfO9DNdT1/Ooac6kyWEO9P8r4Tst7/9be/d6SXtdmagOHj88cdXX+ixjomSehw/c1GmCtHs7Pvf/371N0uC008/vc77J5xwQu+d2YW416qe0047rVx22WW9d8eDQo/ir5VuL37xi8szn/nM8vSnP31WrJzmt84888xaDGNnSZIkc51ZWfQxiZmEOez11luvvOlNbyoPfehDe5/eno033ri8+c1vLo997GN778x93EU2kVmCnoyHNddcs2y33XZl9913770zvbiDbhn2uO8kGz/uzuXdrWQqWEn5ohe9qDzlKU+pRfXpxkq7n/zkJ73/JUuS9ddfv+y4447lZS97WVl11VV7746G1UL06LGWcWC1wnSukpgNmOvdlJhrrL766uW5z31uLSTc61736r27eNlyyy3LM57xjDr3z0bsrfOKV7xipGKMWIMd8bWjoNCo4H+Pe9yj3P/+9++9O7OwosdKqnafbPfwxCc+sey2225ljTXW6L2bJEkydxlQ9Dmr7LPTf5flO18Lyhm9o5YE7lZ4VEuwaUXPqM/TD9unYjJ3yqbj7ppzTvW8Jm7LVs8///zeO5NjUDtGbeN0yGgUJnPdQd+x0eLjH//4+ujgICZyXcd2HW9Zuzuc7s4NCsD6fb8fEi7P3NsDa9Sl3RM5fz9GPcc4rjVOJtqeiRy/uGUymfP4Tr/v2fB56623rnsAjYt+11PE9lilx3kHMai9w5jKd4cx6nmnev2JXGeq19poo43q4xwT2QiW/zn33HPrY7LjuLuu2GPF70y9uTFVGWPYOcRDn/jEJ0YufI2jTdNBV7vsH2W+deNu0MbA09kncebTnva0WoAaxLjbMM7zPepRjyqPe9zjBm7CruDjUToxRzzGOQxtZHc2hF7SG7x3yUvB55xzzqn+xtMBTbTXHmXkYoP6fjjvZHQxyncme+4kSZLJMGAj5yvKqUdcWE7u/e+2rFx23XHjsmbvf4sTk5ENmq3yUaV/2MMeNqXJxt3Gn//85+WnP/1p3RDaBOZ8go3mL9iYPNzREGApHgkyf/zjH5df/OIXtcDiPUkQJCjO97vf/a7vHQTL413Ps8+CZo7/6quvrhtQC4ovvPDCcu2119bzNjfOtJxW3y1NFYxor7umjnfdlVdeuS6DlhxJ7n3Xyg7t1p8VVlihd6bbo0D0m9/8pt7Bd7zzes+KEOcVdLm+Z9v1PVaLdP1CmoICuZpwHUdGftUhZBRoo2u6nhe56ptCh7ZPVLeeVW+2z7n137XbbSRfy8bXXnvtuhknuzrvvPOqXuzXoM/NX2Vhe/Sjb+2729psVY5z0IW9pOi13V/EKiznIh/XozPn1w59sEeV5eTaLqBip2Ro01coCtFNyNf16HfQhrBsmL3ah8O5tE27yd0qpibao13RH8fTxUR/acgdNudgC/7Wt7Zc2ZT+hfyNDTIii34br+uv8aXtTfvxXvRF38iH/Np6iPFsNVV7/wF7R5At/fiXrrRRewL/d10ycsdQ3+wPwAb0he02x23ge87H7sPW2JP2kEug/85vY0z61bewp4lsRs9++BNjWdvokQ70penfEGPxSU96UpUjWyE/cpIQCIybY8h7dIa2DI0f33VO1xVwD/olRftL2HSfvMmEftkaGfKNJ554Yt03QpvJiTzIiDy8R65kFeOJL/Vd/nOYvPgw/Yg5gN3wk3GTgJ60p2230AaPf5Bp++YD/xJj3Biid8dps/PQuX5tuummtY3aQFfa4DPnG0XXfIExo/10Zu+dkFP7+3Rp/iBnftJ3tWdY4YZtm2u22mqrW+cQNq9PdB8+wdjRB3qPOcy56YKOXPeYY46p32WD7IIutbWfbfSDLX/1q1+t19Mm9hjjxPVci13x1W2fRQ7Glb6HnskjxpqXuUj7zUWOaZ/DuDXPbLjhhreZ59mr/vF52ua8/EyX/QzC+dmPF1nSVdh0YLwaF8aY84cMtIFeQv+uz47ZiHPpW7RpIv58EHTPdsnMtdv+hczJgh/gk8E/0RPbJ3u+U9u1C86pb2Gn2moMOZ49uQYZ65cx4HirTtrXBp/GZhwXOvZyTdeLNrXxOV2SO/kb876nL9rkc2PK2PM+HbPHUcYujAE+xHi3JyU9GT9kyTeRZXN8NuUcMgliXmP3TX/tfHxirJbiz9iVlT82j+av+SI3mshV2x1DXhFztGH77I8uyEYbfVeb2JZrals75qRf8mKr4TO1jR24LvnSqfM6v7a1557AOciLj2U/+i6O0gY4p4KPfpAjf+VvutZe5zdWmzYJbRADOa/zh//Wvq4Yi+6dSyygDfrOZnyHbNpFJfLR3rB745HNTsRukiRJJsqsK/qY8CTE/t1iiy0mvSyTUzfxfPOb36yrhky8HHQEWFD8iCDNxKNAILEwGfiOiZWjl6yY+Dl8AQck7CZQy+AjgAlMSp/5zGfqhKQPJkbXlIx7bM1E7xoRaJtk4ry++/GPf7y21QTuWW3PVJucBCEmLvtsRFDkOJOKiUv7HvCAB/SdVPz6gn65oyUwjyDYd7XHnd2TTjqpnl9i4eW6PvN4XQRaJj3PSeuLwIRs/K0tAvBm8nzggQdWmZogXce/5GISNRHqY0zgwxDU2bRbG7VBcKj9dCqAJsNmAKJtbIlMXds1IwH0t+RPASGCbOc7+OCD63Ue/ehH1/cgaLByxrkEFAJUtuV9QWL7DqH+kq87aiFH/dbmzTbbrAZTbEH7BAfxuUDPygq2yr70lez1zbkEab7fD+c/5JBDql4jOCRrffeIDgRkrmNcsCv2J7ASxJAlGdBhM/HohzYfuighIX/BvesI5iRJAjBoh+Pilz/IzljwHntp68x5bEqp/2SsXRGYuY7vPfnJT67H6sf8+fOr/O93v/vV94IYz2S8zjrr9N69JRizaadxQM/+H4GZccwnwNjSBi/jiS7om7yMW991bNPW+Sz731ixEv5D+yU1gl53Y0EmzqufkgHnD79EF2SiIDIMdv35z3++6lGi47zkT16ubYVO0xdoC3/Gh/BdjtV/x5Mr2/AYVwTHxic/ZnxKVgI6IkPjgUzYqPazO77OL7s0IRP2TiZ8BXvXFnrnr8hC4O68+kSv9G1s+ZyP/tKXvlTvUpO/cetzx9FtO+BuYryzEeOHTWgjffOV2qm9xoz+W23Qljs7+NCHPlR1q3gT0JX9bshe3yWD5On9Bz/4wdX+6UOiZTz5V3vZIznQl3a3i7FtyFa/6cv4Zx+uSb/k0rR7uiUn48y16UYxMPralSgHXUUfbaYrupeQkZ+bDfSuLXTJdvTlkY98ZJU1/+k7bIn9hP8xt7TnyUE4N99CV/rC78a52Kj+KAjxEXx1M2mG+YjPNj/H3EqOxpxzxMs5jf2Y39l6jJl+RR/zj3PTO19Nr/6m23XXXXdo4UdsQkZW6rIF13F9fYnkVZv5GPOsdrJDn5m3/J+O3MygU7ZHFsaZz/h9/7JFPmDQ+JgIbNG8wW977L6dpLNLtmF1BTmGDyUrthhFevJmD+YY5zRXsh1j2TmdX9ygGOdY9qzvbEGf2CGbDD3xYa4rbmHvdOY6/C4b5Hu1lz/pQkHJWDaWzCV8EL9Mnsabf9m4c4kF/cuWjeumf+1HFH3oXX+0j871RTv1jU2HnppyJpPmXBzzmvHqsxhTfqWUT7AyD82ijzHAZs1h2sJO2Syfpw3bbLNN/U6bAw44oPpp1yRjx/KPHvPiK1yTDNqPfRn7Vqa5TvhM44yPJ1v6pCd68S+ZxLwRc49zsH/foVt2z4boig+nf3Lij7xv7uD/ok/0aAzxYa7HJ0ecyZ84jt2RI7v0otuYR83tzSKR+IV9G5t045qOjfYYi3F+sgofQbdiHuemE+1qxgxJkiTjZNYVfThMjtoEKEnqqrqPgonVhGHCsgGd/X4EQCYLkzZnbzI10QucImk1Cfnbc94e9TFpmQAc71wxCZsQvvvd79ZjH/7wh/euegsmFEG67/rM5GXSMMltv/32NbC2gknAb0IygWqHScOkKBgUIJgk3IXxHYGn48jEJGuCFDgqKvncEmlt6xfYwKRlghLI+AWGJzzhCfV7En39cz0y8L42artgjEzcsYl9PUyqJj3JNxmRq/YIqgVt2hqY+AQar3vd6+q1yIQOvBeTrPebE2wXAiByESTRpSKGcylGCUQEVeRDppG0CDoEnSZxQaZn3l2L7CP5g4AAgkzHswdLgqH/kniTO5k89alPrXIR3AucJHom8rijJQAXDLELetl2221rUiIQljhqh/ZKIshAAGA/AX3SLomHYFUQKpGycaL3fY9NCOD6IdkQhAm26fhZz3pWXS2nz9E+8maL2um6YYtk4DvGngCMPQ7SibbYRN13bKiurZJmQajvRvLMTvxstXPtsMMOdVyRn/4raGqr74GeFDEEeYI++opf6qNrgZ9g2XlgHAvI2ZviQBPypxsyEfAH2mJ8agddOq++O5bP0Hay0i4Br2PZ3vOf//yqI8f7XEDtGq4byY+gc8GCBfWaTd3rL9+xwQYb1H4JCCVzxpM9cwTq7Jh9GEMC9WHFbvK3sb32GYN0SU5koe3kwsabRcIo+kgKjV0FRu0jf300huieHzEG+Ct+zP/dLY4E5wMf+ED1Ac3rkqFjyYVNRYFBgsLe2Lm+GldshSzYqsCcP2WDEmDHvfzlL6/npDc+UV8E6GT/vOc9r/5rPGkffUWBsQtFCL7N3jTa6zr8Jx9hrOkvP27eoYd20YecJdTaGbIkQz/lzWb8sAA5+i49Kz44v/mLPRvHxrlxa4WVtmuDccZ++c72NZvQlevQU/hktmKMhD+Jcepnocn/Na95TZUzvWq3OZTN6ms/yKhd9GEv5MKm9EsCoxCj/XxL6F3CRB/GAbvVHjJyjITSceaxYT6+CVsz7xpLCiLGKvk5F/myGTJgA8Zyu+hjHvMiN3YG45sP2WWXXap86IIf136fmaebxYGuog/5KqyxOXvR8E90SLbmV7oetP8gtNk5JK3GIRnRqzHGLvRXu9iQ6xrPEnp+L2Tgc2PD/GS+0Vfnsi9N0xYlo4PsayLom1iATsikXfQhGz5HjEI+jtc2un/BC15Q32evYhz90n7HiAPok0/QZvO24px/xRXmet9lz+Yvdqn/MafxD4rK4goyYJ/6bOyQA5seZP/mcXp2fm01bhUp9JX9sxXzqHNpt7hBIk+2g+KtQB/5Vj5WrMBn8iXOZ15wbb4g/It+u7b2Gl9N/Zlz6Jqtam8UEMjL3CJ2Q7Pow66cQ9u1wZzFllzPGOAjujA/sWVtNy522mmnKmO6ZcNiJTozPzThM8Xe/EgUodivPokHnItOjU1/a5P4ik6jLeTCdsS4xpj2Ope5Q1/EefrO/4tf+cIXvvCFdY4mV/02B7EVsjBmtJuMzF3z58+vPsZ4iScK2LR2xjxITjGPRezsWmLuiJ31MXSrPxC/iXvJSvymzTFejOmw2yRJknHT/9beDIVTFhRwuv0m6WEI1jhik48EgsMVPJhwTaISB39zzJx4E4FIBBkmFhOfv00KnL7JGSYrgbyAXDAcuKZg1L+eE9cXiZnJTsBmYtAWAa3JyTEmCYFHEwGhYFWAYNI2wbzyla+sAa//C07Ix3n836vf5N1E4B3t0D+To+Ta+4Ivv4xmcjWZmvS0T2AjKQjIcOedd64ycX2yNLG5vna3MXFGG70EyQII39FvidEgBGHuBin4CP7pR7vJx7+CfokXXQgKyT4QoJKdoIHstFeQQpba6zuCwy7YouDPXWOBueuwB6uT2JQAU9EjbMJ13aEUmL3kJS+pwYrA0MvxZCvQ0G6yZWsCkUiq2ZRrsknnoB+BmjazNf0ehPMJNARDAowI+LygqCVg1F57ZbEBdqQ9vsfW6CRWFQxCIiJJdE3tD10IhqJQy/aNMW0R/NADW2Fb/pYICKCtwgBZGyvO+ba3va22L9rvNUqAPQh+wd107aQ77Yi+v/rVr679kTw0Ybu77bZb1R/dk5ckQDCs3WHvZPuxj32s2objjSH2Rm8CY2MMEVTSNR1E8YM9OEafFRT4i0E4RgIraPXy/TgPPeqfoF9hrY1N7yVC+s222KfihfYqrhhv/VCYETTzIa5LlmxUf97xjndUebzvfe+rx0qMjFtJtWPJ0PHayAf4jvFJrmGj/FDoW3/IX1KkTcawY9kQm+PH+dJBKG6Cz6Ib+uN36aWdtI6KZMdc8Na3vrWOF3LUpxijzaBe/yS63td2nzleEZG9Nf1qF3TCV0o0+APfJzfXI18JYhBjVgEm+spW2dhECi79MD9IymMskL22KH44v89Cbwi9ek208GCsk5N+mOf0Jc7Fv4yywqIfkss4lznMXMZvsWuJaXP+aGOu4p/5d3IOf2Zecl5FG4WYfvCb5jF2KUGlH+PHedgoXZsT+Sl+0Ng0T+lvUwYhY7YoMaYDNkZm4Xe0abI3zcaB4pXkXXv0I8atgni0fxDkypfpk76zY5uLkz9bBPvnY9iaWMUx9GK+9i85G+eTsX9jl5+LeMj4Ewvy0WK2YXNkG2OWn6W/sBt60z9xiH5MF2zM9Y0rN2ZcUzv82w/2zI6guOF44zEKIZOB72Wn7IAMzKN8m7iHTM2jYP8Kx2Ioc4e2hF3TiXlL7OT/Ee8046h+qwrNI2ISvoot8d/8mH75nsIRObEv12/CHsyr9M/e6M+NHccb0wphMP7FGtqizc6tnYpL+pEkSTJdzLqijwBPsMP5xwQwUThrL4GcyaEZIEbSbTKRlJpcmpgsBNbNgpOAVbIiyPaCzwUZAhB3swNJnUDD5Cbg8rmgzMQiaIiilpe/TR7aKECS6AcmJUlgJCYmWncJpjLhwsRlom32T1Dp/14CescEJixtaBa2tIOctEUfIkj2/qCAOfA9MpX0Csbc5RmEwFExgPxMpO0AjqwiiZRQSzIDfdFWxzQRMNCfJFWw0QV9mMgFSq7tXKE7wXsEogoX9Oe6CkiCAe835cju3M0cBtkIsPxrRYjkMmQ62SQ1EKRKMiUakp2mDcB13f0jLwWYpj22oQP9d06rVsiDLehz2KjvS9ijKKAfTfkJgNxJlfz6biRM733ve6t+2u2bKgo62q3YhGiLl+shArfA8fFZQI/s19iOAok7jXwD30L/7baH/dEne5M8WGnSbINr8X0SmUGyJytJApuSQLVt2/+NLTJ2XBv6bdom2Dj7MtaauFYTd3D1TeDt+s32O4c+RNIrEDYeX/rSl9bkoumH2cio+lUg0bZ3v/vdVXbRJnoYdg7j0HX333//amts0LXb/R8V13bnHpKMsPVAO5v9pE/JfHvsWnVkfuvSTxO6NI9EP7WfXsk5/h9Iolzbxsds02e+N9m+tlEoZJsKg+a0uDY9NPs8m6A/ditWMG6t+iLfLvh4L/OnedHYD9vXfz7Ve+1ksYnPrT4w57ML9tQcQ3TI3yjMD/IBgQKR9tJN2ETA5tr2uTgR2/CTiuOKafoHNj1s3Prc/GJOahLzf8jYnMvfGItNP823KjSZW2K8ThTXpuemXPVHu9zs8QIdGgtdrybiLDFSE2OHL9BfdjHXYd9kGLBPcjEniSXC5hVd6FNRpj2/0cdk7dqKHMU1duTVPo+2KM6Id/m4JvyoOKbpT7XF3GYMRhGQzegnP6mQHDGCY8fli5MkSbpYcjP+JOEYJdgq5RLydtIxCr4r6FWoaQfbgQDP5NMv4W9iYnAejr0ZECqQCN4kyNpqkldEklxIiiDQEZQIUj7ykY+Uvfba6zav/fbbrwYmviNxDEw+7YBnuhgUsMekGBNXoF8SZAUvjz945EPBayIIgARQzX53QZdk7K4JvXUhMVKsi7uLo2Bilnj1Cwrpml58bqlxW3fvec97aqAmUPFid+yV/U4FQYRVQc5HrgsWLKjLuUftVz/0g62RVb9xQSYKF4pDw4quZCC4tpeCQo1HFdl6BLvkRx6Kem3ZeXk8zBh0vOO8JGCTDeiGoQChT2Ta1R5BZjsoH0S0G84rcNf+YRhv8+fP72yDQp9zDBqT4YP66bBJtG8UXNNr0Hf02di3yqWr/ZIYhQ7+wrHaqp3DkrxB8BEKddpmvzPFu1GTYquBBPcC+Le//e11ZYTAv+3PRkWSzdcrZE2lTxj1++RoXCl8W2ny6U9/uq7iamO1mjvKkmyrrtiStk62r23YpWKitnz0ox+tj85ZkTau8y9JzLdWDEjc+vXHKlL2bIVdl+2bB83Z/HY/6JJOxAP2imqfwyo5fpoPHGbfCh7mJzeYmoWJmQJfYBWVceuxWqtgJcFTnccUAWJuMpcpGLjZQhaBgow5k09vFhnGgXFLP3QJcY99Xjx+Hi83QsQsoyCucc5YMby0QqchU37FXEw240S8zx6szumCrfIDYknx7bDYFNppzox5WQHSynM24hFstu9mz1TtPkmSZBgDsqeHlb0PfkdZ2Pnaufx7G9vFiwndCgDOVkW+OZGPCgfMeQ8iPg9HPVksVRXEuZOl4CApcIcpHjtwHS8FKI+42Nei+bKc1JJuK4+awckoCd2Sgk4k0CYzjz4J7jz6pGAwUUZJsgUCAnF6jaCgi/h8UNLahO7pZljypbBhGW9bd150Z0WWQCHaNtW7OQJ4d/88mujuseBRMuCxq3EEDsPGxqjyk+D8v//3/+pjBGRon4ooUDmHl8DHeO6SHdv3r6QlGDURnizGVbsd8bL3l0eIJkPofphs4RhL2rvawJ60w93CfoxyjakwSP8+o6PQXful7fZyCT1q6zjay784t4DaijDFH4+ajRKU77333rX4oxhraf8nP/nJWoiMlQcTQcHDNRdXoUPiH3tQWGVlNZlVjV1Ji7H2lre8pRZm+GKJp424m6sFp4KxY0WJ/ZE8smYll0TefhfjOP+SJmy1n/2Tr8+s0uuyfS82anVZP5zfeax+9HhJv3N49Mu8OghJMjscx/iaDrTLvjP2fBPfKGpYcadAEkWbqWLetWJK0ccqLQU548Uj9gqjdKGgN53Qk2soFDRfo9wAgDiEXbVXtCzN8LFkMtX4vE347X5jPIg4cjJ+zfi2mtqNAf8qYO2zzz715lg8KZAkSTIdzLqVPpKFeHbXYzNeo9zRRThygYAJ1BLNfsF5rJxQoJkKnhs34dsrJX7BSoATRRv/+lwhQPIrYOx6SWZmcqEnMAm642zjQEmUiU2i7DnnYUFqG4Gfu2TDgiOFIXfryVaBrQt39twhtUpl1ODJY3gKbeylC7Zo1YLAg5106c3Lcn9tVAQR6DYfhZss7EWf7R2hEMB2yFyiNVnIWV8lrv2KR+5ueYTD+BvFHsnHY3ISQYm5O9iKUxJqxSu6IBvFqy7ZeRnv5OZlVdewgKzNqMezUQjIu9rhJZmdDPqpHcOKcmQSqxnta9TVBq/mowptIskbJSCOY0dB+70Erf1wZ9052UdXu70UJUKfXsblOIokzr3HHnvUx73YnVUvo94djyKqRFsfFVBiRYYCifdGkadxyJ9bCbc4Ch36ZwWJ9ikIxF5h/eyD7jyeoK9uSOijjejHlWywXYm0op/VV3yEFT/txyIXB1GEGTU+GAT5eLGFfkX7WDnseoPG7qB9powHBV3+YlA84LNhNw+scOHTFfXGVUQZBHl76T+5j4Ljrc61d41VP+IcvyIlhhgX5GWvFauOFSHZo3nSOPEa90qfNlZ72/dHIT9ekv1+q0naWIXI93gcDmQm9vDeTC2msmOYr6cD8yM76xfvTRb2JzZxg7bLhr3HD7ix6WbfqIW7NuTjWmyez1b8FBd53D1JkmS6mHVFHwiqBa6KCBJdv84wKGnwmZU2ii4weXokwJ1gj7O0MZFwvoKqySZ5gYRW0GGFj7tLAjFJrIkb+mDyVwhwB6orQJUommRGDaTg/I5f3EGBtgpSXF/gq8gSAcBE8dy2frtTNwgylGSSsTv07QCXTAWR2kWfgxLmQAHJ4w8CcM9pdyHAlwSQsdU2XQGOwEwRRZsUE8hDED5saTf5kRvbbeqQTpsrELRBUUlhzTWGbfbovGEbbXsSnAo+PJLW3vAagh2PJ0rgHDeo6NNso+uRkyXNxp2+65cEUdCtENRv7xIydT2y8Py+IEtCPgrkLbBSOGxuaAv6dde3CRmyFUlHvxUik01e2ai2Cybj2f4utJct82n9HgPhswatYCFv5yDj8Hlt2LbEwXGjYNk7mWmf8/cj9gryiFU/fxX7bTiXsS0ZG0Wu/fyI8RVI4Phb9klGcUe4H815Q1HWCgqP5SqmhIwVhFyjvb8b2EoTRVMvtjVsL7JxwBbcKVZIkzwP0k2zaKU4Z58aNyUkwO3xMRkU7wJ68Ms/VunRW7P4Nmg+oA/z7yD7bhI3Epp9C/hu5+t6rHiijxpbFRKbK/crtvBxfCi993ssnI8eVGDjE8mMXuPR4DbO4dGt8M/Rnra/Jhs24djmvoL98H3Xa48Xtj/okbTAvMqu2o9Sge9oF2CbY1O/+SJzhIKXm2TjQp/c9CELK9HchFAg9Yi9OWImQ+58OF/txgjMI+RsHmnHHOQ+2ZtKxqWXMdO2pYkiRqfb2FOqiTi3a7xOBL6FXYvTu8ZIE30yZka5pjFslZ14JOapJsauseSmAnsa5Mv6Qb7RlpirrfIXMw37gYYkSZKpMCuLPoIcwapfbjCxWKZuPxzL+iWUAiYO2yogn9kbJH7NBhJvwZsgdcGCBbcGGCY6weDhhx9ez+MXHgY9RjEKghkrMkzSJgyFkObKkfjcnQsJhJ9kjuDZxCD5PvTQQ2sgOeoE47hYgSIAE9CbIO3lMCgBGgeuTT8CuuZkLAi2egra0kwyTIISj1gFIUCjS4kjucUvG/WDDBVzFGcskZXQxrkERZZ12zTPZC45aq70ISNtiSTD/wXblplLPthJPxvQV3dc3dn2CAO7kdSDLbFDz++7gyMYUySxCsH13J1XBBRQ6z/ZOEegjYI7gbKE2DFkSIdswWasbNX7ggVFLQHEMHslK8kAG3Nu35fMOK8CpY2afc7mmqsV6Myye8fFXcpB9kiHxp1iKx04j2BU340/bdUW8nUeP9tNb5EssFN7AHkkLDawFOgJkOy74qfbw56c23h3zSZkQTcCQwXesAlj2/XaiSVbU0yW4LluM0mhS3rkRyYDmSqICOrozuOP+qqf+qGvkDSyUdezT1SzcMBWjAt3qn0+CAUs59JP8gqfQv7GiMIZn+PRuzbNgqQxrA2xasbG0P2SXvDLiiYCYz8R3pQh+3UetgUBtgKNNnnMiG0Zf2ySPj1q1SzMGT90KJGgO+003oylQw455NZkh5/1vnNp6yA7JWMylZSCnZOtogX7BDtyLjpybfZGnlbIsKs27uSzJbbCpuPc/h1UzJsM+mYs8QHh27UtihqSHeNC+40ZeolxoK/kJHkZx2oHcxddROLiOmRJXu05j17YPfsiD+2id/q2J5H/a/sw+H3XMdcbT3w2vZCBlUzkwt7pjXzowPhrb8LaRMJHXuC72Aff54aNYuKgwpq91lyTPbKX8DH6wo994hOfGJiURxJobPI3xgA9Bfph/JBPYF5jB3yt6xlPYhr+wupKsjeXmgONR/ogJ/492qK//KQ9BJ1bH+DfT33qU9Ufhh33w3zlhho90IHrk7n5xc05bW9i/H7hC1+4tQjgWsa9f/mucSGGMk75GoUeKzqtyoqC4UzBOKA70JFxZDwZE2JRekYUHBzPv4R9kDN7cVNpMhiTdOi6Ckpslo7Ib6KwOXMvfRo/xpGxzsbY4bBCzTDo0jXEdmybL2FD5Kc437Q1feIj9IVc2bw5LcZ4E3GXuZNMzVV8QYwF8uU7nMcNKLHfZBDrhg/i8+BmncIeH5MkSTJdDF4fPIORALgjZiIUkAlgJBUmLoGTYINT51T9a6KX0MHnii/+5Xzt4SDh9X+TE+crYHQn1N9TRdIgODXhSJbbKyQs91bAMsGbEAV7JiqTjfa4Ay2RmgjuYLkzJLmMxFFgSA6DkqCpIpByB18CJ6DztwBcMGo5rGDU5nUmVhM3yEVgacL1fcGGwFEfXvva19a7RsNwrL1CJLMKfQJ95zLZO58JWkAu0QzoW/Ch2CJgdn3/11b2Y58Py7IHIbmjO98TLFudRF9sju5cw9Jy9gVJgyW9kagKLOgj7FTCCMcLTCUzEgWJkmOs6mEL2ux6jiM/wY7jBfmDMD7IQuFFUqpQ5bqCbH31mBo5atv8+fPr566tL44T7Ni/KPrTD+NGwVEyL6Fk885Brh5Hi8Kb4NWjIBIZY5H9R3JPb2wm7MT7lkJrV+gsAnc6YzPkHbgGeSuIsQlJqePpSnGrfZfXd/WdLNmvJE3bve/82jNMvv1wDv0QTOqjQF77QveCPZ/7v0KY/vNrxkUUILRB2+mIfxgEuflZe/Jna86l7yEnK2w8eslWA7asTeyCXbqutimisJfXve519XvD/IdH+ehIUVPi6zz0Hu13tx3Owx/xD5IV32EH4bsda/8SRXH4OWMFAcVEdqxt3iM7unVHXELEb9IhO41HIvpBzuyO32DTrum7xn4UUL3vOvYoc23/dw32yD/Zt6qJZGe33XarhWPjiEzp3zhlQ34Sn37GgfnPxu7sm527hnGnAG58aIOEkd1KdiRECoExxsjQqodxtEc/2bbCFp1rC90ag4oYgTmQXsjcjQ7H0Rv7l8hK2IwTvq7pr7tgs3wIOzO3sB398l3zqiKlwju9aR+78r75WMzQBXvwnZiL+C22oGgbiXc/2Oruu+9eC56KbOTgus6jXXxOswDWhfnOY4Z8r3mMr3MOujKGtMucE+PQfEC+TRlYUekGA9nYM4cfkRwrxhg7ZM6GPQ5JHtqn2C2hNdbJh2zpga8yxiSpPhuEOYT+jEUJfvhbbfRqJuNs0HzJJslJf9gLGcc8OA7Ym9XVfJo+iknImB8dpovFQRSXyead73znrWOH3flXoUo8GnObuVXsK95VzCK/KGyIARTe44bIROAD+Hf+wUbs2sVG2BqZTQS6NFe///3vL4cddlgt+nmPbZpjBxVdR4H+dtlll+pf+RCFpbBr48Q1oihDHmwxxjUfYFyYp9poIxl43JBP5T9jjjRvOj9d8KnG5GQwHvgeMUbM4+xem4bFm0mSJFNhmUVOeHqXfiwm3M0U9LiTZbIUUAjOTVaCcBNpF4IdQVXcKRBwKJa07zRx1O5ICYIEL81ggQgF1O4KmGAEXG3cfXGMAFi7unANiabJ3wRjQjARuPMfE48JTYIjIPNozCAkL2TiDoVzCRQkCP0wEemfSa2Na5JP+zPvCfL9ayIEebg7JKATiAiuJLJkoD0CSnISxNhY1B1Bv5yjQEWPgg3Bs+MmOrGSj8BV8CtZJTeTuOt1FfAkGWRO/wJqcpJoCDrb1zYx2zCZ7P/zP/+z9+4t6DP9uza56wNbIvN2cQGuSz5x51U7rWRpBldkqm0CVcdEUKCN7tQqCEnwBCq+5zGUUaEfSSEZ6Y9l9c27TGxRsZDN06FgX1+aydswtFkiqp3GmUCt38opMnMHTLsEmuQhUCeTCIqbOE7QpG0SC7YiSaJHhY4m7IttGQeSS4UrSae++W77jh25C0rJnnz4ErIh+yhAOoaNuR5bcd4m7twJyo3RdkJN52QSj3npK/nHuQN31sOnsV16Mi6sBBDgjoJ2aofz0IF+kGnzEdMmZOVY9sneXYfP8J0IUAN+6n/+539qAdfydHYYGId0xIbolpyjn/5tw++4a+u62sXe+Fk2H301xtisMcZG+HX+lG83HiRAVq443nfZBN0Ng5xdm66NeYUofW72hy0ba3yk/pAfvTu/gpX5IoqTAdtUmKVn44nf54voz/fISGHMfNNVdHFeNqFAOQgrAbXL/GJesjLStSX5kkA3OGL+k8Cza/NL2IJjmn3tgk2QrRsnYevsn02Rtf7Qj2O0RZvoUfGFjtr2agWAZJW9xdgyb1qhpOjIHt7whjcMLfrAfE9/5EzG+mvOMWbYv3FuvNGBsa7PdMl+6Sz88/z582vyuOeee9bxr218D1swB7fnbW1kj3Ta3qeHLZGDsRv+jJzY7DBZB9rLJ/Il+kiHxgM/3PY3rqGwaxy4Ftsng/CdPtdWvoBt6As7NC/GPEcm7JW+mu2ULPOfikjDbBGuZW4jd5CPNpM3f0nm4QOMJXbANxtj2mz88RcgR/Of/mqvtvJLYjbHamebuOHjpp0xxk4VHcQfrgG2yj70VYGgrb8mVr6YxxxrTmdT+kK33uvy7/we2x91vhR70LU2xs0L8yS58S1dvtrYU8wgZ/2hczambcaf/0ecGo/zRjHNWBGvmAfJNSAv8tYWsDdzWL84zPFkSy7GVRv6oyt+IeZeMhFPklv4THZBT+IYRbpmf41DbWX/7DVsA+SmvcYIeTjGOYzX5nHsS7zgXMY7G/OvucScw2e05yV2xlfSCZ3TR9d8jpgzzW/teIUv0TfXjNiHftgIf8cm+WDx2yjzVZIkyWSZM0WfZHYSRR938Gc6AlRFH0lKu+iTLFm4sf/93/+tAVq76JNMD4OKPkkyGSRX7sYrElnh0Ezcppso+uy7776dhfqlFcVE87PNvwcVR2YakmmFNyvKFAIULKP9ihCKYIpZih4KWorqSZIkSTJXucPxP5vaMsskWVpwV0lxYXEmIkkyk4lCTxZ8knHgbjn/apVEv9UFyeLFagcrREZZdTWTMF9bZWFlxnbbbVcfebSaw0sRSLHaCg+rzhybJEmSJHOZO+zwfweXD329+xdekiS5BXegLdG19Lq5HDpJlkbcRfdYVDwukSTjwKMREvFRHjlLFg/mO6tkZps+PM7kcR8FHb7Ko0gBv+VROEVGK3zajx8mSZIkyVyjPjj79i+fUHb5+BHlH/+c2s8oJslcxB4FloF7Dt2jXe29O5JkacMeEfZysK9G/JRwkkwV/tW+F117mCRLBmN8NurDirHYD9EG43710L9eNoy32bZikH3m/Nx8kiRJksxVLPBZdt5Dt3yX//z8sqvKEWf8vGy69hrlPqvkBJgsHmyGadm44Gym4g6ndsJPXNuIMO9Czyzow55LNr7NIsTiwWaUftlFUpgksx0/ImCzcpvz5qNlcwMFH/7JBrn28bHJ8pVXXlk3ybYZu18StNF06jtJkiSZq7z6M18vHzrmB+X/AzNM4r/87TNuAAAAAElFTkSuQmCC)"
      ],
      "metadata": {
        "id": "J0LmWq6T5X2E"
      }
    },
    {
      "cell_type": "markdown",
      "source": [
        "![image.png](data:image/png;base64,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)"
      ],
      "metadata": {
        "id": "Sfv8c3Gh64fT"
      }
    },
    {
      "cell_type": "markdown",
      "source": [
        "###Packages and modules:-\n",
        "\n",
        "Module: A module is a file containing python definations and statements.\n",
        "\n",
        "Package: A package is a collection of modules. "
      ],
      "metadata": {
        "id": "sGvx1kdY9T9_"
      }
    },
    {
      "cell_type": "code",
      "source": [
        "#dir built-in function\n",
        "# It returns the list of strings where each string represents the name of the function defined inside that module\n",
        "\n",
        "import numpy as np\n",
        "\n",
        "arr=np.array(dir(np)).reshape(29,21)\n",
        "print(arr)\n",
        "\n",
        "\n",
        "\n"
      ],
      "metadata": {
        "id": "sjeIvt7B-G2k",
        "colab": {
          "base_uri": "https://localhost:8080/"
        },
        "outputId": "7ff193f1-4939-4c4c-be87-0eb415f82e9d"
      },
      "execution_count": 5,
      "outputs": [
        {
          "output_type": "stream",
          "name": "stdout",
          "text": [
            "[['ALLOW_THREADS' 'AxisError' 'BUFSIZE' 'Bytes0' 'CLIP' 'ComplexWarning'\n",
            "  'DataSource' 'Datetime64' 'ERR_CALL' 'ERR_DEFAULT' 'ERR_IGNORE'\n",
            "  'ERR_LOG' 'ERR_PRINT' 'ERR_RAISE' 'ERR_WARN' 'FLOATING_POINT_SUPPORT'\n",
            "  'FPE_DIVIDEBYZERO' 'FPE_INVALID' 'FPE_OVERFLOW' 'FPE_UNDERFLOW'\n",
            "  'False_']\n",
            " ['Inf' 'Infinity' 'MAXDIMS' 'MAY_SHARE_BOUNDS' 'MAY_SHARE_EXACT'\n",
            "  'MachAr' 'ModuleDeprecationWarning' 'NAN' 'NINF' 'NZERO' 'NaN' 'PINF'\n",
            "  'PZERO' 'RAISE' 'RankWarning' 'SHIFT_DIVIDEBYZERO' 'SHIFT_INVALID'\n",
            "  'SHIFT_OVERFLOW' 'SHIFT_UNDERFLOW' 'ScalarType' 'Str0']\n",
            " ['Tester' 'TooHardError' 'True_' 'UFUNC_BUFSIZE_DEFAULT'\n",
            "  'UFUNC_PYVALS_NAME' 'Uint64' 'VisibleDeprecationWarning' 'WRAP'\n",
            "  '_NoValue' '_UFUNC_API' '__NUMPY_SETUP__' '__all__' '__builtins__'\n",
            "  '__cached__' '__config__' '__deprecated_attrs__' '__dir__' '__doc__'\n",
            "  '__expired_functions__' '__file__' '__getattr__']\n",
            " ['__git_version__' '__loader__' '__name__' '__package__' '__path__'\n",
            "  '__spec__' '__version__' '_add_newdoc_ufunc' '_distributor_init'\n",
            "  '_financial_names' '_globals' '_mat' '_pytesttester' '_version' 'abs'\n",
            "  'absolute' 'add' 'add_docstring' 'add_newdoc' 'add_newdoc_ufunc' 'alen']\n",
            " ['all' 'allclose' 'alltrue' 'amax' 'amin' 'angle' 'any' 'append'\n",
            "  'apply_along_axis' 'apply_over_axes' 'arange' 'arccos' 'arccosh'\n",
            "  'arcsin' 'arcsinh' 'arctan' 'arctan2' 'arctanh' 'argmax' 'argmin'\n",
            "  'argpartition']\n",
            " ['argsort' 'argwhere' 'around' 'array' 'array2string' 'array_equal'\n",
            "  'array_equiv' 'array_repr' 'array_split' 'array_str' 'asanyarray'\n",
            "  'asarray' 'asarray_chkfinite' 'ascontiguousarray' 'asfarray'\n",
            "  'asfortranarray' 'asmatrix' 'asscalar' 'atleast_1d' 'atleast_2d'\n",
            "  'atleast_3d']\n",
            " ['average' 'bartlett' 'base_repr' 'binary_repr' 'bincount' 'bitwise_and'\n",
            "  'bitwise_not' 'bitwise_or' 'bitwise_xor' 'blackman' 'block' 'bmat'\n",
            "  'bool8' 'bool_' 'broadcast' 'broadcast_arrays' 'broadcast_shapes'\n",
            "  'broadcast_to' 'busday_count' 'busday_offset' 'busdaycalendar']\n",
            " ['byte' 'byte_bounds' 'bytes0' 'bytes_' 'c_' 'can_cast' 'cast' 'cbrt'\n",
            "  'cdouble' 'ceil' 'cfloat' 'char' 'character' 'chararray' 'choose'\n",
            "  'clip' 'clongdouble' 'clongfloat' 'column_stack' 'common_type'\n",
            "  'compare_chararrays']\n",
            " ['compat' 'complex128' 'complex256' 'complex64' 'complex_'\n",
            "  'complexfloating' 'compress' 'concatenate' 'conj' 'conjugate'\n",
            "  'convolve' 'copy' 'copysign' 'copyto' 'core' 'corrcoef' 'correlate'\n",
            "  'cos' 'cosh' 'count_nonzero' 'cov']\n",
            " ['cross' 'csingle' 'ctypeslib' 'cumprod' 'cumproduct' 'cumsum'\n",
            "  'datetime64' 'datetime_as_string' 'datetime_data' 'deg2rad' 'degrees'\n",
            "  'delete' 'deprecate' 'deprecate_with_doc' 'diag' 'diag_indices'\n",
            "  'diag_indices_from' 'diagflat' 'diagonal' 'diff' 'digitize']\n",
            " ['disp' 'divide' 'divmod' 'dot' 'double' 'dsplit' 'dstack' 'dtype' 'e'\n",
            "  'ediff1d' 'einsum' 'einsum_path' 'emath' 'empty' 'empty_like' 'equal'\n",
            "  'errstate' 'euler_gamma' 'exp' 'exp2' 'expand_dims']\n",
            " ['expm1' 'extract' 'eye' 'fabs' 'fastCopyAndTranspose' 'fft'\n",
            "  'fill_diagonal' 'find_common_type' 'finfo' 'fix' 'flatiter'\n",
            "  'flatnonzero' 'flexible' 'flip' 'fliplr' 'flipud' 'float128' 'float16'\n",
            "  'float32' 'float64' 'float_']\n",
            " ['float_power' 'floating' 'floor' 'floor_divide' 'fmax' 'fmin' 'fmod'\n",
            "  'format_float_positional' 'format_float_scientific' 'format_parser'\n",
            "  'frexp' 'frombuffer' 'fromfile' 'fromfunction' 'fromiter' 'frompyfunc'\n",
            "  'fromregex' 'fromstring' 'full' 'full_like' 'gcd']\n",
            " ['generic' 'genfromtxt' 'geomspace' 'get_array_wrap' 'get_include'\n",
            "  'get_printoptions' 'getbufsize' 'geterr' 'geterrcall' 'geterrobj'\n",
            "  'gradient' 'greater' 'greater_equal' 'half' 'hamming' 'hanning'\n",
            "  'heaviside' 'histogram' 'histogram2d' 'histogram_bin_edges'\n",
            "  'histogramdd']\n",
            " ['hsplit' 'hstack' 'hypot' 'i0' 'identity' 'iinfo' 'imag' 'in1d'\n",
            "  'index_exp' 'indices' 'inexact' 'inf' 'info' 'infty' 'inner' 'insert'\n",
            "  'int0' 'int16' 'int32' 'int64' 'int8']\n",
            " ['int_' 'intc' 'integer' 'interp' 'intersect1d' 'intp' 'invert'\n",
            "  'is_busday' 'isclose' 'iscomplex' 'iscomplexobj' 'isfinite' 'isfortran'\n",
            "  'isin' 'isinf' 'isnan' 'isnat' 'isneginf' 'isposinf' 'isreal'\n",
            "  'isrealobj']\n",
            " ['isscalar' 'issctype' 'issubclass_' 'issubdtype' 'issubsctype'\n",
            "  'iterable' 'ix_' 'kaiser' 'kernel_version' 'kron' 'lcm' 'ldexp'\n",
            "  'left_shift' 'less' 'less_equal' 'lexsort' 'lib' 'linalg' 'linspace'\n",
            "  'little_endian' 'load']\n",
            " ['loads' 'loadtxt' 'log' 'log10' 'log1p' 'log2' 'logaddexp' 'logaddexp2'\n",
            "  'logical_and' 'logical_not' 'logical_or' 'logical_xor' 'logspace'\n",
            "  'longcomplex' 'longdouble' 'longfloat' 'longlong' 'lookfor' 'ma'\n",
            "  'mafromtxt' 'mask_indices']\n",
            " ['mat' 'math' 'matmul' 'matrix' 'matrixlib' 'max' 'maximum'\n",
            "  'maximum_sctype' 'may_share_memory' 'mean' 'median' 'memmap' 'meshgrid'\n",
            "  'mgrid' 'min' 'min_scalar_type' 'minimum' 'mintypecode' 'mod' 'modf'\n",
            "  'moveaxis']\n",
            " ['msort' 'multiply' 'nan' 'nan_to_num' 'nanargmax' 'nanargmin'\n",
            "  'nancumprod' 'nancumsum' 'nanmax' 'nanmean' 'nanmedian' 'nanmin'\n",
            "  'nanpercentile' 'nanprod' 'nanquantile' 'nanstd' 'nansum' 'nanvar'\n",
            "  'nbytes' 'ndarray' 'ndenumerate']\n",
            " ['ndfromtxt' 'ndim' 'ndindex' 'nditer' 'negative' 'nested_iters'\n",
            "  'newaxis' 'nextafter' 'nonzero' 'not_equal' 'numarray' 'number'\n",
            "  'obj2sctype' 'object0' 'object_' 'ogrid' 'oldnumeric' 'ones'\n",
            "  'ones_like' 'os' 'outer']\n",
            " ['packbits' 'pad' 'partition' 'percentile' 'pi' 'piecewise' 'place'\n",
            "  'poly' 'poly1d' 'polyadd' 'polyder' 'polydiv' 'polyfit' 'polyint'\n",
            "  'polymul' 'polynomial' 'polysub' 'polyval' 'positive' 'power'\n",
            "  'printoptions']\n",
            " ['prod' 'product' 'promote_types' 'ptp' 'put' 'put_along_axis' 'putmask'\n",
            "  'quantile' 'r_' 'rad2deg' 'radians' 'random' 'ravel'\n",
            "  'ravel_multi_index' 'real' 'real_if_close' 'rec' 'recarray'\n",
            "  'recfromcsv' 'recfromtxt' 'reciprocal']\n",
            " ['record' 'remainder' 'repeat' 'require' 'reshape' 'resize'\n",
            "  'result_type' 'right_shift' 'rint' 'roll' 'rollaxis' 'roots' 'rot90'\n",
            "  'round' 'round_' 'row_stack' 's_' 'safe_eval' 'save' 'savetxt' 'savez']\n",
            " ['savez_compressed' 'sctype2char' 'sctypeDict' 'sctypes' 'searchsorted'\n",
            "  'select' 'set_numeric_ops' 'set_printoptions' 'set_string_function'\n",
            "  'setbufsize' 'setdiff1d' 'seterr' 'seterrcall' 'seterrobj' 'setxor1d'\n",
            "  'shape' 'shares_memory' 'short' 'show_config' 'sign' 'signbit']\n",
            " ['signedinteger' 'sin' 'sinc' 'single' 'singlecomplex' 'sinh' 'size'\n",
            "  'sometrue' 'sort' 'sort_complex' 'source' 'spacing' 'split' 'sqrt'\n",
            "  'square' 'squeeze' 'stack' 'std' 'str0' 'str_' 'string_']\n",
            " ['subtract' 'sum' 'swapaxes' 'sys' 'take' 'take_along_axis' 'tan' 'tanh'\n",
            "  'tensordot' 'test' 'testing' 'tile' 'timedelta64' 'trace'\n",
            "  'tracemalloc_domain' 'transpose' 'trapz' 'tri' 'tril' 'tril_indices'\n",
            "  'tril_indices_from']\n",
            " ['trim_zeros' 'triu' 'triu_indices' 'triu_indices_from' 'true_divide'\n",
            "  'trunc' 'typecodes' 'typename' 'ubyte' 'ufunc' 'uint' 'uint0' 'uint16'\n",
            "  'uint32' 'uint64' 'uint8' 'uintc' 'uintp' 'ulonglong' 'unicode_'\n",
            "  'union1d']\n",
            " ['unique' 'unpackbits' 'unravel_index' 'unsignedinteger' 'unwrap'\n",
            "  'use_hugepage' 'ushort' 'vander' 'var' 'vdot' 'vectorize' 'version'\n",
            "  'void' 'void0' 'vsplit' 'vstack' 'warnings' 'where' 'who' 'zeros'\n",
            "  'zeros_like']]\n"
          ]
        }
      ]
    },
    {
      "cell_type": "markdown",
      "source": [
        "###Sys module:It provides various functions and variables that are used to manipulate different parts of the Python runtime environment."
      ],
      "metadata": {
        "id": "83itXbyEglUA"
      }
    },
    {
      "cell_type": "code",
      "source": [
        "import sys\n",
        "\n",
        "print(sys.argv)"
      ],
      "metadata": {
        "colab": {
          "base_uri": "https://localhost:8080/"
        },
        "id": "8b6QWOOvbblc",
        "outputId": "80665568-31af-41d8-bbc0-f545bfd121a9"
      },
      "execution_count": 9,
      "outputs": [
        {
          "output_type": "stream",
          "name": "stdout",
          "text": [
            "['/usr/local/lib/python3.7/dist-packages/ipykernel_launcher.py', '-f', '/root/.local/share/jupyter/runtime/kernel-8dbe924a-3373-4ea1-8fd6-83a8feec8160.json']\n"
          ]
        }
      ]
    },
    {
      "cell_type": "code",
      "source": [
        "arr=np.array(dir(sys)).reshape(len(dir(sys)),1)\n",
        "print(arr)"
      ],
      "metadata": {
        "colab": {
          "base_uri": "https://localhost:8080/"
        },
        "id": "tCZyZScbhNWA",
        "outputId": "39181be5-2cfe-4bdc-b192-dd97ab2bb0ec"
      },
      "execution_count": 14,
      "outputs": [
        {
          "output_type": "stream",
          "name": "stdout",
          "text": [
            "[['__breakpointhook__']\n",
            " ['__displayhook__']\n",
            " ['__doc__']\n",
            " ['__excepthook__']\n",
            " ['__interactivehook__']\n",
            " ['__loader__']\n",
            " ['__name__']\n",
            " ['__package__']\n",
            " ['__spec__']\n",
            " ['__stderr__']\n",
            " ['__stdin__']\n",
            " ['__stdout__']\n",
            " ['_clear_type_cache']\n",
            " ['_current_frames']\n",
            " ['_debugmallocstats']\n",
            " ['_framework']\n",
            " ['_getframe']\n",
            " ['_git']\n",
            " ['_home']\n",
            " ['_xoptions']\n",
            " ['abiflags']\n",
            " ['api_version']\n",
            " ['argv']\n",
            " ['base_exec_prefix']\n",
            " ['base_prefix']\n",
            " ['breakpointhook']\n",
            " ['builtin_module_names']\n",
            " ['byteorder']\n",
            " ['call_tracing']\n",
            " ['callstats']\n",
            " ['copyright']\n",
            " ['displayhook']\n",
            " ['dont_write_bytecode']\n",
            " ['exc_info']\n",
            " ['excepthook']\n",
            " ['exec_prefix']\n",
            " ['executable']\n",
            " ['exit']\n",
            " ['flags']\n",
            " ['float_info']\n",
            " ['float_repr_style']\n",
            " ['get_asyncgen_hooks']\n",
            " ['get_coroutine_origin_tracking_depth']\n",
            " ['get_coroutine_wrapper']\n",
            " ['getallocatedblocks']\n",
            " ['getcheckinterval']\n",
            " ['getdefaultencoding']\n",
            " ['getdlopenflags']\n",
            " ['getfilesystemencodeerrors']\n",
            " ['getfilesystemencoding']\n",
            " ['getprofile']\n",
            " ['getrecursionlimit']\n",
            " ['getrefcount']\n",
            " ['getsizeof']\n",
            " ['getswitchinterval']\n",
            " ['gettrace']\n",
            " ['hash_info']\n",
            " ['hexversion']\n",
            " ['implementation']\n",
            " ['int_info']\n",
            " ['intern']\n",
            " ['is_finalizing']\n",
            " ['last_traceback']\n",
            " ['last_type']\n",
            " ['last_value']\n",
            " ['maxsize']\n",
            " ['maxunicode']\n",
            " ['meta_path']\n",
            " ['modules']\n",
            " ['path']\n",
            " ['path_hooks']\n",
            " ['path_importer_cache']\n",
            " ['platform']\n",
            " ['prefix']\n",
            " ['ps1']\n",
            " ['ps2']\n",
            " ['ps3']\n",
            " ['set_asyncgen_hooks']\n",
            " ['set_coroutine_origin_tracking_depth']\n",
            " ['set_coroutine_wrapper']\n",
            " ['setcheckinterval']\n",
            " ['setdlopenflags']\n",
            " ['setprofile']\n",
            " ['setrecursionlimit']\n",
            " ['setswitchinterval']\n",
            " ['settrace']\n",
            " ['stderr']\n",
            " ['stdin']\n",
            " ['stdout']\n",
            " ['thread_info']\n",
            " ['version']\n",
            " ['version_info']\n",
            " ['warnoptions']]\n"
          ]
        }
      ]
    },
    {
      "cell_type": "code",
      "source": [
        "print(sys.winver)\n",
        "\n",
        "#Colab runs on linux but the above command is for windows platform."
      ],
      "metadata": {
        "colab": {
          "base_uri": "https://localhost:8080/",
          "height": 200
        },
        "id": "d7Hq6ilnigQp",
        "outputId": "863e0c57-e674-4a83-997a-d616cc8f8d33"
      },
      "execution_count": 18,
      "outputs": [
        {
          "output_type": "error",
          "ename": "AttributeError",
          "evalue": "ignored",
          "traceback": [
            "\u001b[0;31m---------------------------------------------------------------------------\u001b[0m",
            "\u001b[0;31mAttributeError\u001b[0m                            Traceback (most recent call last)",
            "\u001b[0;32m<ipython-input-18-8caf00365ff2>\u001b[0m in \u001b[0;36m<module>\u001b[0;34m()\u001b[0m\n\u001b[0;32m----> 1\u001b[0;31m \u001b[0mprint\u001b[0m\u001b[0;34m(\u001b[0m\u001b[0msys\u001b[0m\u001b[0;34m.\u001b[0m\u001b[0mwinver\u001b[0m\u001b[0;34m)\u001b[0m\u001b[0;34m\u001b[0m\u001b[0;34m\u001b[0m\u001b[0m\n\u001b[0m\u001b[1;32m      2\u001b[0m \u001b[0;34m\u001b[0m\u001b[0m\n\u001b[1;32m      3\u001b[0m \u001b[0;31m#Colab runs on linux but the above command is for windows platform.\u001b[0m\u001b[0;34m\u001b[0m\u001b[0;34m\u001b[0m\u001b[0;34m\u001b[0m\u001b[0m\n",
            "\u001b[0;31mAttributeError\u001b[0m: module 'sys' has no attribute 'winver'"
          ]
        }
      ]
    },
    {
      "cell_type": "code",
      "source": [
        "print(sys.flags)\n"
      ],
      "metadata": {
        "colab": {
          "base_uri": "https://localhost:8080/"
        },
        "id": "7Hm1rL6ajQc1",
        "outputId": "75c7cf12-331d-487e-90f5-2aa52e4dbc5d"
      },
      "execution_count": 19,
      "outputs": [
        {
          "output_type": "stream",
          "name": "stdout",
          "text": [
            "sys.flags(debug=0, inspect=0, interactive=0, optimize=0, dont_write_bytecode=0, no_user_site=0, no_site=0, ignore_environment=0, verbose=0, bytes_warning=0, quiet=0, hash_randomization=1, isolated=0, dev_mode=False, utf8_mode=0)\n"
          ]
        }
      ]
    },
    {
      "cell_type": "code",
      "source": [
        "print(sys.prefix)\n"
      ],
      "metadata": {
        "colab": {
          "base_uri": "https://localhost:8080/"
        },
        "id": "hJUsr-i9kPpf",
        "outputId": "277034eb-cf67-482d-f421-b4ff18325877"
      },
      "execution_count": 20,
      "outputs": [
        {
          "output_type": "stream",
          "name": "stdout",
          "text": [
            "/usr\n"
          ]
        }
      ]
    },
    {
      "cell_type": "markdown",
      "source": [
        "###OS module: It let us work with our operating system using python, we can execute some OS commands\n"
      ],
      "metadata": {
        "id": "65o33OD1k6_a"
      }
    },
    {
      "cell_type": "code",
      "source": [
        "import os\n",
        "\n",
        "print(os.getcwd())\n"
      ],
      "metadata": {
        "colab": {
          "base_uri": "https://localhost:8080/"
        },
        "id": "DVl1x37kkrn9",
        "outputId": "35f0e523-4643-434d-fab0-7b01bf8a66cb"
      },
      "execution_count": 21,
      "outputs": [
        {
          "output_type": "stream",
          "name": "stdout",
          "text": [
            "/content\n"
          ]
        }
      ]
    },
    {
      "cell_type": "code",
      "source": [
        "print(os.name)\n"
      ],
      "metadata": {
        "colab": {
          "base_uri": "https://localhost:8080/"
        },
        "id": "qMtoUaRKlZuV",
        "outputId": "54989323-45c9-4e28-faea-5f601a9196ad"
      },
      "execution_count": 22,
      "outputs": [
        {
          "output_type": "stream",
          "name": "stdout",
          "text": [
            "posix\n"
          ]
        }
      ]
    },
    {
      "cell_type": "code",
      "source": [
        "print(os.environ)\n"
      ],
      "metadata": {
        "colab": {
          "base_uri": "https://localhost:8080/"
        },
        "id": "w7pjijqsluvd",
        "outputId": "947b29ee-5733-41ef-f475-6e4018ddb81c"
      },
      "execution_count": 23,
      "outputs": [
        {
          "output_type": "stream",
          "name": "stdout",
          "text": [
            "environ({'CUDNN_VERSION': '8.0.5.39', 'LD_LIBRARY_PATH': '/usr/local/nvidia/lib:/usr/local/nvidia/lib64', 'CLOUDSDK_PYTHON': 'python3', 'LANG': 'en_US.UTF-8', 'HOSTNAME': 'f7d0c0d50c2b', 'OLDPWD': '/', 'CLOUDSDK_CONFIG': '/content/.config', 'NVIDIA_VISIBLE_DEVICES': 'all', 'DATALAB_SETTINGS_OVERRIDES': '{\"kernelManagerProxyPort\":6000,\"kernelManagerProxyHost\":\"172.28.0.3\",\"jupyterArgs\":[\"--ip=\\\\\"172.28.0.2\\\\\"\"],\"debugAdapterMultiplexerPath\":\"/usr/local/bin/dap_multiplexer\",\"enableLsp\":true}', 'ENV': '/root/.bashrc', 'NCCL_VERSION': '2.7.8', 'TF_FORCE_GPU_ALLOW_GROWTH': 'true', 'NO_GCE_CHECK': 'False', 'PWD': '/', 'HOME': '/root', 'LAST_FORCED_REBUILD': '20220428', 'DEBIAN_FRONTEND': 'noninteractive', 'LIBRARY_PATH': '/usr/local/cuda/lib64/stubs', 'GCE_METADATA_TIMEOUT': '3', 'GLIBCPP_FORCE_NEW': '1', 'TBE_CREDS_ADDR': '172.28.0.1:8008', 'SHELL': '/bin/bash', 'GCS_READ_CACHE_BLOCK_SIZE_MB': '16', 'PYTHONWARNINGS': 'ignore:::pip._internal.cli.base_command', 'CUDA_VERSION': '11.1.1', 'NVIDIA_DRIVER_CAPABILITIES': 'compute,utility', 'SHLVL': '0', 'PYTHONPATH': '/env/python', 'NVIDIA_REQUIRE_CUDA': 'cuda>=11.1 brand=tesla,driver>=418,driver<419 brand=tesla,driver>=440,driver<441 brand=tesla,driver>=450,driver<451', 'TBE_EPHEM_CREDS_ADDR': '172.28.0.1:8009', 'COLAB_GPU': '0', 'GLIBCXX_FORCE_NEW': '1', 'PATH': '/opt/bin:/usr/local/nvidia/bin:/usr/local/cuda/bin:/usr/local/sbin:/usr/local/bin:/usr/sbin:/usr/bin:/sbin:/bin:/tools/node/bin:/tools/google-cloud-sdk/bin', 'LD_PRELOAD': '/usr/lib/x86_64-linux-gnu/libtcmalloc.so.4', 'JPY_PARENT_PID': '41', 'TERM': 'xterm-color', 'CLICOLOR': '1', 'PAGER': 'cat', 'GIT_PAGER': 'cat', 'MPLBACKEND': 'module://ipykernel.pylab.backend_inline', 'ENABLE_DIRECTORYPREFETCHER': '1', 'USE_AUTH_EPHEM': '1', 'PYDEVD_USE_FRAME_EVAL': 'NO'})\n"
          ]
        }
      ]
    },
    {
      "cell_type": "code",
      "source": [
        "print(os.getlogin())\n"
      ],
      "metadata": {
        "colab": {
          "base_uri": "https://localhost:8080/",
          "height": 165
        },
        "id": "b-6efm06mXia",
        "outputId": "b91bcdf3-be17-4dfd-88b2-c340c2c8be9d"
      },
      "execution_count": 28,
      "outputs": [
        {
          "output_type": "error",
          "ename": "OSError",
          "evalue": "ignored",
          "traceback": [
            "\u001b[0;31m---------------------------------------------------------------------------\u001b[0m",
            "\u001b[0;31mOSError\u001b[0m                                   Traceback (most recent call last)",
            "\u001b[0;32m<ipython-input-28-3498f26eab3c>\u001b[0m in \u001b[0;36m<module>\u001b[0;34m()\u001b[0m\n\u001b[0;32m----> 1\u001b[0;31m \u001b[0mprint\u001b[0m\u001b[0;34m(\u001b[0m\u001b[0mos\u001b[0m\u001b[0;34m.\u001b[0m\u001b[0mgetlogin\u001b[0m\u001b[0;34m(\u001b[0m\u001b[0;34m)\u001b[0m\u001b[0;34m)\u001b[0m\u001b[0;34m\u001b[0m\u001b[0;34m\u001b[0m\u001b[0m\n\u001b[0m",
            "\u001b[0;31mOSError\u001b[0m: [Errno 6] No such device or address"
          ]
        }
      ]
    },
    {
      "cell_type": "code",
      "source": [
        "print(os.getppid())\n"
      ],
      "metadata": {
        "colab": {
          "base_uri": "https://localhost:8080/"
        },
        "id": "CsbeLkVCmnyz",
        "outputId": "f6afb69c-063c-4b19-c09b-9d8950ef8711"
      },
      "execution_count": 27,
      "outputs": [
        {
          "output_type": "stream",
          "name": "stdout",
          "text": [
            "41\n"
          ]
        }
      ]
    },
    {
      "cell_type": "code",
      "source": [
        "!wget https://www.dropbox.com/s/gkupm5nrwkhjirw/mdir.py"
      ],
      "metadata": {
        "colab": {
          "base_uri": "https://localhost:8080/"
        },
        "id": "2uAnCOk0wL_R",
        "outputId": "6b2e2147-9784-47c6-8a0d-42e74021c9d7"
      },
      "execution_count": 64,
      "outputs": [
        {
          "output_type": "stream",
          "name": "stdout",
          "text": [
            "--2022-05-03 11:49:29--  https://www.dropbox.com/s/gkupm5nrwkhjirw/mdir.py\n",
            "Resolving www.dropbox.com (www.dropbox.com)... 162.125.1.18, 2620:100:6016:18::a27d:112\n",
            "Connecting to www.dropbox.com (www.dropbox.com)|162.125.1.18|:443... connected.\n",
            "HTTP request sent, awaiting response... 301 Moved Permanently\n",
            "Location: /s/raw/gkupm5nrwkhjirw/mdir.py [following]\n",
            "--2022-05-03 11:49:30--  https://www.dropbox.com/s/raw/gkupm5nrwkhjirw/mdir.py\n",
            "Reusing existing connection to www.dropbox.com:443.\n",
            "HTTP request sent, awaiting response... 302 Found\n",
            "Location: https://uc59a6568f02aedb470d1e403bf2.dl.dropboxusercontent.com/cd/0/inline/Bklizn0OXXHQ9Tp2HrH7r05d-zWaEXfyv_wT0OptkScPfjGRefdTA8sv9e1hDl1Jeb46k6ooOEdBWgl3r2Huohqz4v19vrz2fSoZ7mCqyBmhmcC3a-1fAtmzEtZeoY89B9MjSC1A8jdx8qqlwscD-qqEdkkQ-biijYOhH7hpUePkNg/file# [following]\n",
            "--2022-05-03 11:49:30--  https://uc59a6568f02aedb470d1e403bf2.dl.dropboxusercontent.com/cd/0/inline/Bklizn0OXXHQ9Tp2HrH7r05d-zWaEXfyv_wT0OptkScPfjGRefdTA8sv9e1hDl1Jeb46k6ooOEdBWgl3r2Huohqz4v19vrz2fSoZ7mCqyBmhmcC3a-1fAtmzEtZeoY89B9MjSC1A8jdx8qqlwscD-qqEdkkQ-biijYOhH7hpUePkNg/file\n",
            "Resolving uc59a6568f02aedb470d1e403bf2.dl.dropboxusercontent.com (uc59a6568f02aedb470d1e403bf2.dl.dropboxusercontent.com)... 162.125.1.15, 2620:100:6016:15::a27d:10f\n",
            "Connecting to uc59a6568f02aedb470d1e403bf2.dl.dropboxusercontent.com (uc59a6568f02aedb470d1e403bf2.dl.dropboxusercontent.com)|162.125.1.15|:443... connected.\n",
            "HTTP request sent, awaiting response... 200 OK\n",
            "Length: 106 [text/plain]\n",
            "Saving to: ‘mdir.py’\n",
            "\n",
            "mdir.py             100%[===================>]     106  --.-KB/s    in 0s      \n",
            "\n",
            "2022-05-03 11:49:30 (13.1 MB/s) - ‘mdir.py’ saved [106/106]\n",
            "\n"
          ]
        }
      ]
    },
    {
      "cell_type": "code",
      "source": [
        "import mdir"
      ],
      "metadata": {
        "id": "q0FZGdgmw41g"
      },
      "execution_count": 67,
      "outputs": []
    },
    {
      "cell_type": "markdown",
      "source": [
        "###Math module: Provides access to mathematical function"
      ],
      "metadata": {
        "id": "cC7E414tnQRu"
      }
    },
    {
      "cell_type": "code",
      "source": [
        "import math,mdir\n",
        "#arr=np.array(dir(math)).reshape(len(dir(math)),1)\n",
        "#print(arr)\n",
        "mdir.mdir(math)  #using a self made fxn to display list in a single column"
      ],
      "metadata": {
        "colab": {
          "base_uri": "https://localhost:8080/"
        },
        "id": "G8raDM3bmzaR",
        "outputId": "39592d6a-ad63-4ea4-b273-52948a814835"
      },
      "execution_count": 66,
      "outputs": [
        {
          "output_type": "stream",
          "name": "stdout",
          "text": [
            "[['__doc__']\n",
            " ['__loader__']\n",
            " ['__name__']\n",
            " ['__package__']\n",
            " ['__spec__']\n",
            " ['acos']\n",
            " ['acosh']\n",
            " ['asin']\n",
            " ['asinh']\n",
            " ['atan']\n",
            " ['atan2']\n",
            " ['atanh']\n",
            " ['ceil']\n",
            " ['copysign']\n",
            " ['cos']\n",
            " ['cosh']\n",
            " ['degrees']\n",
            " ['e']\n",
            " ['erf']\n",
            " ['erfc']\n",
            " ['exp']\n",
            " ['expm1']\n",
            " ['fabs']\n",
            " ['factorial']\n",
            " ['floor']\n",
            " ['fmod']\n",
            " ['frexp']\n",
            " ['fsum']\n",
            " ['gamma']\n",
            " ['gcd']\n",
            " ['hypot']\n",
            " ['inf']\n",
            " ['isclose']\n",
            " ['isfinite']\n",
            " ['isinf']\n",
            " ['isnan']\n",
            " ['ldexp']\n",
            " ['lgamma']\n",
            " ['log']\n",
            " ['log10']\n",
            " ['log1p']\n",
            " ['log2']\n",
            " ['modf']\n",
            " ['nan']\n",
            " ['pi']\n",
            " ['pow']\n",
            " ['radians']\n",
            " ['remainder']\n",
            " ['sin']\n",
            " ['sinh']\n",
            " ['sqrt']\n",
            " ['tan']\n",
            " ['tanh']\n",
            " ['tau']\n",
            " ['trunc']]\n"
          ]
        }
      ]
    },
    {
      "cell_type": "markdown",
      "source": [
        "###datetime module: It provides tools for working with date,time and there various combinations. "
      ],
      "metadata": {
        "id": "VdUgQ7YssX_G"
      }
    },
    {
      "cell_type": "code",
      "source": [
        "import datetime as dt\n",
        "print(dt.datetime.today())"
      ],
      "metadata": {
        "colab": {
          "base_uri": "https://localhost:8080/"
        },
        "id": "qFgXuYusnhY1",
        "outputId": "9fdf0ade-0c19-4c78-d4d8-e940f68678f4"
      },
      "execution_count": 33,
      "outputs": [
        {
          "output_type": "stream",
          "name": "stdout",
          "text": [
            "2022-05-03 11:34:55.011968\n"
          ]
        }
      ]
    },
    {
      "cell_type": "code",
      "source": [
        "print(dt.MAXYEAR)\n"
      ],
      "metadata": {
        "colab": {
          "base_uri": "https://localhost:8080/"
        },
        "id": "jhWQ75dmsvzw",
        "outputId": "b521adb5-dbd8-4e42-de46-8026e201c525"
      },
      "execution_count": 36,
      "outputs": [
        {
          "output_type": "stream",
          "name": "stdout",
          "text": [
            "9999\n"
          ]
        }
      ]
    },
    {
      "cell_type": "code",
      "source": [
        "print(dt.MINYEAR)\n",
        "\n"
      ],
      "metadata": {
        "colab": {
          "base_uri": "https://localhost:8080/"
        },
        "id": "TMMEFEdntCjp",
        "outputId": "87805367-68f8-4404-9b9b-ff4d0bd2999e"
      },
      "execution_count": 37,
      "outputs": [
        {
          "output_type": "stream",
          "name": "stdout",
          "text": [
            "1\n"
          ]
        }
      ]
    },
    {
      "cell_type": "code",
      "source": [
        "print(dt.time)\n",
        "#returns a time object"
      ],
      "metadata": {
        "colab": {
          "base_uri": "https://localhost:8080/"
        },
        "id": "rmSuJEg3tVTJ",
        "outputId": "ee684202-11bc-4853-a681-9bd6e13319f7"
      },
      "execution_count": 41,
      "outputs": [
        {
          "output_type": "stream",
          "name": "stdout",
          "text": [
            "<class 'datetime.time'>\n"
          ]
        }
      ]
    },
    {
      "cell_type": "code",
      "source": [
        "print(dt.timezone)\n",
        "#returns a timezone object\n"
      ],
      "metadata": {
        "colab": {
          "base_uri": "https://localhost:8080/"
        },
        "id": "2eDnqTzItZ8Q",
        "outputId": "0033c985-0eb4-49bb-9ed4-9a339fa5a5a8"
      },
      "execution_count": 43,
      "outputs": [
        {
          "output_type": "stream",
          "name": "stdout",
          "text": [
            "<class 'datetime.timezone'>\n"
          ]
        }
      ]
    },
    {
      "cell_type": "markdown",
      "source": [
        "###random module: It implements methods to generate pseudo-random numbers for various distribution"
      ],
      "metadata": {
        "id": "AvkPvdZot7Xm"
      }
    },
    {
      "cell_type": "code",
      "source": [
        "import random\n",
        "\n",
        "print(random.randrange(1000))"
      ],
      "metadata": {
        "colab": {
          "base_uri": "https://localhost:8080/"
        },
        "id": "clcs-oKktpHi",
        "outputId": "05711471-b1dd-4cb2-ba02-eeec33cb3857"
      },
      "execution_count": 50,
      "outputs": [
        {
          "output_type": "stream",
          "name": "stdout",
          "text": [
            "18\n"
          ]
        }
      ]
    },
    {
      "cell_type": "code",
      "source": [
        "print(random.randrange(0,1000,100))\n"
      ],
      "metadata": {
        "colab": {
          "base_uri": "https://localhost:8080/"
        },
        "id": "o-S-MDjFvQeN",
        "outputId": "24154da9-a671-4bdf-b7b9-c3dd6e829b0e"
      },
      "execution_count": 60,
      "outputs": [
        {
          "output_type": "stream",
          "name": "stdout",
          "text": [
            "0\n"
          ]
        }
      ]
    },
    {
      "cell_type": "code",
      "source": [
        "print(random.randint(950,1000))\n"
      ],
      "metadata": {
        "colab": {
          "base_uri": "https://localhost:8080/"
        },
        "id": "RqYfBRxDueMl",
        "outputId": "3884d654-fe1b-403f-83a4-258eefa44f3f"
      },
      "execution_count": 54,
      "outputs": [
        {
          "output_type": "stream",
          "name": "stdout",
          "text": [
            "955\n"
          ]
        }
      ]
    },
    {
      "cell_type": "code",
      "source": [
        "print(random.getstate)\n"
      ],
      "metadata": {
        "colab": {
          "base_uri": "https://localhost:8080/"
        },
        "id": "eZdVCZr8ui6P",
        "outputId": "dd828f0f-9374-4675-c9dd-4df645845009"
      },
      "execution_count": 61,
      "outputs": [
        {
          "output_type": "stream",
          "name": "stdout",
          "text": [
            "<bound method Random.getstate of <random.Random object at 0x1dae120>>\n"
          ]
        }
      ]
    },
    {
      "cell_type": "code",
      "source": [
        "print(random.uniform(1.5681,1.569))\n"
      ],
      "metadata": {
        "colab": {
          "base_uri": "https://localhost:8080/"
        },
        "id": "KtZd31NIvmsS",
        "outputId": "8eb9baf0-0810-4463-e73b-a92cb936c785"
      },
      "execution_count": 62,
      "outputs": [
        {
          "output_type": "stream",
          "name": "stdout",
          "text": [
            "1.568253369952425\n"
          ]
        }
      ]
    },
    {
      "cell_type": "markdown",
      "source": [
        "###FILES\n",
        "\n",
        "![image.png](data:image/png;base64,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)\n",
        "\n"
      ],
      "metadata": {
        "id": "-BOWlFybyQZl"
      }
    },
    {
      "cell_type": "code",
      "source": [
        ""
      ],
      "metadata": {
        "id": "V4l4Ftmxv0bG"
      },
      "execution_count": null,
      "outputs": []
    }
  ]
}